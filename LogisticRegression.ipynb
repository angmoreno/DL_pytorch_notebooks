{
  "nbformat": 4,
  "nbformat_minor": 0,
  "metadata": {
    "kernelspec": {
      "display_name": "Python 3",
      "language": "python",
      "name": "python3"
    },
    "language_info": {
      "codemirror_mode": {
        "name": "ipython",
        "version": 3
      },
      "file_extension": ".py",
      "mimetype": "text/x-python",
      "name": "python",
      "nbconvert_exporter": "python",
      "pygments_lexer": "ipython3",
      "version": "3.6.5"
    },
    "colab": {
      "name": "LogisticRegression.ipynb",
      "provenance": [],
      "collapsed_sections": []
    }
  },
  "cells": [
    {
      "cell_type": "code",
      "metadata": {
        "id": "MDRdayHsN9bW"
      },
      "source": [
        "import pandas as pd # pd is simply an alias \n",
        "import numpy as np\n",
        "import matplotlib.pyplot as plt\n",
        "\n",
        "%matplotlib inline"
      ],
      "execution_count": null,
      "outputs": []
    },
    {
      "cell_type": "markdown",
      "metadata": {
        "id": "m9FYwQEpN9ba"
      },
      "source": [
        "## Part I. Pre-processing a real dataset\n",
        "\n",
        "The [Breast Cancer Wisconsin (Diagnostic) Data Set](https://archive.ics.uci.edu/ml/datasets/Breast+Cancer+Wisconsin+(Diagnostic)) contains 10 features related to breast tumors that have been diagnosed as benign or malignant. You have a description of the 10 features in the link above. In the same link you can download the data set as a CVS file."
      ]
    },
    {
      "cell_type": "code",
      "metadata": {
        "id": "8YBrg0OhN9bb",
        "colab": {
          "base_uri": "https://localhost:8080/",
          "height": 378
        },
        "outputId": "51af9a87-cb01-439a-8fa7-d4b5c56a52ab"
      },
      "source": [
        "''' Data is stored in a Dataframe, a particular data type implemented in Pandas'''\n",
        "\n",
        "from google.colab import files\n",
        "uploaded = files.upload()\n",
        "data = pd.read_csv('./breast-cancer-wisconsin.csv')"
      ],
      "execution_count": null,
      "outputs": [
        {
          "output_type": "display_data",
          "data": {
            "text/html": [
              "\n",
              "     <input type=\"file\" id=\"files-ee8b38fa-e575-4e77-ab04-2d067dd43d60\" name=\"files[]\" multiple disabled />\n",
              "     <output id=\"result-ee8b38fa-e575-4e77-ab04-2d067dd43d60\">\n",
              "      Upload widget is only available when the cell has been executed in the\n",
              "      current browser session. Please rerun this cell to enable.\n",
              "      </output>\n",
              "      <script src=\"/nbextensions/google.colab/files.js\"></script> "
            ],
            "text/plain": [
              "<IPython.core.display.HTML object>"
            ]
          },
          "metadata": {
            "tags": []
          }
        },
        {
          "output_type": "error",
          "ename": "MessageError",
          "evalue": "ignored",
          "traceback": [
            "\u001b[0;31m---------------------------------------------------------------------------\u001b[0m",
            "\u001b[0;31mMessageError\u001b[0m                              Traceback (most recent call last)",
            "\u001b[0;32m<ipython-input-3-e1a50bc84c5f>\u001b[0m in \u001b[0;36m<module>\u001b[0;34m()\u001b[0m\n\u001b[1;32m      2\u001b[0m \u001b[0;34m\u001b[0m\u001b[0m\n\u001b[1;32m      3\u001b[0m \u001b[0;32mfrom\u001b[0m \u001b[0mgoogle\u001b[0m\u001b[0;34m.\u001b[0m\u001b[0mcolab\u001b[0m \u001b[0;32mimport\u001b[0m \u001b[0mfiles\u001b[0m\u001b[0;34m\u001b[0m\u001b[0;34m\u001b[0m\u001b[0m\n\u001b[0;32m----> 4\u001b[0;31m \u001b[0muploaded\u001b[0m \u001b[0;34m=\u001b[0m \u001b[0mfiles\u001b[0m\u001b[0;34m.\u001b[0m\u001b[0mupload\u001b[0m\u001b[0;34m(\u001b[0m\u001b[0;34m)\u001b[0m\u001b[0;34m\u001b[0m\u001b[0;34m\u001b[0m\u001b[0m\n\u001b[0m\u001b[1;32m      5\u001b[0m \u001b[0mdata\u001b[0m \u001b[0;34m=\u001b[0m \u001b[0mpd\u001b[0m\u001b[0;34m.\u001b[0m\u001b[0mread_csv\u001b[0m\u001b[0;34m(\u001b[0m\u001b[0;34m'./breast-cancer-wisconsin.csv'\u001b[0m\u001b[0;34m)\u001b[0m\u001b[0;34m\u001b[0m\u001b[0;34m\u001b[0m\u001b[0m\n",
            "\u001b[0;32m/usr/local/lib/python3.6/dist-packages/google/colab/files.py\u001b[0m in \u001b[0;36mupload\u001b[0;34m()\u001b[0m\n\u001b[1;32m     62\u001b[0m   result = _output.eval_js(\n\u001b[1;32m     63\u001b[0m       'google.colab._files._uploadFiles(\"{input_id}\", \"{output_id}\")'.format(\n\u001b[0;32m---> 64\u001b[0;31m           input_id=input_id, output_id=output_id))\n\u001b[0m\u001b[1;32m     65\u001b[0m   \u001b[0mfiles\u001b[0m \u001b[0;34m=\u001b[0m \u001b[0m_collections\u001b[0m\u001b[0;34m.\u001b[0m\u001b[0mdefaultdict\u001b[0m\u001b[0;34m(\u001b[0m\u001b[0m_six\u001b[0m\u001b[0;34m.\u001b[0m\u001b[0mbinary_type\u001b[0m\u001b[0;34m)\u001b[0m\u001b[0;34m\u001b[0m\u001b[0;34m\u001b[0m\u001b[0m\n\u001b[1;32m     66\u001b[0m   \u001b[0;31m# Mapping from original filename to filename as saved locally.\u001b[0m\u001b[0;34m\u001b[0m\u001b[0;34m\u001b[0m\u001b[0;34m\u001b[0m\u001b[0m\n",
            "\u001b[0;32m/usr/local/lib/python3.6/dist-packages/google/colab/output/_js.py\u001b[0m in \u001b[0;36meval_js\u001b[0;34m(script, ignore_result)\u001b[0m\n\u001b[1;32m     37\u001b[0m   \u001b[0;32mif\u001b[0m \u001b[0mignore_result\u001b[0m\u001b[0;34m:\u001b[0m\u001b[0;34m\u001b[0m\u001b[0;34m\u001b[0m\u001b[0m\n\u001b[1;32m     38\u001b[0m     \u001b[0;32mreturn\u001b[0m\u001b[0;34m\u001b[0m\u001b[0;34m\u001b[0m\u001b[0m\n\u001b[0;32m---> 39\u001b[0;31m   \u001b[0;32mreturn\u001b[0m \u001b[0m_message\u001b[0m\u001b[0;34m.\u001b[0m\u001b[0mread_reply_from_input\u001b[0m\u001b[0;34m(\u001b[0m\u001b[0mrequest_id\u001b[0m\u001b[0;34m)\u001b[0m\u001b[0;34m\u001b[0m\u001b[0;34m\u001b[0m\u001b[0m\n\u001b[0m\u001b[1;32m     40\u001b[0m \u001b[0;34m\u001b[0m\u001b[0m\n\u001b[1;32m     41\u001b[0m \u001b[0;34m\u001b[0m\u001b[0m\n",
            "\u001b[0;32m/usr/local/lib/python3.6/dist-packages/google/colab/_message.py\u001b[0m in \u001b[0;36mread_reply_from_input\u001b[0;34m(message_id, timeout_sec)\u001b[0m\n\u001b[1;32m    104\u001b[0m         reply.get('colab_msg_id') == message_id):\n\u001b[1;32m    105\u001b[0m       \u001b[0;32mif\u001b[0m \u001b[0;34m'error'\u001b[0m \u001b[0;32min\u001b[0m \u001b[0mreply\u001b[0m\u001b[0;34m:\u001b[0m\u001b[0;34m\u001b[0m\u001b[0;34m\u001b[0m\u001b[0m\n\u001b[0;32m--> 106\u001b[0;31m         \u001b[0;32mraise\u001b[0m \u001b[0mMessageError\u001b[0m\u001b[0;34m(\u001b[0m\u001b[0mreply\u001b[0m\u001b[0;34m[\u001b[0m\u001b[0;34m'error'\u001b[0m\u001b[0;34m]\u001b[0m\u001b[0;34m)\u001b[0m\u001b[0;34m\u001b[0m\u001b[0;34m\u001b[0m\u001b[0m\n\u001b[0m\u001b[1;32m    107\u001b[0m       \u001b[0;32mreturn\u001b[0m \u001b[0mreply\u001b[0m\u001b[0;34m.\u001b[0m\u001b[0mget\u001b[0m\u001b[0;34m(\u001b[0m\u001b[0;34m'data'\u001b[0m\u001b[0;34m,\u001b[0m \u001b[0;32mNone\u001b[0m\u001b[0;34m)\u001b[0m\u001b[0;34m\u001b[0m\u001b[0;34m\u001b[0m\u001b[0m\n\u001b[1;32m    108\u001b[0m \u001b[0;34m\u001b[0m\u001b[0m\n",
            "\u001b[0;31mMessageError\u001b[0m: TypeError: Cannot read property '_uploadFiles' of undefined"
          ]
        }
      ]
    },
    {
      "cell_type": "markdown",
      "metadata": {
        "id": "GFvqF_zEN9be"
      },
      "source": [
        "Lets visualize the first 10 entries of the database with the `.head()` method"
      ]
    },
    {
      "cell_type": "code",
      "metadata": {
        "id": "K7DVWHV7N9bf",
        "colab": {
          "base_uri": "https://localhost:8080/",
          "height": 377
        },
        "outputId": "ac6cd162-0b99-4488-d219-d02e4a61f41c"
      },
      "source": [
        "data.head(10)"
      ],
      "execution_count": null,
      "outputs": [
        {
          "output_type": "execute_result",
          "data": {
            "text/html": [
              "<div>\n",
              "<style scoped>\n",
              "    .dataframe tbody tr th:only-of-type {\n",
              "        vertical-align: middle;\n",
              "    }\n",
              "\n",
              "    .dataframe tbody tr th {\n",
              "        vertical-align: top;\n",
              "    }\n",
              "\n",
              "    .dataframe thead th {\n",
              "        text-align: right;\n",
              "    }\n",
              "</style>\n",
              "<table border=\"1\" class=\"dataframe\">\n",
              "  <thead>\n",
              "    <tr style=\"text-align: right;\">\n",
              "      <th></th>\n",
              "      <th>ID</th>\n",
              "      <th>Clump Thickness</th>\n",
              "      <th>Uniformity of Cell Size</th>\n",
              "      <th>Uniformity of Cell Shape</th>\n",
              "      <th>Marginal Adhesion</th>\n",
              "      <th>Single Epithelial Cell Size</th>\n",
              "      <th>Bare Nuclei</th>\n",
              "      <th>Bland Chromatin</th>\n",
              "      <th>Normal Nucleoli</th>\n",
              "      <th>Mitoses</th>\n",
              "      <th>Class</th>\n",
              "    </tr>\n",
              "  </thead>\n",
              "  <tbody>\n",
              "    <tr>\n",
              "      <th>0</th>\n",
              "      <td>1000025</td>\n",
              "      <td>5</td>\n",
              "      <td>1</td>\n",
              "      <td>1</td>\n",
              "      <td>1</td>\n",
              "      <td>2</td>\n",
              "      <td>1.0</td>\n",
              "      <td>3</td>\n",
              "      <td>1</td>\n",
              "      <td>1</td>\n",
              "      <td>2</td>\n",
              "    </tr>\n",
              "    <tr>\n",
              "      <th>1</th>\n",
              "      <td>1002945</td>\n",
              "      <td>5</td>\n",
              "      <td>4</td>\n",
              "      <td>4</td>\n",
              "      <td>5</td>\n",
              "      <td>7</td>\n",
              "      <td>10.0</td>\n",
              "      <td>3</td>\n",
              "      <td>2</td>\n",
              "      <td>1</td>\n",
              "      <td>2</td>\n",
              "    </tr>\n",
              "    <tr>\n",
              "      <th>2</th>\n",
              "      <td>1015425</td>\n",
              "      <td>3</td>\n",
              "      <td>1</td>\n",
              "      <td>1</td>\n",
              "      <td>1</td>\n",
              "      <td>2</td>\n",
              "      <td>2.0</td>\n",
              "      <td>3</td>\n",
              "      <td>1</td>\n",
              "      <td>1</td>\n",
              "      <td>2</td>\n",
              "    </tr>\n",
              "    <tr>\n",
              "      <th>3</th>\n",
              "      <td>1016277</td>\n",
              "      <td>6</td>\n",
              "      <td>8</td>\n",
              "      <td>8</td>\n",
              "      <td>1</td>\n",
              "      <td>3</td>\n",
              "      <td>4.0</td>\n",
              "      <td>3</td>\n",
              "      <td>7</td>\n",
              "      <td>1</td>\n",
              "      <td>2</td>\n",
              "    </tr>\n",
              "    <tr>\n",
              "      <th>4</th>\n",
              "      <td>1017023</td>\n",
              "      <td>4</td>\n",
              "      <td>1</td>\n",
              "      <td>1</td>\n",
              "      <td>3</td>\n",
              "      <td>2</td>\n",
              "      <td>1.0</td>\n",
              "      <td>3</td>\n",
              "      <td>1</td>\n",
              "      <td>1</td>\n",
              "      <td>2</td>\n",
              "    </tr>\n",
              "    <tr>\n",
              "      <th>5</th>\n",
              "      <td>1017122</td>\n",
              "      <td>8</td>\n",
              "      <td>10</td>\n",
              "      <td>10</td>\n",
              "      <td>8</td>\n",
              "      <td>7</td>\n",
              "      <td>10.0</td>\n",
              "      <td>9</td>\n",
              "      <td>7</td>\n",
              "      <td>1</td>\n",
              "      <td>4</td>\n",
              "    </tr>\n",
              "    <tr>\n",
              "      <th>6</th>\n",
              "      <td>1018099</td>\n",
              "      <td>1</td>\n",
              "      <td>1</td>\n",
              "      <td>1</td>\n",
              "      <td>1</td>\n",
              "      <td>2</td>\n",
              "      <td>10.0</td>\n",
              "      <td>3</td>\n",
              "      <td>1</td>\n",
              "      <td>1</td>\n",
              "      <td>2</td>\n",
              "    </tr>\n",
              "    <tr>\n",
              "      <th>7</th>\n",
              "      <td>1018561</td>\n",
              "      <td>2</td>\n",
              "      <td>1</td>\n",
              "      <td>2</td>\n",
              "      <td>1</td>\n",
              "      <td>2</td>\n",
              "      <td>1.0</td>\n",
              "      <td>3</td>\n",
              "      <td>1</td>\n",
              "      <td>1</td>\n",
              "      <td>2</td>\n",
              "    </tr>\n",
              "    <tr>\n",
              "      <th>8</th>\n",
              "      <td>1033078</td>\n",
              "      <td>2</td>\n",
              "      <td>1</td>\n",
              "      <td>1</td>\n",
              "      <td>1</td>\n",
              "      <td>2</td>\n",
              "      <td>1.0</td>\n",
              "      <td>1</td>\n",
              "      <td>1</td>\n",
              "      <td>5</td>\n",
              "      <td>2</td>\n",
              "    </tr>\n",
              "    <tr>\n",
              "      <th>9</th>\n",
              "      <td>1033078</td>\n",
              "      <td>4</td>\n",
              "      <td>2</td>\n",
              "      <td>1</td>\n",
              "      <td>1</td>\n",
              "      <td>2</td>\n",
              "      <td>1.0</td>\n",
              "      <td>2</td>\n",
              "      <td>1</td>\n",
              "      <td>1</td>\n",
              "      <td>2</td>\n",
              "    </tr>\n",
              "  </tbody>\n",
              "</table>\n",
              "</div>"
            ],
            "text/plain": [
              "        ID  Clump Thickness  ...  Mitoses  Class\n",
              "0  1000025                5  ...        1      2\n",
              "1  1002945                5  ...        1      2\n",
              "2  1015425                3  ...        1      2\n",
              "3  1016277                6  ...        1      2\n",
              "4  1017023                4  ...        1      2\n",
              "5  1017122                8  ...        1      4\n",
              "6  1018099                1  ...        1      2\n",
              "7  1018561                2  ...        1      2\n",
              "8  1033078                2  ...        5      2\n",
              "9  1033078                4  ...        1      2\n",
              "\n",
              "[10 rows x 11 columns]"
            ]
          },
          "metadata": {
            "tags": []
          },
          "execution_count": 6
        }
      ]
    },
    {
      "cell_type": "markdown",
      "metadata": {
        "id": "KW8AlWwRN9bj"
      },
      "source": [
        "With the `.shape()` method we can check how many datapoints we have"
      ]
    },
    {
      "cell_type": "code",
      "metadata": {
        "id": "uVYhCH2ON9bk",
        "colab": {
          "base_uri": "https://localhost:8080/",
          "height": 34
        },
        "outputId": "f86fc839-aeb7-4f59-91ca-20a55cbd35d3"
      },
      "source": [
        "print('There are %d data points. Each one of dimension %d' %(data.shape[0],data.shape[1]))"
      ],
      "execution_count": null,
      "outputs": [
        {
          "output_type": "stream",
          "text": [
            "There are 699 data points. Each one of dimension 11\n"
          ],
          "name": "stdout"
        }
      ]
    },
    {
      "cell_type": "markdown",
      "metadata": {
        "id": "Ml5u57QHN9bn"
      },
      "source": [
        "We will do the following preprocessing steps. All of them are implemented in Pandas (it is advisory for very large databases):\n",
        "\n",
        "- Remove the 'ID' column. We won't use it anymore\n",
        "\n",
        "- Replace missing data (Encoded in this database with a '?' by the column mode). \n",
        "\n",
        "- The tumor class is equal to 2 for bening tumors and to 4 for malignat tumors. We will replace this by 0 and 1 respectively\n",
        "\n",
        "- Create a train set and a test set\n",
        "\n",
        "- We will normalize all input variables so they all have zero mean and unit variance"
      ]
    },
    {
      "cell_type": "markdown",
      "metadata": {
        "id": "YRB04l1NN9bo"
      },
      "source": [
        "### Remove ID colum\n",
        "\n",
        "We can use the `.drop()` method. We use the input `inplace=True` to override the existing Dataframe."
      ]
    },
    {
      "cell_type": "code",
      "metadata": {
        "id": "xbogxjDgN9bp"
      },
      "source": [
        "data.drop('ID',axis=1,inplace=True)"
      ],
      "execution_count": null,
      "outputs": []
    },
    {
      "cell_type": "code",
      "metadata": {
        "id": "VfsE6x3FN9bs",
        "colab": {
          "base_uri": "https://localhost:8080/",
          "height": 377
        },
        "outputId": "73df898c-a510-44ec-a9f5-9c301363ae85"
      },
      "source": [
        "# Lets check the result\n",
        "\n",
        "data.head(10)"
      ],
      "execution_count": null,
      "outputs": [
        {
          "output_type": "execute_result",
          "data": {
            "text/html": [
              "<div>\n",
              "<style scoped>\n",
              "    .dataframe tbody tr th:only-of-type {\n",
              "        vertical-align: middle;\n",
              "    }\n",
              "\n",
              "    .dataframe tbody tr th {\n",
              "        vertical-align: top;\n",
              "    }\n",
              "\n",
              "    .dataframe thead th {\n",
              "        text-align: right;\n",
              "    }\n",
              "</style>\n",
              "<table border=\"1\" class=\"dataframe\">\n",
              "  <thead>\n",
              "    <tr style=\"text-align: right;\">\n",
              "      <th></th>\n",
              "      <th>Clump Thickness</th>\n",
              "      <th>Uniformity of Cell Size</th>\n",
              "      <th>Uniformity of Cell Shape</th>\n",
              "      <th>Marginal Adhesion</th>\n",
              "      <th>Single Epithelial Cell Size</th>\n",
              "      <th>Bare Nuclei</th>\n",
              "      <th>Bland Chromatin</th>\n",
              "      <th>Normal Nucleoli</th>\n",
              "      <th>Mitoses</th>\n",
              "      <th>Class</th>\n",
              "    </tr>\n",
              "  </thead>\n",
              "  <tbody>\n",
              "    <tr>\n",
              "      <th>0</th>\n",
              "      <td>5</td>\n",
              "      <td>1</td>\n",
              "      <td>1</td>\n",
              "      <td>1</td>\n",
              "      <td>2</td>\n",
              "      <td>1.0</td>\n",
              "      <td>3</td>\n",
              "      <td>1</td>\n",
              "      <td>1</td>\n",
              "      <td>2</td>\n",
              "    </tr>\n",
              "    <tr>\n",
              "      <th>1</th>\n",
              "      <td>5</td>\n",
              "      <td>4</td>\n",
              "      <td>4</td>\n",
              "      <td>5</td>\n",
              "      <td>7</td>\n",
              "      <td>10.0</td>\n",
              "      <td>3</td>\n",
              "      <td>2</td>\n",
              "      <td>1</td>\n",
              "      <td>2</td>\n",
              "    </tr>\n",
              "    <tr>\n",
              "      <th>2</th>\n",
              "      <td>3</td>\n",
              "      <td>1</td>\n",
              "      <td>1</td>\n",
              "      <td>1</td>\n",
              "      <td>2</td>\n",
              "      <td>2.0</td>\n",
              "      <td>3</td>\n",
              "      <td>1</td>\n",
              "      <td>1</td>\n",
              "      <td>2</td>\n",
              "    </tr>\n",
              "    <tr>\n",
              "      <th>3</th>\n",
              "      <td>6</td>\n",
              "      <td>8</td>\n",
              "      <td>8</td>\n",
              "      <td>1</td>\n",
              "      <td>3</td>\n",
              "      <td>4.0</td>\n",
              "      <td>3</td>\n",
              "      <td>7</td>\n",
              "      <td>1</td>\n",
              "      <td>2</td>\n",
              "    </tr>\n",
              "    <tr>\n",
              "      <th>4</th>\n",
              "      <td>4</td>\n",
              "      <td>1</td>\n",
              "      <td>1</td>\n",
              "      <td>3</td>\n",
              "      <td>2</td>\n",
              "      <td>1.0</td>\n",
              "      <td>3</td>\n",
              "      <td>1</td>\n",
              "      <td>1</td>\n",
              "      <td>2</td>\n",
              "    </tr>\n",
              "    <tr>\n",
              "      <th>5</th>\n",
              "      <td>8</td>\n",
              "      <td>10</td>\n",
              "      <td>10</td>\n",
              "      <td>8</td>\n",
              "      <td>7</td>\n",
              "      <td>10.0</td>\n",
              "      <td>9</td>\n",
              "      <td>7</td>\n",
              "      <td>1</td>\n",
              "      <td>4</td>\n",
              "    </tr>\n",
              "    <tr>\n",
              "      <th>6</th>\n",
              "      <td>1</td>\n",
              "      <td>1</td>\n",
              "      <td>1</td>\n",
              "      <td>1</td>\n",
              "      <td>2</td>\n",
              "      <td>10.0</td>\n",
              "      <td>3</td>\n",
              "      <td>1</td>\n",
              "      <td>1</td>\n",
              "      <td>2</td>\n",
              "    </tr>\n",
              "    <tr>\n",
              "      <th>7</th>\n",
              "      <td>2</td>\n",
              "      <td>1</td>\n",
              "      <td>2</td>\n",
              "      <td>1</td>\n",
              "      <td>2</td>\n",
              "      <td>1.0</td>\n",
              "      <td>3</td>\n",
              "      <td>1</td>\n",
              "      <td>1</td>\n",
              "      <td>2</td>\n",
              "    </tr>\n",
              "    <tr>\n",
              "      <th>8</th>\n",
              "      <td>2</td>\n",
              "      <td>1</td>\n",
              "      <td>1</td>\n",
              "      <td>1</td>\n",
              "      <td>2</td>\n",
              "      <td>1.0</td>\n",
              "      <td>1</td>\n",
              "      <td>1</td>\n",
              "      <td>5</td>\n",
              "      <td>2</td>\n",
              "    </tr>\n",
              "    <tr>\n",
              "      <th>9</th>\n",
              "      <td>4</td>\n",
              "      <td>2</td>\n",
              "      <td>1</td>\n",
              "      <td>1</td>\n",
              "      <td>2</td>\n",
              "      <td>1.0</td>\n",
              "      <td>2</td>\n",
              "      <td>1</td>\n",
              "      <td>1</td>\n",
              "      <td>2</td>\n",
              "    </tr>\n",
              "  </tbody>\n",
              "</table>\n",
              "</div>"
            ],
            "text/plain": [
              "   Clump Thickness  Uniformity of Cell Size  ...  Mitoses  Class\n",
              "0                5                        1  ...        1      2\n",
              "1                5                        4  ...        1      2\n",
              "2                3                        1  ...        1      2\n",
              "3                6                        8  ...        1      2\n",
              "4                4                        1  ...        1      2\n",
              "5                8                       10  ...        1      4\n",
              "6                1                        1  ...        1      2\n",
              "7                2                        1  ...        1      2\n",
              "8                2                        1  ...        5      2\n",
              "9                4                        2  ...        1      2\n",
              "\n",
              "[10 rows x 10 columns]"
            ]
          },
          "metadata": {
            "tags": []
          },
          "execution_count": 9
        }
      ]
    },
    {
      "cell_type": "markdown",
      "metadata": {
        "id": "dljNIAqgN9bu"
      },
      "source": [
        "### Replace missing data by column mode\n",
        "\n",
        "Pandas considers values like `NaN` and `None` to represent missing data. The `pandas.isnull` function can be used to tell whether or not a value is missing. \n",
        "\n",
        "Let's use `apply()` across all of the columns in our DataFrame to figure out which values are missing."
      ]
    },
    {
      "cell_type": "code",
      "metadata": {
        "id": "GvUROVQKN9bv"
      },
      "source": [
        "empty = data.apply(lambda col: pd.isnull(col))"
      ],
      "execution_count": null,
      "outputs": []
    },
    {
      "cell_type": "code",
      "metadata": {
        "id": "f97WeVCWN9by",
        "colab": {
          "base_uri": "https://localhost:8080/",
          "height": 202
        },
        "outputId": "1da183e9-71dc-4b99-a9f4-446f7f0f7306"
      },
      "source": [
        "empty.sum()"
      ],
      "execution_count": null,
      "outputs": [
        {
          "output_type": "execute_result",
          "data": {
            "text/plain": [
              "Clump Thickness                 0\n",
              "Uniformity of Cell Size         0\n",
              "Uniformity of Cell Shape        0\n",
              "Marginal Adhesion               0\n",
              "Single Epithelial Cell Size     0\n",
              "Bare Nuclei                    16\n",
              "Bland Chromatin                 0\n",
              "Normal Nucleoli                 0\n",
              "Mitoses                         0\n",
              "Class                           0\n",
              "dtype: int64"
            ]
          },
          "metadata": {
            "tags": []
          },
          "execution_count": 11
        }
      ]
    },
    {
      "cell_type": "markdown",
      "metadata": {
        "id": "kFKcAB9DN9b0"
      },
      "source": [
        "Observe that one of the columns has 16 missing entries. Lets replace them with the mode of the column."
      ]
    },
    {
      "cell_type": "code",
      "metadata": {
        "id": "jZgIMbLnN9b1",
        "colab": {
          "base_uri": "https://localhost:8080/",
          "height": 34
        },
        "outputId": "37745ada-c944-4993-c9d9-f36c58cf7a46"
      },
      "source": [
        "data['Bare Nuclei'].mode()[0]"
      ],
      "execution_count": null,
      "outputs": [
        {
          "output_type": "execute_result",
          "data": {
            "text/plain": [
              "1.0"
            ]
          },
          "metadata": {
            "tags": []
          },
          "execution_count": 12
        }
      ]
    },
    {
      "cell_type": "code",
      "metadata": {
        "id": "hG9BuA_zN9b5"
      },
      "source": [
        "data['Bare Nuclei'].fillna(data['Bare Nuclei'].mode()[0], inplace=True)"
      ],
      "execution_count": null,
      "outputs": []
    },
    {
      "cell_type": "code",
      "metadata": {
        "id": "gHNYgujrN9b8",
        "colab": {
          "base_uri": "https://localhost:8080/",
          "height": 202
        },
        "outputId": "32e8954b-0483-4e23-80bb-0ecea695b096"
      },
      "source": [
        "empty = data.apply(lambda col: pd.isnull(col))\n",
        "empty.sum()"
      ],
      "execution_count": null,
      "outputs": [
        {
          "output_type": "execute_result",
          "data": {
            "text/plain": [
              "Clump Thickness                0\n",
              "Uniformity of Cell Size        0\n",
              "Uniformity of Cell Shape       0\n",
              "Marginal Adhesion              0\n",
              "Single Epithelial Cell Size    0\n",
              "Bare Nuclei                    0\n",
              "Bland Chromatin                0\n",
              "Normal Nucleoli                0\n",
              "Mitoses                        0\n",
              "Class                          0\n",
              "dtype: int64"
            ]
          },
          "metadata": {
            "tags": []
          },
          "execution_count": 14
        }
      ]
    },
    {
      "cell_type": "markdown",
      "metadata": {
        "id": "W7TYXV_SN9b-"
      },
      "source": [
        "### Create a binary class label\n",
        "\n",
        "To do so, we will create a simple function to convert the label and store the result in a new colum of the dataframe"
      ]
    },
    {
      "cell_type": "code",
      "metadata": {
        "id": "r324eES9N9b_"
      },
      "source": [
        "def convert_to_binary(l):\n",
        "    return (l-2.0)/2"
      ],
      "execution_count": null,
      "outputs": []
    },
    {
      "cell_type": "code",
      "metadata": {
        "id": "RZT_2zYCN9cB"
      },
      "source": [
        "# We create the new column\n",
        "\n",
        "data['Binary Class'] = data[['Class']].apply(lambda l: convert_to_binary(l))\n",
        "\n",
        "data.drop('Class',axis=1,inplace=True)"
      ],
      "execution_count": null,
      "outputs": []
    },
    {
      "cell_type": "markdown",
      "metadata": {
        "id": "GpjuntFBN9cE"
      },
      "source": [
        "Lets take a look to the histogram of the binary class label"
      ]
    },
    {
      "cell_type": "code",
      "metadata": {
        "id": "e1_G8zwzN9cF",
        "colab": {
          "base_uri": "https://localhost:8080/",
          "height": 282
        },
        "outputId": "6b3590f2-2204-4df9-a222-c8389b438600"
      },
      "source": [
        "data['Binary Class'].hist()"
      ],
      "execution_count": null,
      "outputs": [
        {
          "output_type": "execute_result",
          "data": {
            "text/plain": [
              "<matplotlib.axes._subplots.AxesSubplot at 0x7fb5b86c0b38>"
            ]
          },
          "metadata": {
            "tags": []
          },
          "execution_count": 17
        },
        {
          "output_type": "display_data",
          "data": {
            "image/png": "[encoded data removed]",
            "text/plain": [
              "<Figure size 432x288 with 1 Axes>"
            ]
          },
          "metadata": {
            "tags": []
          }
        }
      ]
    },
    {
      "cell_type": "markdown",
      "metadata": {
        "id": "DPJOAVqXN9cI"
      },
      "source": [
        "### Create a train and test sets\n",
        "\n",
        "We will simply split the dataset at random. 80% of the data will go to the training set, the rest to the test set. We will use [Numpy's random permutation function](https://docs.scipy.org/doc/numpy-1.15.0/reference/generated/numpy.random.permutation.html) and the `.iloc()` method. "
      ]
    },
    {
      "cell_type": "code",
      "metadata": {
        "id": "ny8O9BOdN9cJ"
      },
      "source": [
        "frac_train = 0.7\n",
        "\n",
        "data_train = int(data.shape[0]*frac_train) # Training points\n",
        "\n",
        "np.random.seed(seed=10) #To fix the random seed. So we all get the same partition\n",
        "\n",
        "mask = np.random.permutation(data.shape[0]) # Random order of data indexes\n",
        "\n",
        "train_data = data.iloc[list(mask[:data_train])].copy()\n",
        "\n",
        "test_data = data.iloc[list(mask[data_train:])].copy()\n"
      ],
      "execution_count": null,
      "outputs": []
    },
    {
      "cell_type": "markdown",
      "metadata": {
        "id": "wUDJmwnZN9cM"
      },
      "source": [
        "Note that we store the train and test data in separate Dataframes, so we can normalize them without modifying the oringinal data (We could add more columns to the original Dataframe, but this would be later on annoying to index)."
      ]
    },
    {
      "cell_type": "markdown",
      "metadata": {
        "id": "kxPfl4TvN9cN"
      },
      "source": [
        "### Normalize input variables \n",
        "\n",
        "In general, it is not recommended that input variables (or features) are defined in different ranges. I.e., $x_1$ for instance takes values in the $[-1,1]$ set and $x_2$ takes values in the $[-10^6,10^6]$ range. \n",
        "\n",
        "To improve both the numerical robustness of our estimators and **enhance interpretability**, we will apply a linear normalization preprocessing stage to use as input to the linear regression features with (sample) mean 0 and (sample) variance equal to 1. \n",
        "\n",
        "Given the unnormalized feature matrix $\\mathbf{X}_{N\\times D}$, we compute the sample mean per feature column, $\\mu_j$, and the sample variance per  feature column, $\\sigma^2_j$ for $j=1,\\ldots,D$. Then, each row of the normalized feature matrix $\\overline{\\mathbf{X}}_{N\\times D}$ is obtained as follows:\n",
        "\n",
        "$$\\overline{\\mathbf{x}}^{(i)}= \\left[\\frac{x_1^{(i)}-\\mu_1}{\\sqrt{\\sigma^2_1}}, ~~ \\frac{x_1^{(i)}-\\mu_2}{\\sqrt{\\sigma^2_2}}, \\ldots, \\frac{x_1^{(D)}-\\mu_1}{\\sqrt{\\sigma^2_D}}\\right]$$\n",
        "\n",
        "**Note this does not affect to the logistic regression solution**, we are simply re-scaling the parameter vector $\\boldsymbol{w}$. Using this scaling, we can now effectively compare the effect that each variable has in the logistic regression solution: **the larger $|w_j|$ is, the more effect the $j$-th feature has in the estimation of the class**.\n",
        "\n",
        "One important aspect is that the test set is normalized **using the train set statistics (mean and variance)**"
      ]
    },
    {
      "cell_type": "code",
      "metadata": {
        "id": "QNSRoGOlN9cN"
      },
      "source": [
        "means = train_data.mean()\n",
        "stds = train_data.std()"
      ],
      "execution_count": null,
      "outputs": []
    },
    {
      "cell_type": "code",
      "metadata": {
        "id": "juoVFMevN9cR"
      },
      "source": [
        "for column_name in train_data.keys()[:-1]:\n",
        "    train_data[column_name] = (train_data[column_name]-means[column_name])/(stds[column_name])\n",
        "    test_data[column_name] = (test_data[column_name]-means[column_name])/(stds[column_name])"
      ],
      "execution_count": null,
      "outputs": []
    },
    {
      "cell_type": "markdown",
      "metadata": {
        "id": "P91TSg9lN9cW"
      },
      "source": [
        "Lets take a look to the resulting dataframe"
      ]
    },
    {
      "cell_type": "code",
      "metadata": {
        "id": "0pOjVm0HN9cY",
        "colab": {
          "base_uri": "https://localhost:8080/",
          "height": 377
        },
        "outputId": "369934be-276b-46f1-8439-64c6d6175930"
      },
      "source": [
        "train_data.head(10)"
      ],
      "execution_count": null,
      "outputs": [
        {
          "output_type": "execute_result",
          "data": {
            "text/html": [
              "<div>\n",
              "<style scoped>\n",
              "    .dataframe tbody tr th:only-of-type {\n",
              "        vertical-align: middle;\n",
              "    }\n",
              "\n",
              "    .dataframe tbody tr th {\n",
              "        vertical-align: top;\n",
              "    }\n",
              "\n",
              "    .dataframe thead th {\n",
              "        text-align: right;\n",
              "    }\n",
              "</style>\n",
              "<table border=\"1\" class=\"dataframe\">\n",
              "  <thead>\n",
              "    <tr style=\"text-align: right;\">\n",
              "      <th></th>\n",
              "      <th>Clump Thickness</th>\n",
              "      <th>Uniformity of Cell Size</th>\n",
              "      <th>Uniformity of Cell Shape</th>\n",
              "      <th>Marginal Adhesion</th>\n",
              "      <th>Single Epithelial Cell Size</th>\n",
              "      <th>Bare Nuclei</th>\n",
              "      <th>Bland Chromatin</th>\n",
              "      <th>Normal Nucleoli</th>\n",
              "      <th>Mitoses</th>\n",
              "      <th>Binary Class</th>\n",
              "    </tr>\n",
              "  </thead>\n",
              "  <tbody>\n",
              "    <tr>\n",
              "      <th>285</th>\n",
              "      <td>1.312402</td>\n",
              "      <td>2.290172</td>\n",
              "      <td>2.279400</td>\n",
              "      <td>2.403579</td>\n",
              "      <td>2.253071</td>\n",
              "      <td>1.762256</td>\n",
              "      <td>2.637255</td>\n",
              "      <td>1.314188</td>\n",
              "      <td>0.839391</td>\n",
              "      <td>1.0</td>\n",
              "    </tr>\n",
              "    <tr>\n",
              "      <th>607</th>\n",
              "      <td>-1.215652</td>\n",
              "      <td>-0.697983</td>\n",
              "      <td>-0.748562</td>\n",
              "      <td>-0.651924</td>\n",
              "      <td>-0.545621</td>\n",
              "      <td>-0.699086</td>\n",
              "      <td>-1.020658</td>\n",
              "      <td>-0.606045</td>\n",
              "      <td>-0.343497</td>\n",
              "      <td>0.0</td>\n",
              "    </tr>\n",
              "    <tr>\n",
              "      <th>587</th>\n",
              "      <td>0.228950</td>\n",
              "      <td>-0.697983</td>\n",
              "      <td>-0.748562</td>\n",
              "      <td>-0.651924</td>\n",
              "      <td>-0.545621</td>\n",
              "      <td>-0.699086</td>\n",
              "      <td>-0.614223</td>\n",
              "      <td>-0.286006</td>\n",
              "      <td>-0.343497</td>\n",
              "      <td>0.0</td>\n",
              "    </tr>\n",
              "    <tr>\n",
              "      <th>458</th>\n",
              "      <td>0.228950</td>\n",
              "      <td>-0.697983</td>\n",
              "      <td>-0.412122</td>\n",
              "      <td>-0.651924</td>\n",
              "      <td>-0.545621</td>\n",
              "      <td>-0.699086</td>\n",
              "      <td>-1.020658</td>\n",
              "      <td>-0.606045</td>\n",
              "      <td>-0.343497</td>\n",
              "      <td>0.0</td>\n",
              "    </tr>\n",
              "    <tr>\n",
              "      <th>431</th>\n",
              "      <td>0.228950</td>\n",
              "      <td>-0.697983</td>\n",
              "      <td>-0.748562</td>\n",
              "      <td>0.027077</td>\n",
              "      <td>0.387276</td>\n",
              "      <td>-0.699086</td>\n",
              "      <td>-0.207789</td>\n",
              "      <td>-0.286006</td>\n",
              "      <td>-0.343497</td>\n",
              "      <td>0.0</td>\n",
              "    </tr>\n",
              "    <tr>\n",
              "      <th>52</th>\n",
              "      <td>2.034704</td>\n",
              "      <td>-0.033949</td>\n",
              "      <td>0.933639</td>\n",
              "      <td>-0.312424</td>\n",
              "      <td>-0.079172</td>\n",
              "      <td>0.394844</td>\n",
              "      <td>0.198646</td>\n",
              "      <td>2.274304</td>\n",
              "      <td>0.247947</td>\n",
              "      <td>1.0</td>\n",
              "    </tr>\n",
              "    <tr>\n",
              "      <th>560</th>\n",
              "      <td>0.228950</td>\n",
              "      <td>-0.697983</td>\n",
              "      <td>-0.748562</td>\n",
              "      <td>-0.651924</td>\n",
              "      <td>-0.545621</td>\n",
              "      <td>-0.699086</td>\n",
              "      <td>-0.207789</td>\n",
              "      <td>-0.606045</td>\n",
              "      <td>-0.343497</td>\n",
              "      <td>0.0</td>\n",
              "    </tr>\n",
              "    <tr>\n",
              "      <th>445</th>\n",
              "      <td>-0.854502</td>\n",
              "      <td>-0.697983</td>\n",
              "      <td>-0.748562</td>\n",
              "      <td>-0.651924</td>\n",
              "      <td>-0.545621</td>\n",
              "      <td>-0.699086</td>\n",
              "      <td>-1.020658</td>\n",
              "      <td>-0.606045</td>\n",
              "      <td>-0.343497</td>\n",
              "      <td>0.0</td>\n",
              "    </tr>\n",
              "    <tr>\n",
              "      <th>292</th>\n",
              "      <td>1.312402</td>\n",
              "      <td>1.626138</td>\n",
              "      <td>1.606520</td>\n",
              "      <td>-0.651924</td>\n",
              "      <td>-0.545621</td>\n",
              "      <td>-0.699086</td>\n",
              "      <td>1.011516</td>\n",
              "      <td>2.274304</td>\n",
              "      <td>-0.343497</td>\n",
              "      <td>1.0</td>\n",
              "    </tr>\n",
              "    <tr>\n",
              "      <th>579</th>\n",
              "      <td>-1.215652</td>\n",
              "      <td>-0.697983</td>\n",
              "      <td>-0.748562</td>\n",
              "      <td>-0.651924</td>\n",
              "      <td>-0.545621</td>\n",
              "      <td>-0.699086</td>\n",
              "      <td>-0.207789</td>\n",
              "      <td>-0.606045</td>\n",
              "      <td>-0.343497</td>\n",
              "      <td>0.0</td>\n",
              "    </tr>\n",
              "  </tbody>\n",
              "</table>\n",
              "</div>"
            ],
            "text/plain": [
              "     Clump Thickness  Uniformity of Cell Size  ...   Mitoses  Binary Class\n",
              "285         1.312402                 2.290172  ...  0.839391           1.0\n",
              "607        -1.215652                -0.697983  ... -0.343497           0.0\n",
              "587         0.228950                -0.697983  ... -0.343497           0.0\n",
              "458         0.228950                -0.697983  ... -0.343497           0.0\n",
              "431         0.228950                -0.697983  ... -0.343497           0.0\n",
              "52          2.034704                -0.033949  ...  0.247947           1.0\n",
              "560         0.228950                -0.697983  ... -0.343497           0.0\n",
              "445        -0.854502                -0.697983  ... -0.343497           0.0\n",
              "292         1.312402                 1.626138  ... -0.343497           1.0\n",
              "579        -1.215652                -0.697983  ... -0.343497           0.0\n",
              "\n",
              "[10 rows x 10 columns]"
            ]
          },
          "metadata": {
            "tags": []
          },
          "execution_count": 21
        }
      ]
    },
    {
      "cell_type": "markdown",
      "metadata": {
        "id": "T-bxDdx1N9cb"
      },
      "source": [
        "## Part II. Tensors in Pytorch\n",
        "\n",
        "\n",
        "Note: a big part of the following material is a personal wrap-up of [Facebook's Deep Learning Course in Udacity](https://www.udacity.com/course/deep-learning-pytorch--ud188). So all credit goes for them!!\n",
        "\n",
        "PyTorch in a lot of ways behaves like  Numpy arrays. PyTorch takes these tensors and makes it simple to move them to GPUs for the faster processing needed when training neural networks. It also provides a module that automatically calculates gradients and another module specifically for building neural networks. \n",
        "\n",
        "It turns out neural network computations are just a bunch of linear algebra operations on *tensors*, a generalization of matrices. A vector is a 1-dimensional tensor, a matrix is a 2-dimensional tensor, an array with three indices is a 3-dimensional tensor (RGB color images for example). The fundamental data structure for neural networks are tensors and PyTorch (as well as pretty much every other deep learning framework) is built around tensors.\n"
      ]
    },
    {
      "cell_type": "markdown",
      "metadata": {
        "id": "bYvnINsvN9cc"
      },
      "source": [
        "### Creating and manipulating tensors"
      ]
    },
    {
      "cell_type": "code",
      "metadata": {
        "id": "MIyBC7CyN9cc"
      },
      "source": [
        "# First, import PyTorch\n",
        "import torch"
      ],
      "execution_count": null,
      "outputs": []
    },
    {
      "cell_type": "markdown",
      "metadata": {
        "id": "gvQLWjzfN9cf"
      },
      "source": [
        "Lets create a function to manipulate torch tensors ..."
      ]
    },
    {
      "cell_type": "code",
      "metadata": {
        "id": "rlf3Z3khN9cg"
      },
      "source": [
        "def activation(x):\n",
        "    \"\"\" Sigmoid activation function \n",
        "    \n",
        "        Arguments\n",
        "        ---------\n",
        "        x: torch.Tensor\n",
        "    \"\"\"\n",
        "    return 1/(1+torch.exp(-x))"
      ],
      "execution_count": null,
      "outputs": []
    },
    {
      "cell_type": "code",
      "metadata": {
        "id": "httFutNwN9ck"
      },
      "source": [
        "### Generate some data\n",
        "torch.manual_seed(7) # Set the random seed so things are predictable\n",
        "\n",
        "# Features are 5 random normal variables\n",
        "features = torch.randn((1, 5))\n",
        "# True weights for our data, random normal variables again\n",
        "weights = torch.randn_like(features)\n",
        "# and a true bias term\n",
        "bias = torch.randn((1, 1))"
      ],
      "execution_count": null,
      "outputs": []
    },
    {
      "cell_type": "markdown",
      "metadata": {
        "id": "P1NGjJcWN9cm"
      },
      "source": [
        "Above we generated data we can use to get the output of our simple network. This is all just random for now, going forward we'll start using normal data. Going through each relevant line:\n",
        "\n",
        "`features = torch.randn((1, 5))` creates a tensor with shape `(1, 5)`, one row and five columns, that contains values randomly distributed according to the normal distribution with a mean of zero and standard deviation of one. \n",
        "\n",
        "`weights = torch.randn_like(features)` creates another tensor with the same shape as `features`, again containing values from a normal distribution.\n",
        "\n",
        "Finally, `bias = torch.randn((1, 1))` creates a single value from a normal distribution.\n",
        "\n",
        "PyTorch tensors can be added, multiplied, subtracted, etc, just like Numpy arrays. In general, you'll use PyTorch tensors pretty much the same way you'd use.\n",
        "\n",
        "> **Exercise**: Using the `activation()` function, calculate the output a binary logistic regressor with input features `features`, weights `weights`, and bias `bias`. Similar to Numpy, PyTorch has a [`torch.sum()`](https://pytorch.org/docs/stable/torch.html#torch.sum) function, as well as a `.sum()` method on tensors, for taking sums. Use the function `activation` defined above as the activation function."
      ]
    },
    {
      "cell_type": "code",
      "metadata": {
        "id": "uVLnZ7TNN9cn"
      },
      "source": [
        "### YOUR CODE HERE\n",
        "\n",
        "y = activation(torch.mm(features, torch.t(weights) + bias))\n"
      ],
      "execution_count": null,
      "outputs": []
    },
    {
      "cell_type": "markdown",
      "metadata": {
        "id": "L8qaJpkBN9cs"
      },
      "source": [
        "You can do the multiplication and sum in the same operation using a matrix multiplication. In general, you'll want to use matrix multiplications since they are more efficient and accelerated using modern libraries and high-performance computing on GPUs.  For this we can use [`torch.mm()`](https://pytorch.org/docs/stable/torch.html#torch.mm) or [`torch.matmul()`](https://pytorch.org/docs/stable/torch.html#torch.matmul) which is somewhat more complicated and supports broadcasting.\n",
        "\n",
        "First, check the dimension of `features` and `weights` using the method `.shape`"
      ]
    },
    {
      "cell_type": "code",
      "metadata": {
        "id": "KtpDuXAnN9ct",
        "colab": {
          "base_uri": "https://localhost:8080/",
          "height": 50
        },
        "outputId": "46392509-185c-47d5-aacb-96cf76c4dfd2"
      },
      "source": [
        "print(features.shape)\n",
        "print(weights.shape)"
      ],
      "execution_count": null,
      "outputs": [
        {
          "output_type": "stream",
          "text": [
            "torch.Size([1, 5])\n",
            "torch.Size([1, 5])\n"
          ],
          "name": "stdout"
        }
      ]
    },
    {
      "cell_type": "markdown",
      "metadata": {
        "id": "lQsuxO29N9cv"
      },
      "source": [
        "> **Exercise**: See what comes if you try to directly multiply both tensors"
      ]
    },
    {
      "cell_type": "code",
      "metadata": {
        "id": "wmSJEIXTN9cw"
      },
      "source": [
        "### YOUR CODE HERE\n",
        "#prod= torch.mm(features, weights)"
      ],
      "execution_count": null,
      "outputs": []
    },
    {
      "cell_type": "markdown",
      "metadata": {
        "id": "U8DFPmcYN9cy"
      },
      "source": [
        "What's happening here is our tensors aren't the correct shapes to perform a matrix multiplication. There are a few options here: [`weights.reshape()`](https://pytorch.org/docs/stable/tensors.html#torch.Tensor.reshape), [`weights.resize_()`](https://pytorch.org/docs/stable/tensors.html#torch.Tensor.resize_), and [`weights.view()`](https://pytorch.org/docs/stable/tensors.html#torch.Tensor.view).\n",
        "\n",
        "* `weights.reshape(a, b)` will return a new tensor with the same data as `weights` with size `(a, b)` sometimes, and sometimes a clone, as in it copies the data to another part of memory.\n",
        "* `weights.resize_(a, b)` returns the same tensor with a different shape. However, if the new shape results in fewer elements than the original tensor, some elements will be removed from the tensor (but not from memory). If the new shape results in more elements than the original tensor, new elements will be uninitialized in memory. Here I should note that the underscore at the end of the method denotes that this method is performed **in-place**. Here is a great forum thread to [read more about in-place operations](https://discuss.pytorch.org/t/what-is-in-place-operation/16244) in PyTorch.\n",
        "* `weights.view(a, b)` will return a new tensor with the same data as `weights` with size `(a, b)`.\n",
        "\n",
        "Any of the three methods will work for this. So, now we can reshape `weights` to have five rows and one column with something like `weights.view(5, 1)`.\n",
        "\n",
        "\n",
        "> **Exercise**: Calculate the output of the logistic regressor using matrix multiplication."
      ]
    },
    {
      "cell_type": "code",
      "metadata": {
        "id": "WepbuXlIN9cz"
      },
      "source": [
        "y = activation(torch.mm(features, weights.view(5,1)) + bias)"
      ],
      "execution_count": null,
      "outputs": []
    },
    {
      "cell_type": "code",
      "metadata": {
        "id": "U1NdxVf3N9c4",
        "colab": {
          "base_uri": "https://localhost:8080/",
          "height": 34
        },
        "outputId": "8e2b9d5d-8114-40a3-b565-936afc7f270e"
      },
      "source": [
        "print(y)"
      ],
      "execution_count": null,
      "outputs": [
        {
          "output_type": "stream",
          "text": [
            "tensor([[0.1595]])\n"
          ],
          "name": "stdout"
        }
      ]
    },
    {
      "cell_type": "markdown",
      "metadata": {
        "id": "DO7YlNfHN9c6"
      },
      "source": [
        "### Numpy to Torch and back\n",
        "\n",
        "PyTorch has a feature for converting between Numpy arrays and Torch tensors. To create a tensor from a Numpy array, use `torch.from_numpy()`. To convert a tensor to a Numpy array, use the `.numpy()` method."
      ]
    },
    {
      "cell_type": "code",
      "metadata": {
        "id": "6YqVH7jnN9c7",
        "colab": {
          "base_uri": "https://localhost:8080/",
          "height": 84
        },
        "outputId": "98869a88-194d-4573-b57e-da19ba996fe9"
      },
      "source": [
        "a = np.random.rand(4,3)\n",
        "a"
      ],
      "execution_count": null,
      "outputs": [
        {
          "output_type": "execute_result",
          "data": {
            "text/plain": [
              "array([[0.29507589, 0.18333855, 0.01973246],\n",
              "       [0.74332123, 0.0382934 , 0.43367967],\n",
              "       [0.83208476, 0.01345856, 0.50933539],\n",
              "       [0.4795487 , 0.02965494, 0.01142853]])"
            ]
          },
          "metadata": {
            "tags": []
          },
          "execution_count": 30
        }
      ]
    },
    {
      "cell_type": "code",
      "metadata": {
        "id": "WztxUlemN9dB",
        "colab": {
          "base_uri": "https://localhost:8080/",
          "height": 84
        },
        "outputId": "9093627a-975e-416d-e0b6-534105caef26"
      },
      "source": [
        "b = torch.from_numpy(a)\n",
        "b"
      ],
      "execution_count": null,
      "outputs": [
        {
          "output_type": "execute_result",
          "data": {
            "text/plain": [
              "tensor([[0.2951, 0.1833, 0.0197],\n",
              "        [0.7433, 0.0383, 0.4337],\n",
              "        [0.8321, 0.0135, 0.5093],\n",
              "        [0.4795, 0.0297, 0.0114]], dtype=torch.float64)"
            ]
          },
          "metadata": {
            "tags": []
          },
          "execution_count": 31
        }
      ]
    },
    {
      "cell_type": "code",
      "metadata": {
        "id": "NYVmPhFZN9dD",
        "colab": {
          "base_uri": "https://localhost:8080/",
          "height": 84
        },
        "outputId": "64230eb4-5df0-4bc0-808c-f4503e994d9e"
      },
      "source": [
        "b.numpy()"
      ],
      "execution_count": null,
      "outputs": [
        {
          "output_type": "execute_result",
          "data": {
            "text/plain": [
              "array([[0.29507589, 0.18333855, 0.01973246],\n",
              "       [0.74332123, 0.0382934 , 0.43367967],\n",
              "       [0.83208476, 0.01345856, 0.50933539],\n",
              "       [0.4795487 , 0.02965494, 0.01142853]])"
            ]
          },
          "metadata": {
            "tags": []
          },
          "execution_count": 32
        }
      ]
    },
    {
      "cell_type": "markdown",
      "metadata": {
        "id": "PnZFUJrbN9dE"
      },
      "source": [
        "The memory is shared between the Numpy array and Torch tensor, so if you change the values in-place of one object, the other will change as well."
      ]
    },
    {
      "cell_type": "code",
      "metadata": {
        "id": "WGHVX1uIN9dF",
        "colab": {
          "base_uri": "https://localhost:8080/",
          "height": 84
        },
        "outputId": "cf18a172-a7c3-4c86-a83b-a20283db1fa8"
      },
      "source": [
        "# Multiply PyTorch Tensor by 2, in place (Note the _)\n",
        "b.mul_(2)"
      ],
      "execution_count": null,
      "outputs": [
        {
          "output_type": "execute_result",
          "data": {
            "text/plain": [
              "tensor([[0.5902, 0.3667, 0.0395],\n",
              "        [1.4866, 0.0766, 0.8674],\n",
              "        [1.6642, 0.0269, 1.0187],\n",
              "        [0.9591, 0.0593, 0.0229]], dtype=torch.float64)"
            ]
          },
          "metadata": {
            "tags": []
          },
          "execution_count": 33
        }
      ]
    },
    {
      "cell_type": "code",
      "metadata": {
        "id": "QwyLUIlEN9dI",
        "colab": {
          "base_uri": "https://localhost:8080/",
          "height": 84
        },
        "outputId": "0073f3f2-f009-4a62-9759-f27e2c453308"
      },
      "source": [
        "# Numpy array matches new values from Tensor\n",
        "a"
      ],
      "execution_count": null,
      "outputs": [
        {
          "output_type": "execute_result",
          "data": {
            "text/plain": [
              "array([[0.59015179, 0.3666771 , 0.03946492],\n",
              "       [1.48664246, 0.07658681, 0.86735934],\n",
              "       [1.66416952, 0.02691712, 1.01867078],\n",
              "       [0.9590974 , 0.05930988, 0.02285705]])"
            ]
          },
          "metadata": {
            "tags": []
          },
          "execution_count": 34
        }
      ]
    },
    {
      "cell_type": "markdown",
      "metadata": {
        "id": "8IoATd7aN9dL"
      },
      "source": [
        "## Part III. Define a logistc regression and its loss function in Pytorch\n",
        "\n",
        "#### The `nn.()` module\n",
        "\n",
        "PyTorch provides a module `nn` that makes building neural networks much simpler. \n"
      ]
    },
    {
      "cell_type": "code",
      "metadata": {
        "id": "JcYEaECgN9dM"
      },
      "source": [
        "from torch import nn"
      ],
      "execution_count": null,
      "outputs": []
    },
    {
      "cell_type": "markdown",
      "metadata": {
        "id": "xwJBPvRXN9dP"
      },
      "source": [
        "You should to get use to inspect [Pytorch official documentation](https://pytorch.org/docs/stable/index.html) to understand the structure and usability of methods and classes required to work with Pytorch and train neural networks.\n",
        "\n",
        "With the following code I show you how to create a Logistic Regression network whose parameters will be later on optimized for our data."
      ]
    },
    {
      "cell_type": "code",
      "metadata": {
        "id": "CxgnKojiN9dQ"
      },
      "source": [
        "class LR(nn.Module):\n",
        "    def __init__(self,dimx):\n",
        "        super().__init__()\n",
        "        \n",
        "        self.weights = nn.Parameter(torch.randn(dimx,1),requires_grad = True)\n",
        "        \n",
        "        self.bias = nn.Parameter(torch.randn(1,1),requires_grad = True)\n",
        "        \n",
        "        # Define sigmoid activation and softmax output \n",
        "        self.sigmoid = nn.Sigmoid()\n",
        "        \n",
        "    def forward(self, x):\n",
        "        # Pass the input tensor through each of our operations\n",
        "        x = self.sigmoid(torch.matmul(x,self.weights)+self.bias)\n",
        "        return x"
      ],
      "execution_count": null,
      "outputs": []
    },
    {
      "cell_type": "markdown",
      "metadata": {
        "id": "ck8mpNMhN9dR"
      },
      "source": [
        "Let's go through this bit by bit.\n",
        "\n",
        "```python\n",
        "class Network(nn.Module):\n",
        "```\n",
        "\n",
        "Here we're inheriting from `nn.Module`. Combined with `super().__init__()` this creates a class that tracks the architecture and provides a lot of useful methods and attributes. It is mandatory to inherit from `nn.Module` when you're creating a class for your network. The name of the class itself can be anything.\n",
        "\n",
        "```python\n",
        "self.weights = nn.Parameter(torch.randn(dimx,1),requires_grad = True)\n",
        "self.bias = nn.Parameter(torch.randn(1,1),requires_grad = True)\n",
        "```\n",
        "\n",
        "The Parameter class defines a kind of Tensor that is to be considered a module parameter. Namely, we will optimize the values of these tensors. Note that we define a random optimization.\n",
        "\n",
        "```python\n",
        "def forward(self, x):\n",
        "```\n",
        "\n",
        "PyTorch networks created with `nn.Module` must have a `forward` method defined. It takes in a tensor `x` and passes it through the operations you defined in the `__init__` method.\n"
      ]
    },
    {
      "cell_type": "markdown",
      "metadata": {
        "id": "8cu5qP2uN9dS"
      },
      "source": [
        "### A more compact definition of the network using pre-defined layers\n",
        "\n",
        "The `.nn` package provides us with predefined layers and operators so that the implementation of our networks is indeed much easier (and compact). The following code performs exactly as the class `LR` defined above."
      ]
    },
    {
      "cell_type": "code",
      "metadata": {
        "id": "3ktJIr7ON9dU"
      },
      "source": [
        "class LR2(nn.Module):\n",
        "    def __init__(self,dimx):\n",
        "        super().__init__()\n",
        "        \n",
        "        self.output = nn.Linear(dimx,1)\n",
        "    \n",
        "        # Define sigmoid activation and softmax output \n",
        "        self.sigmoid = nn.Sigmoid()\n",
        "        \n",
        "    def forward(self, x):\n",
        "        # Pass the input tensor through each of our operations\n",
        "        x = self.output(x)\n",
        "        x = self.sigmoid(x)\n",
        "        return x"
      ],
      "execution_count": null,
      "outputs": []
    },
    {
      "cell_type": "markdown",
      "metadata": {
        "id": "pp9uRcTeN9dW"
      },
      "source": [
        "When we define a logistic regressor by instantiating the class `LR2`, we can access the weights and the bias as `self.output.weight` and `self.output.bias`\n",
        "\n"
      ]
    },
    {
      "cell_type": "markdown",
      "metadata": {
        "id": "sEyYUPueN9dX"
      },
      "source": [
        "#### Evaluate the logistic regressor using our data. The autograd module\n",
        "\n",
        "Lets take the first 10 datapoints in the training set"
      ]
    },
    {
      "cell_type": "code",
      "metadata": {
        "id": "NV76TLLPN9dZ",
        "colab": {
          "base_uri": "https://localhost:8080/",
          "height": 198
        },
        "outputId": "fe7b2c37-8ba6-460d-a0c8-d4c851ed6f79"
      },
      "source": [
        "x = np.array(train_data[:10]).astype(np.float32)\n",
        "y = x[:,-1]    # Last Column is the class\n",
        "x = x[:,:-1]"
      ],
      "execution_count": null,
      "outputs": [
        {
          "output_type": "error",
          "ename": "NameError",
          "evalue": "ignored",
          "traceback": [
            "\u001b[0;31m---------------------------------------------------------------------------\u001b[0m",
            "\u001b[0;31mNameError\u001b[0m                                 Traceback (most recent call last)",
            "\u001b[0;32m<ipython-input-1-1ca57f4c7e3f>\u001b[0m in \u001b[0;36m<module>\u001b[0;34m()\u001b[0m\n\u001b[0;32m----> 1\u001b[0;31m \u001b[0mx\u001b[0m \u001b[0;34m=\u001b[0m \u001b[0mnp\u001b[0m\u001b[0;34m.\u001b[0m\u001b[0marray\u001b[0m\u001b[0;34m(\u001b[0m\u001b[0mtrain_data\u001b[0m\u001b[0;34m[\u001b[0m\u001b[0;34m:\u001b[0m\u001b[0;36m10\u001b[0m\u001b[0;34m]\u001b[0m\u001b[0;34m)\u001b[0m\u001b[0;34m.\u001b[0m\u001b[0mastype\u001b[0m\u001b[0;34m(\u001b[0m\u001b[0mnp\u001b[0m\u001b[0;34m.\u001b[0m\u001b[0mfloat32\u001b[0m\u001b[0;34m)\u001b[0m\u001b[0;34m\u001b[0m\u001b[0;34m\u001b[0m\u001b[0m\n\u001b[0m\u001b[1;32m      2\u001b[0m \u001b[0my\u001b[0m \u001b[0;34m=\u001b[0m \u001b[0mx\u001b[0m\u001b[0;34m[\u001b[0m\u001b[0;34m:\u001b[0m\u001b[0;34m,\u001b[0m\u001b[0;34m-\u001b[0m\u001b[0;36m1\u001b[0m\u001b[0;34m]\u001b[0m    \u001b[0;31m# Last Column is the class\u001b[0m\u001b[0;34m\u001b[0m\u001b[0;34m\u001b[0m\u001b[0m\n\u001b[1;32m      3\u001b[0m \u001b[0mx\u001b[0m \u001b[0;34m=\u001b[0m \u001b[0mx\u001b[0m\u001b[0;34m[\u001b[0m\u001b[0;34m:\u001b[0m\u001b[0;34m,\u001b[0m\u001b[0;34m:\u001b[0m\u001b[0;34m-\u001b[0m\u001b[0;36m1\u001b[0m\u001b[0;34m]\u001b[0m\u001b[0;34m\u001b[0m\u001b[0;34m\u001b[0m\u001b[0m\n",
            "\u001b[0;31mNameError\u001b[0m: name 'np' is not defined"
          ]
        }
      ]
    },
    {
      "cell_type": "markdown",
      "metadata": {
        "id": "2wrbp08GN9dg"
      },
      "source": [
        "> **Exercise:** Instantiate the class `LR` or `LR2` with the right input dimension"
      ]
    },
    {
      "cell_type": "code",
      "metadata": {
        "id": "gl50a5juN9dh"
      },
      "source": [
        "## YOUR CODE HERE\n",
        "\n",
        "dimx=x.shape[1]\n",
        "my_classifier = LR(dimx)"
      ],
      "execution_count": null,
      "outputs": []
    },
    {
      "cell_type": "markdown",
      "metadata": {
        "id": "alo5K_yMN9dj"
      },
      "source": [
        "To evaluate the logistic regressor output for the data in `x`, we make use of the class `forward` method. Do not forget to feed the function with a **torch tensor**."
      ]
    },
    {
      "cell_type": "code",
      "metadata": {
        "id": "70jZYfbiN9dj"
      },
      "source": [
        "output = my_classifier.forward(torch.tensor(x)) # estos nums son probabilidades"
      ],
      "execution_count": null,
      "outputs": []
    },
    {
      "cell_type": "code",
      "metadata": {
        "id": "HEJfmZ3cN9dl",
        "colab": {
          "base_uri": "https://localhost:8080/",
          "height": 185
        },
        "outputId": "88e860a6-59c5-42bd-fa4c-d9ec6557314f"
      },
      "source": [
        "print(output)"
      ],
      "execution_count": null,
      "outputs": [
        {
          "output_type": "stream",
          "text": [
            "tensor([[1.0000],\n",
            "        [0.0122],\n",
            "        [0.0343],\n",
            "        [0.0159],\n",
            "        [0.2592],\n",
            "        [0.9999],\n",
            "        [0.0173],\n",
            "        [0.0128],\n",
            "        [0.9866],\n",
            "        [0.0143]], grad_fn=<SigmoidBackward>)\n"
          ],
          "name": "stdout"
        }
      ]
    },
    {
      "cell_type": "markdown",
      "metadata": {
        "id": "jSwUY7cmN9do"
      },
      "source": [
        "Above we can see the operation that created `output`, a sigmoid operation `SigmoidBackward`. The autograd module keeps track of all operations that affect Parameter tensors and knows how to calculate the gradient for each one. In this way, it's able to calculate the gradients for a chain of operations, with respect to any one tensor. Let's reduce the tensor `y` to a scalar value, the binary cross entropy. We will use the class `nn.BCE()`. See how to use the function in the [official documentation](https://pytorch.org/docs/stable/nn.html)."
      ]
    },
    {
      "cell_type": "code",
      "metadata": {
        "id": "l1qgQol2N9do"
      },
      "source": [
        "bce = nn.BCELoss()"
      ],
      "execution_count": null,
      "outputs": []
    },
    {
      "cell_type": "code",
      "metadata": {
        "id": "6HYtpMEQN9ds",
        "colab": {
          "base_uri": "https://localhost:8080/",
          "height": 34
        },
        "outputId": "eb23a79b-7d6a-4244-feb4-b218ee5be603"
      },
      "source": [
        "loss = bce(output,torch.tensor(y).view(10,1))\n",
        "\n",
        "print(loss)"
      ],
      "execution_count": null,
      "outputs": [
        {
          "output_type": "stream",
          "text": [
            "tensor(0.0422, grad_fn=<BinaryCrossEntropyBackward>)\n"
          ],
          "name": "stdout"
        }
      ]
    },
    {
      "cell_type": "markdown",
      "metadata": {
        "id": "Bnr3MuVMN9du"
      },
      "source": [
        "Above we can see the operation that created `loss`, a binary cross entropy `BinaryCrossEntropyBackward`.\n",
        "\n",
        "\n",
        "Now that we know how to calculate a loss, Torch provides a module, `autograd`, for automatically calculating the gradients of the loss w.r.t. the tensors. Autograd works by keeping track of operations performed on tensors, then going backwards through those operations, calculating gradients along the way.\n",
        "To make sure PyTorch keeps track of operations on a tensor and calculates the gradients, you need to set `requires_grad = True` on a tensor. You can do this at creation with the `requires_grad` keyword, or at any time with `x.requires_grad_(True)`. By default, all tensors created by instantiating the class `nn.Parameter` have `requires_grad = True`.\n",
        "\n",
        "> **Exercise**: Check that both the weights and the bias of the class `LR` and `LR2` have this flag set to `True`\n"
      ]
    },
    {
      "cell_type": "code",
      "metadata": {
        "id": "EU0Y2UGgN9dv",
        "colab": {
          "base_uri": "https://localhost:8080/",
          "height": 50
        },
        "outputId": "fdc2b373-7f92-4da8-9b34-4549d9de6a11"
      },
      "source": [
        "#YOUR CODE HERE \n",
        "print(my_classifier.weights.requires_grad)\n",
        "print(my_classifier.bias.requires_grad)"
      ],
      "execution_count": null,
      "outputs": [
        {
          "output_type": "stream",
          "text": [
            "True\n",
            "True\n"
          ],
          "name": "stdout"
        }
      ]
    },
    {
      "cell_type": "markdown",
      "metadata": {
        "id": "-X-zXgV0N9dx"
      },
      "source": [
        "You can turn off gradients for a block of code with the `torch.no_grad()` content:\n",
        "```python\n",
        "x = torch.zeros(1, requires_grad=True)\n",
        ">>> with torch.no_grad():\n",
        "...     y = x * 2\n",
        ">>> y.requires_grad\n",
        "False\n",
        "```\n",
        "\n",
        "Also, you can turn on or off gradients altogether with `torch.set_grad_enabled(True|False)`. Turning off gradients is recommended for instance when you are just evaluating you network, i.e., when training is finished and only parameter evaluation is required.\n"
      ]
    },
    {
      "cell_type": "markdown",
      "metadata": {
        "id": "RXXCZyf7N9dx"
      },
      "source": [
        "### The `.backward()` operator\n",
        "\n",
        "\n",
        "The gradients are computed with respect to some variable `z` with `z.backward()`. This does a backward pass through the operations that created `z`. This means that when we calculate the loss and call `loss.backward()`, the gradients for the parameters are calculated. These gradients are used to update the weights with gradient descent.\n",
        "\n",
        "After calling  `loss.backward()` the gradient of `loss` w.r.t. to any tensor `x` can be accessed as `x.grad`\n",
        "\n",
        "\n",
        "> **Exercise**: Given the tensor $x$ (of size $10\\times1$) defined below, evaluate the gradient of $y=x^T~x$ w.r.t. every component of $x$. Does it coincide with the analytical solution?"
      ]
    },
    {
      "cell_type": "code",
      "metadata": {
        "id": "tW1nq2BRN9dz",
        "colab": {
          "base_uri": "https://localhost:8080/",
          "height": 486
        },
        "outputId": "297f28b6-1a02-4cda-e6e3-7801af44f8a0"
      },
      "source": [
        "x = torch.randn(10,1,requires_grad=True)\n",
        "\n",
        "#YOUR CODE HERE\n",
        "\n",
        "y = torch.mm(x.view(1,10),x)\n",
        "\n",
        "print(y.grad_fn)\n",
        "\n",
        "#YOUR CODE HERE\n",
        "y.backward()\n",
        "\n",
        "print(x.grad)  #dy/dx\n",
        "\n",
        "\n",
        "# Turn off gradients for validation, saves memory and computations\n",
        "with torch.no_grad():\n",
        "    #YOUR CODE HERE. Plot the computed gradient vs 2*x (the analytical solution)\n",
        "    plt.stem(x.grad.detach().numpy(),label='Autograd')\n",
        "    plt.plot(2*x.detach().numpy(),'-g',label='$2x$')\n",
        "    plt.legend()"
      ],
      "execution_count": null,
      "outputs": [
        {
          "output_type": "stream",
          "text": [
            "<MmBackward object at 0x7fb56c194978>\n",
            "tensor([[-1.8359],\n",
            "        [-0.9156],\n",
            "        [-1.4489],\n",
            "        [ 2.5598],\n",
            "        [-1.9881],\n",
            "        [ 3.6299],\n",
            "        [-1.2057],\n",
            "        [ 3.2296],\n",
            "        [ 3.8604],\n",
            "        [-0.8450]])\n"
          ],
          "name": "stdout"
        },
        {
          "output_type": "stream",
          "text": [
            "/usr/local/lib/python3.6/dist-packages/ipykernel_launcher.py:18: UserWarning: In Matplotlib 3.3 individual lines on a stem plot will be added as a LineCollection instead of individual lines. This significantly improves the performance of a stem plot. To remove this warning and switch to the new behaviour, set the \"use_line_collection\" keyword argument to True.\n"
          ],
          "name": "stderr"
        },
        {
          "output_type": "display_data",
          "data": {
            "image/png": "[encoded data removed]",
            "text/plain": [
              "<Figure size 432x288 with 1 Axes>"
            ]
          },
          "metadata": {
            "tags": []
          }
        }
      ]
    },
    {
      "cell_type": "markdown",
      "metadata": {
        "id": "R6vg8LBVN9d1"
      },
      "source": [
        "`.detach()` method constructs a new view on a tensor which is declared not to need gradients. You can see a nice example in this [link](method constructs a new view on a tensor which is declared not to need gradients). Typically, we will use detach to export values to numpy to perform model evaluation. In Pytorch, you cannot call the `.numpy()` operators in Tensor that have `require_grad=True`.\n",
        "\n",
        "\n",
        "An important aspects to implement Gradient Descent Loops is that if call again the `.backward()` operator, then **gradients are accumulated** in the variable `x.grad`. \n",
        "\n",
        "> **Exercise**: Check that gradients are accumulated by calling again `y.backward()`   \n",
        "\n"
      ]
    },
    {
      "cell_type": "code",
      "metadata": {
        "id": "a4qWJubVN9d1",
        "colab": {
          "base_uri": "https://localhost:8080/",
          "height": 335
        },
        "outputId": "7221e706-8979-4aba-cc35-ddd52d5becb1"
      },
      "source": [
        "y = torch.matmul(x.view(1,10),x)\n",
        "#YOUR CODE HERE\n",
        "print(y.grad_fn) #first we use this backward function to calculate the gradient\n",
        "\n",
        "y.backward()\n",
        "\n",
        "#YOUR CODE HERE. Plot the computed gradient vs 2*x (the analytical solution)\n",
        "with torch.no_grad():\n",
        "     #YOUR CODE HERE. Plot the computed gradient vs 2*x (the analytical solution)\n",
        "    plt.stem(x.grad.detach().numpy(),label='Autograd')\n",
        "    plt.plot(2*x.detach().numpy(),'-g',label='$2x$')\n",
        "    plt.legend()\n",
        "     \n",
        "#esto era para ver que se acumulan los gradientes\n"
      ],
      "execution_count": null,
      "outputs": [
        {
          "output_type": "stream",
          "text": [
            "<MmBackward object at 0x7fb56b0dc7b8>\n"
          ],
          "name": "stdout"
        },
        {
          "output_type": "stream",
          "text": [
            "/usr/local/lib/python3.6/dist-packages/ipykernel_launcher.py:10: UserWarning: In Matplotlib 3.3 individual lines on a stem plot will be added as a LineCollection instead of individual lines. This significantly improves the performance of a stem plot. To remove this warning and switch to the new behaviour, set the \"use_line_collection\" keyword argument to True.\n",
            "  # Remove the CWD from sys.path while we load stuff.\n"
          ],
          "name": "stderr"
        },
        {
          "output_type": "display_data",
          "data": {
            "image/png": "[encoded data removed]",
            "text/plain": [
              "<Figure size 432x288 with 1 Axes>"
            ]
          },
          "metadata": {
            "tags": []
          }
        }
      ]
    },
    {
      "cell_type": "markdown",
      "metadata": {
        "id": "RzU9LhjzN9d5"
      },
      "source": [
        "In order to reset gradients, we will see that the Pytorch optimizers provide us with the appropiate method."
      ]
    },
    {
      "cell_type": "markdown",
      "metadata": {
        "id": "TXi146U3N9d6"
      },
      "source": [
        "## Part IV. Train the logistic regressor with the complete dataset\n",
        "\n",
        "When we create a network with PyTorch, all of the parameters are initialized with `requires_grad = True`. This means that when we calculate the loss and call `loss.backward()`, the gradients for the parameters are calculated. These gradients are used to update the weights with gradient descent. Below you can see an example of calculating the gradients using a backwards pass."
      ]
    },
    {
      "cell_type": "code",
      "metadata": {
        "id": "kDfC7T2FN9d7"
      },
      "source": [
        "# We use all data points  \n",
        "\n",
        "x = np.array(train_data).astype(np.float32)\n",
        "# Last Column is the class\n",
        "y = x[:,-1]  \n",
        "x = x[:,:-1]"
      ],
      "execution_count": null,
      "outputs": []
    },
    {
      "cell_type": "code",
      "metadata": {
        "id": "Ou8TnLeuN9d8",
        "colab": {
          "base_uri": "https://localhost:8080/",
          "height": 87
        },
        "outputId": "3a09623e-2bbd-4c08-959e-08e5f1d72f04"
      },
      "source": [
        "my_classifier2 = LR2(x.shape[1])\n",
        "\n",
        "criterion = nn.BCELoss()\n",
        "\n",
        "output = my_classifier2.forward(torch.tensor(x))\n",
        "\n",
        "loss = criterion(output,torch.tensor(y))\n",
        "\n",
        "loss.backward()\n",
        "\n",
        "print(my_classifier2.output.weight.grad.shape)  #dloss/dw shape"
      ],
      "execution_count": null,
      "outputs": [
        {
          "output_type": "stream",
          "text": [
            "torch.Size([1, 9])\n"
          ],
          "name": "stdout"
        },
        {
          "output_type": "stream",
          "text": [
            "/usr/local/lib/python3.6/dist-packages/torch/nn/modules/loss.py:498: UserWarning: Using a target size (torch.Size([489])) that is different to the input size (torch.Size([489, 1])) is deprecated. Please ensure they have the same size.\n",
            "  return F.binary_cross_entropy(input, target, weight=self.weight, reduction=self.reduction)\n"
          ],
          "name": "stderr"
        }
      ]
    },
    {
      "cell_type": "markdown",
      "metadata": {
        "id": "_QtuD9WkN9d-"
      },
      "source": [
        "#### Defining an optimizer\n",
        "\n",
        "There's one last piece we need to start training, an optimizer that we'll use to update the weights with the gradients. We get these from PyTorch's [`optim` package](https://pytorch.org/docs/stable/optim.html). For example we can use stochastic gradient descent with `optim.SGD`. You can see how to define an optimizer below.\n",
        "\n",
        "With the following code, we can define the optimizer:\n"
      ]
    },
    {
      "cell_type": "code",
      "metadata": {
        "id": "2NSPGPsAN9d_"
      },
      "source": [
        "from torch import optim\n",
        "\n",
        "# Optimizers require the parameters to optimize and a learning rate\n",
        "optimizer = optim.SGD(my_classifier2.parameters(), lr=0.01)"
      ],
      "execution_count": null,
      "outputs": []
    },
    {
      "cell_type": "markdown",
      "metadata": {
        "id": "Vit2uFiBN9eA"
      },
      "source": [
        "To perform a SGD iteration, we simply call `optmizer.step()`\n",
        "\n",
        "\n",
        "By the way, `my_classifier2.parameters()` returns a [generator object](https://realpython.com/introduction-to-python-generators/)"
      ]
    },
    {
      "cell_type": "code",
      "metadata": {
        "id": "H3jNtcDSN9eB",
        "colab": {
          "base_uri": "https://localhost:8080/",
          "height": 118
        },
        "outputId": "14ca2cbb-e658-4e98-b7bd-f0dcf3394106"
      },
      "source": [
        "params = my_classifier2.parameters()\n",
        "\n",
        "print(type(params))\n",
        "\n",
        "print(next(params))\n",
        "\n",
        "print(next(params))"
      ],
      "execution_count": null,
      "outputs": [
        {
          "output_type": "stream",
          "text": [
            "<class 'generator'>\n",
            "Parameter containing:\n",
            "tensor([[-0.1130,  0.0131, -0.1902, -0.1456,  0.1120,  0.1918,  0.0047, -0.1297,\n",
            "          0.1825]], requires_grad=True)\n",
            "Parameter containing:\n",
            "tensor([-0.1827], requires_grad=True)\n"
          ],
          "name": "stdout"
        }
      ]
    },
    {
      "cell_type": "markdown",
      "metadata": {
        "id": "WxvNRrVMN9eC"
      },
      "source": [
        "If we call again the method `next()` over params, Python will yield a `StopIteration` error:"
      ]
    },
    {
      "cell_type": "code",
      "metadata": {
        "id": "CwVPBvKuN9eD",
        "colab": {
          "base_uri": "https://localhost:8080/",
          "height": 162
        },
        "outputId": "7c2c2059-eae5-4fce-a970-e723bc948667"
      },
      "source": [
        "print(next(params))"
      ],
      "execution_count": null,
      "outputs": [
        {
          "output_type": "error",
          "ename": "StopIteration",
          "evalue": "ignored",
          "traceback": [
            "\u001b[0;31m---------------------------------------------------------------------------\u001b[0m",
            "\u001b[0;31mStopIteration\u001b[0m                             Traceback (most recent call last)",
            "\u001b[0;32m<ipython-input-51-419f69b3edd6>\u001b[0m in \u001b[0;36m<module>\u001b[0;34m()\u001b[0m\n\u001b[0;32m----> 1\u001b[0;31m \u001b[0mprint\u001b[0m\u001b[0;34m(\u001b[0m\u001b[0mnext\u001b[0m\u001b[0;34m(\u001b[0m\u001b[0mparams\u001b[0m\u001b[0;34m)\u001b[0m\u001b[0;34m)\u001b[0m\u001b[0;34m\u001b[0m\u001b[0;34m\u001b[0m\u001b[0m\n\u001b[0m",
            "\u001b[0;31mStopIteration\u001b[0m: "
          ]
        }
      ]
    },
    {
      "cell_type": "markdown",
      "metadata": {
        "id": "ybk7XyipN9eF"
      },
      "source": [
        "#### Creating a class with both the network and a training method\n",
        "\n",
        "Object Oriented Programming (OOP) in Python is a versatil and convenient method to implement our own software and create reusable sofware. Indeed, along this whole notebook, we have been using classes all the time.\n",
        "\n",
        "[Here](https://www.programiz.com/python-programming/object-oriented-programming) you can find a short introduction to OOP in Python.\n",
        "\n",
        "With the following code, we will define a class that incorporates the definition of the logistic regression network and **a method to train the parameters**. Go carefully through the code and try to understand it line by line."
      ]
    },
    {
      "cell_type": "code",
      "metadata": {
        "id": "e3JxmgOAN9eG"
      },
      "source": [
        "''' This class inherits from the LR2 class. So it has the same atributes\n",
        "and methods, and some others that we will add. \n",
        "'''\n",
        "class LR_extended(LR2):\n",
        "    \n",
        "    def __init__(self,dimx,sgd_iterations=1000,lr=0.001):\n",
        "        \n",
        "        super().__init__(dimx)  #To initialize LR2!\n",
        "        \n",
        "        self.lr = lr #Learning Rate\n",
        "        \n",
        "        self.optim = optim.SGD(self.parameters(), self.lr)\n",
        "        \n",
        "        self.sgd_iterations = sgd_iterations #SGD steps\n",
        "        \n",
        "        self.criterion = nn.BCELoss()\n",
        "        \n",
        "        # A list to store the loss evolution along training\n",
        "        \n",
        "        self.loss_during_training = [] \n",
        "        \n",
        "    def train(self,x,y):\n",
        "        \n",
        "        # SGD Loop\n",
        "        \n",
        "        for iter in range(int(self.sgd_iterations)):\n",
        "        \n",
        "            self.optim.zero_grad()  #TO RESET GRADIENTS!\n",
        "\n",
        "            out = self.forward(x)\n",
        "\n",
        "            loss = self.criterion(out,y)\n",
        "\n",
        "            self.loss_during_training.append(loss.item())\n",
        "\n",
        "            loss.backward()\n",
        "\n",
        "            self.optim.step()\n",
        "        \n",
        "            if(iter % 1000 == 0): # Every 1000 iterations\n",
        "                \n",
        "                print(\"Training loss after %d iterations: %f\" \n",
        "                      %(iter,self.loss_during_training[-1]))\n",
        "        "
      ],
      "execution_count": null,
      "outputs": []
    },
    {
      "cell_type": "markdown",
      "metadata": {
        "id": "D99WP9lTN9eK"
      },
      "source": [
        "Lets instantiate the class and train the logistic regressor. See how compact and easy is now (OOP is great!)."
      ]
    },
    {
      "cell_type": "code",
      "metadata": {
        "id": "yELwP6vHN9eL",
        "colab": {
          "base_uri": "https://localhost:8080/",
          "height": 121
        },
        "outputId": "35b46ccc-71ed-4ab2-dcae-7fe1147222df"
      },
      "source": [
        "my_LR = LR_extended(x.shape[1],sgd_iterations=3000,lr=0.001)\n",
        "\n",
        "my_LR.train(torch.tensor(x),torch.tensor(y))"
      ],
      "execution_count": null,
      "outputs": [
        {
          "output_type": "stream",
          "text": [
            "/usr/local/lib/python3.6/dist-packages/torch/nn/modules/loss.py:498: UserWarning: Using a target size (torch.Size([489])) that is different to the input size (torch.Size([489, 1])) is deprecated. Please ensure they have the same size.\n",
            "  return F.binary_cross_entropy(input, target, weight=self.weight, reduction=self.reduction)\n"
          ],
          "name": "stderr"
        },
        {
          "output_type": "stream",
          "text": [
            "Training loss after 0 iterations: 0.584372\n",
            "Training loss after 1000 iterations: 0.269989\n",
            "Training loss after 2000 iterations: 0.194411\n"
          ],
          "name": "stdout"
        }
      ]
    },
    {
      "cell_type": "markdown",
      "metadata": {
        "id": "LOjI6g9cN9eN"
      },
      "source": [
        "Note that if you believe that training isn't finished yet, you can simply call again the `.train()` method."
      ]
    },
    {
      "cell_type": "code",
      "metadata": {
        "id": "povj6vhON9eO",
        "colab": {
          "base_uri": "https://localhost:8080/",
          "height": 121
        },
        "outputId": "34116869-04bd-4924-f6c6-5aed6bd17aca"
      },
      "source": [
        "my_LR.train(torch.tensor(x),torch.tensor(y))"
      ],
      "execution_count": null,
      "outputs": [
        {
          "output_type": "stream",
          "text": [
            "/usr/local/lib/python3.6/dist-packages/torch/nn/modules/loss.py:498: UserWarning: Using a target size (torch.Size([489])) that is different to the input size (torch.Size([489, 1])) is deprecated. Please ensure they have the same size.\n",
            "  return F.binary_cross_entropy(input, target, weight=self.weight, reduction=self.reduction)\n"
          ],
          "name": "stderr"
        },
        {
          "output_type": "stream",
          "text": [
            "Training loss after 0 iterations: 0.161354\n",
            "Training loss after 1000 iterations: 0.143000\n",
            "Training loss after 2000 iterations: 0.131391\n"
          ],
          "name": "stdout"
        }
      ]
    },
    {
      "cell_type": "markdown",
      "metadata": {
        "id": "7kkaYAvzN9eR"
      },
      "source": [
        "> **Exercise**: Train from scratch the logistic regresson for 20.000 iterations and plot the evolution of the binary cross entropy loss."
      ]
    },
    {
      "cell_type": "code",
      "metadata": {
        "id": "pkV3ohVTN9eR",
        "colab": {
          "base_uri": "https://localhost:8080/",
          "height": 671
        },
        "outputId": "2fd63ea4-d904-4ca4-a789-daff81de08b4"
      },
      "source": [
        "# Your code here\n",
        "my_LR2 = LR_extended(x.shape[1],sgd_iterations=20000,lr=0.001)\n",
        "# Your code here\n",
        "my_LR2.train(torch.tensor(x),torch.tensor(y))\n",
        "\n",
        "\n",
        "plt.plot(my_LR2.loss_during_training,'-g',label='$Ev$')\n",
        "# el error baja mucho mas rapido el SGD que el GD"
      ],
      "execution_count": null,
      "outputs": [
        {
          "output_type": "stream",
          "text": [
            "/usr/local/lib/python3.6/dist-packages/torch/nn/modules/loss.py:498: UserWarning: Using a target size (torch.Size([489])) that is different to the input size (torch.Size([489, 1])) is deprecated. Please ensure they have the same size.\n",
            "  return F.binary_cross_entropy(input, target, weight=self.weight, reduction=self.reduction)\n"
          ],
          "name": "stderr"
        },
        {
          "output_type": "stream",
          "text": [
            "Training loss after 0 iterations: 0.642660\n",
            "Training loss after 1000 iterations: 0.273910\n",
            "Training loss after 2000 iterations: 0.193057\n",
            "Training loss after 3000 iterations: 0.159021\n",
            "Training loss after 4000 iterations: 0.140529\n",
            "Training loss after 5000 iterations: 0.129000\n",
            "Training loss after 6000 iterations: 0.121162\n",
            "Training loss after 7000 iterations: 0.115502\n",
            "Training loss after 8000 iterations: 0.111229\n",
            "Training loss after 9000 iterations: 0.107893\n",
            "Training loss after 10000 iterations: 0.105217\n",
            "Training loss after 11000 iterations: 0.103021\n",
            "Training loss after 12000 iterations: 0.101186\n",
            "Training loss after 13000 iterations: 0.099629\n",
            "Training loss after 14000 iterations: 0.098290\n",
            "Training loss after 15000 iterations: 0.097125\n",
            "Training loss after 16000 iterations: 0.096101\n",
            "Training loss after 17000 iterations: 0.095193\n",
            "Training loss after 18000 iterations: 0.094383\n",
            "Training loss after 19000 iterations: 0.093653\n"
          ],
          "name": "stdout"
        },
        {
          "output_type": "execute_result",
          "data": {
            "text/plain": [
              "[<matplotlib.lines.Line2D at 0x7fb56af9c3c8>]"
            ]
          },
          "metadata": {
            "tags": []
          },
          "execution_count": 55
        },
        {
          "output_type": "display_data",
          "data": {
            "image/png": "[encoded data removed]",
            "text/plain": [
              "<Figure size 432x288 with 1 Axes>"
            ]
          },
          "metadata": {
            "tags": []
          }
        }
      ]
    },
    {
      "cell_type": "markdown",
      "metadata": {
        "id": "_kGCeXe8N9eT"
      },
      "source": [
        "> **Exercise**: Print all model parameters (e.g. weights and bias)"
      ]
    },
    {
      "cell_type": "code",
      "metadata": {
        "id": "kOml274qN9eU",
        "colab": {
          "base_uri": "https://localhost:8080/",
          "height": 101
        },
        "outputId": "e053e179-c57d-44d9-d335-cfa3623164e7"
      },
      "source": [
        "#Your code here\n",
        "\n",
        "print(my_LR2.output.weight)\n",
        "#Your code here\n",
        "print(my_LR2.output.bias)\n"
      ],
      "execution_count": null,
      "outputs": [
        {
          "output_type": "stream",
          "text": [
            "Parameter containing:\n",
            "tensor([[0.6317, 0.5438, 0.8766, 0.6921, 0.3496, 1.0436, 0.5338, 0.3506, 0.4953]],\n",
            "       requires_grad=True)\n",
            "Parameter containing:\n",
            "tensor([-0.6319], requires_grad=True)\n"
          ],
          "name": "stdout"
        }
      ]
    },
    {
      "cell_type": "markdown",
      "metadata": {
        "id": "QAAltAOON9eW"
      },
      "source": [
        "#### Evaluating the model in the test set\n",
        "\n",
        "Now that we have trained our logistic regressor, it is time to compare its performance in both the training and the test sets.\n",
        "\n",
        "> **Exercise**: Compute the logistic regressor output for both the training data and the test data."
      ]
    },
    {
      "cell_type": "code",
      "metadata": {
        "id": "27YuKe2yN9eW"
      },
      "source": [
        "out_train = my_LR.forward(torch.tensor(x))\n",
        "\n",
        "#Your code here\n",
        "xtest = np.array(test_data).astype(np.float32)\n",
        "# Last Column is the class\n",
        "ytest = xtest[:,-1]   \n",
        "xtest = xtest[:,:-1]\n",
        "\n",
        "out_test = my_LR.forward(torch.tensor(xtest))"
      ],
      "execution_count": null,
      "outputs": []
    },
    {
      "cell_type": "markdown",
      "metadata": {
        "id": "-tQVHYaAN9eY"
      },
      "source": [
        "Recall that the logistic regressor output is an estimated class probability. Assuming we put the threshold at a probability of 0.5, lets count the number of errors in both sets."
      ]
    },
    {
      "cell_type": "code",
      "metadata": {
        "id": "oMcCDfh-N9eY",
        "colab": {
          "base_uri": "https://localhost:8080/",
          "height": 50
        },
        "outputId": "0e2a5b0c-85d8-423b-ba7b-2c9c6754bcd1"
      },
      "source": [
        "error_rate_train = np.sum((out_train.detach().numpy()>=0.5) \n",
        "                          == y.reshape([-1,1]))/y.shape[0]\n",
        "\n",
        "error_rate_test = np.sum((out_test.detach().numpy()>=0.5) \n",
        "                         == ytest.reshape([-1,1]))/ytest.shape[0]\n",
        "\n",
        "print(error_rate_train)\n",
        "\n",
        "print(error_rate_test)"
      ],
      "execution_count": null,
      "outputs": [
        {
          "output_type": "stream",
          "text": [
            "0.9652351738241309\n",
            "0.9666666666666667\n"
          ],
          "name": "stdout"
        }
      ]
    },
    {
      "cell_type": "markdown",
      "metadata": {
        "id": "ilQNmwVQN9ea"
      },
      "source": [
        "### Part V. Training a Logistic Regressor with mini-batch stochastic gradient descent\n",
        "\n",
        "Finally, we are going to implement an scalable version of the gradient descent training implemented above. At every iteration, instead of evaluating the gradient using all data points, a small minibatch of data will be used.\n",
        "\n",
        "To make sure that all training data points are evenly used to evaluate the gradient, we will use a short iterating function. Instead of predefining a certain number of SGD iterations, we define a certain number of **epochs**. After every epoch **all datapoints** have been used in the optimizer once. \n",
        "\n",
        "\n",
        "> **Exercise**: Complete the code for the following class"
      ]
    },
    {
      "cell_type": "code",
      "metadata": {
        "id": "cgMpy8h0N9eb"
      },
      "source": [
        "''' This class inherits from the LR2 class. So it has the same atributes\n",
        "and methods, and some others that we will add. \n",
        "'''\n",
        "class LR_extended_minibatch(LR2):\n",
        "    \n",
        "    def __init__(self,dimx,num_train_data,\n",
        "                 epochs=100,lr=0.001,batch_size=50):\n",
        "        \n",
        "        super().__init__(dimx)  #To initialize LR2!\n",
        "        \n",
        "        self.lr = lr #Learning Rate\n",
        "        \n",
        "        self.optim = optim.SGD(self.parameters(), self.lr)\n",
        "        \n",
        "        self.epochs = epochs\n",
        "        \n",
        "        self.criterion = nn.BCELoss()\n",
        "        \n",
        "        # A list to store the loss evolution along training\n",
        "        \n",
        "        self.loss_during_training = [] \n",
        "        \n",
        "        self.batch_size = batch_size\n",
        "        \n",
        "        self.num_train = num_train_data\n",
        "        \n",
        "        self.num_batchs = np.floor(self.num_train/self.batch_size)\n",
        "        \n",
        "    def train(self,x,y):\n",
        "        \n",
        "        # SGD Loop\n",
        "        \n",
        "        for e in range(int(self.epochs)):\n",
        "            \n",
        "            # Random data permutation at each epoch\n",
        "            \n",
        "            idx = np.random.permutation(self.num_train)\n",
        "            \n",
        "            running_loss = 0.\n",
        "            for i in range(int(self.num_batchs)):\n",
        "        \n",
        "                self.optim.zero_grad()  #TO RESET GRADIENTS!\n",
        "            \n",
        "                idx_batch = idx[i*self.batch_size:(i+1)*self.batch_size]\n",
        "\n",
        "                out = self.forward(x[idx_batch,:])\n",
        "\n",
        "                #Your code here\n",
        "                loss = criterion(out,y[idx_batch])\n",
        "\n",
        "                running_loss += loss.item()\n",
        "\n",
        "                #Your code here\n",
        "                loss.backward()\n",
        "                \n",
        "                self.optim.step()\n",
        "\n",
        "                \n",
        "            self.loss_during_training.append(running_loss/self.num_batchs)\n",
        "\n",
        "            if(e % 10 == 0): # Every 10 epochs\n",
        "\n",
        "                print(\"Training loss after %e epochs: %f\" \n",
        "                      %(e,self.loss_during_training[-1]))\n"
      ],
      "execution_count": null,
      "outputs": []
    },
    {
      "cell_type": "markdown",
      "metadata": {
        "id": "M2z0VsKUN9ed"
      },
      "source": [
        "> **Exercise**: Train a logistic regressor with minibatch-stochastic gradient descent with different batch sizes (10,20,50 and 100) and plot the evolution of the loss function for all cases in the same plot. \n",
        "Also, compare with the evolution of the loss function when all data is used. Note that when all datapoints are used, every GD iteration correspond to a **full epoch**.\n",
        ">\n",
        "> Finally, observe if in all cases the parameters of the models (weights and biases) are similar."
      ]
    },
    {
      "cell_type": "code",
      "metadata": {
        "id": "ggFydXwwN9ei",
        "colab": {
          "base_uri": "https://localhost:8080/",
          "height": 1000
        },
        "outputId": "4481e680-47ed-4855-b41f-b2b9c4bbda9e"
      },
      "source": [
        "#Your code here\n",
        "\n",
        "\n",
        "my_LR_batches10 = LR_extended_minibatch(x.shape[1],x.shape[0], batch_size=10)\n",
        "my_LR_batches10.train(torch.tensor(x),torch.tensor(y))\n",
        "plt.plot(my_LR_batches10.loss_during_training,'-b',label='$batch size=$'+str(10))\n",
        "print('Weights for '+str(10)+ ' batches:')\n",
        "print(my_LR_batches10.output.weight)\n",
        "print('Bias for '+str(10)+ ' batches:')\n",
        "print(my_LR_batches10.output.bias)\n",
        "\n",
        "\n",
        "my_LR_batches20 = LR_extended_minibatch(x.shape[1],x.shape[0], batch_size=20)\n",
        "my_LR_batches20.train(torch.tensor(x),torch.tensor(y))\n",
        "plt.plot(my_LR_batches20.loss_during_training,'-r',label='$batch size=$'+str(20))\n",
        "print('Weights for '+str(20)+ ' batches:')\n",
        "print(my_LR_batches20.output.weight)\n",
        "print('Bias for '+str(20)+ ' batches:')\n",
        "print(my_LR_batches20.output.bias)\n",
        "\n",
        "my_LR_batches50 = LR_extended_minibatch(x.shape[1],x.shape[0], batch_size=50)\n",
        "my_LR_batches50.train(torch.tensor(x),torch.tensor(y))\n",
        "plt.plot(my_LR_batches50.loss_during_training,'-g',label='$batch size=$'+str(50))\n",
        "print('Weights for '+str(50)+ ' batches:')\n",
        "print(my_LR_batches50.output.weight)\n",
        "print('Bias for '+str(50)+ ' batches:')\n",
        "print(my_LR_batches50.output.bias)\n",
        "\n",
        "my_LR_batches100 = LR_extended_minibatch(x.shape[1],x.shape[0], batch_size=100)\n",
        "my_LR_batches100.train(torch.tensor(x),torch.tensor(y))\n",
        "plt.plot(my_LR_batches100.loss_during_training,'-m',label='$batch size=$'+str(100))\n",
        "print('Weights for '+str(100)+ ' batches:')\n",
        "print(my_LR_batches100.output.weight)\n",
        "print('Bias for '+str(100)+ ' batches:')\n",
        "print(my_LR_batches100.output.bias)\n",
        "\n",
        "plt.show()\n",
        "\n",
        "\n",
        "#cuanto mas pequeño sea el mini-batch, mas gradientes calcula en una sola epoca\n",
        "#por eso cuanto mas pequeño sea el minibatch, mas rapido baja\n",
        "#y por eso el GD sera el que mas rapido disminuya el error"
      ],
      "execution_count": null,
      "outputs": [
        {
          "output_type": "stream",
          "text": [
            "/usr/local/lib/python3.6/dist-packages/torch/nn/modules/loss.py:498: UserWarning: Using a target size (torch.Size([10])) that is different to the input size (torch.Size([10, 1])) is deprecated. Please ensure they have the same size.\n",
            "  return F.binary_cross_entropy(input, target, weight=self.weight, reduction=self.reduction)\n"
          ],
          "name": "stderr"
        },
        {
          "output_type": "stream",
          "text": [
            "Training loss after 0.000000e+00 epochs: 0.642481\n",
            "Training loss after 1.000000e+01 epochs: 0.407994\n",
            "Training loss after 2.000000e+01 epochs: 0.302883\n",
            "Training loss after 3.000000e+01 epochs: 0.248033\n",
            "Training loss after 4.000000e+01 epochs: 0.215747\n",
            "Training loss after 5.000000e+01 epochs: 0.186510\n",
            "Training loss after 6.000000e+01 epochs: 0.176118\n",
            "Training loss after 7.000000e+01 epochs: 0.161865\n",
            "Training loss after 8.000000e+01 epochs: 0.151014\n",
            "Training loss after 9.000000e+01 epochs: 0.143633\n",
            "Weights for 10 batches:\n",
            "Parameter containing:\n",
            "tensor([[0.5536, 0.1817, 0.4139, 0.5816, 0.4580, 0.4682, 0.4527, 0.4856, 0.4851]],\n",
            "       requires_grad=True)\n",
            "Bias for 10 batches:\n",
            "Parameter containing:\n",
            "tensor([-0.1578], requires_grad=True)\n",
            "Training loss after 0.000000e+00 epochs: 0.434872\n",
            "Training loss after 1.000000e+01 epochs: 0.357339\n"
          ],
          "name": "stdout"
        },
        {
          "output_type": "stream",
          "text": [
            "/usr/local/lib/python3.6/dist-packages/torch/nn/modules/loss.py:498: UserWarning: Using a target size (torch.Size([20])) that is different to the input size (torch.Size([20, 1])) is deprecated. Please ensure they have the same size.\n",
            "  return F.binary_cross_entropy(input, target, weight=self.weight, reduction=self.reduction)\n"
          ],
          "name": "stderr"
        },
        {
          "output_type": "stream",
          "text": [
            "Training loss after 2.000000e+01 epochs: 0.307361\n",
            "Training loss after 3.000000e+01 epochs: 0.272476\n",
            "Training loss after 4.000000e+01 epochs: 0.247134\n",
            "Training loss after 5.000000e+01 epochs: 0.226920\n",
            "Training loss after 6.000000e+01 epochs: 0.211487\n",
            "Training loss after 7.000000e+01 epochs: 0.195174\n",
            "Training loss after 8.000000e+01 epochs: 0.185203\n",
            "Training loss after 9.000000e+01 epochs: 0.178437\n",
            "Weights for 20 batches:\n",
            "Parameter containing:\n",
            "tensor([[0.5367, 0.5558, 0.1252, 0.5299, 0.1909, 0.2358, 0.5177, 0.1864, 0.1837]],\n",
            "       requires_grad=True)\n",
            "Bias for 20 batches:\n",
            "Parameter containing:\n",
            "tensor([-0.2367], requires_grad=True)\n",
            "Training loss after 0.000000e+00 epochs: 0.564546\n"
          ],
          "name": "stdout"
        },
        {
          "output_type": "stream",
          "text": [
            "/usr/local/lib/python3.6/dist-packages/torch/nn/modules/loss.py:498: UserWarning: Using a target size (torch.Size([50])) that is different to the input size (torch.Size([50, 1])) is deprecated. Please ensure they have the same size.\n",
            "  return F.binary_cross_entropy(input, target, weight=self.weight, reduction=self.reduction)\n"
          ],
          "name": "stderr"
        },
        {
          "output_type": "stream",
          "text": [
            "Training loss after 1.000000e+01 epochs: 0.501995\n",
            "Training loss after 2.000000e+01 epochs: 0.461027\n",
            "Training loss after 3.000000e+01 epochs: 0.423614\n",
            "Training loss after 4.000000e+01 epochs: 0.388900\n",
            "Training loss after 5.000000e+01 epochs: 0.366694\n",
            "Training loss after 6.000000e+01 epochs: 0.340317\n",
            "Training loss after 7.000000e+01 epochs: 0.320250\n",
            "Training loss after 8.000000e+01 epochs: 0.304318\n",
            "Training loss after 9.000000e+01 epochs: 0.288264\n",
            "Weights for 50 batches:\n",
            "Parameter containing:\n",
            "tensor([[-0.0432, -0.0700,  0.4750,  0.4573,  0.1067, -0.0039,  0.4809,  0.2196,\n",
            "          0.2578]], requires_grad=True)\n",
            "Bias for 50 batches:\n",
            "Parameter containing:\n",
            "tensor([-0.3443], requires_grad=True)\n",
            "Training loss after 0.000000e+00 epochs: 0.377873\n",
            "Training loss after 1.000000e+01 epochs: 0.359773\n",
            "Training loss after 2.000000e+01 epochs: 0.357431\n",
            "Training loss after 3.000000e+01 epochs: 0.342824\n",
            "Training loss after 4.000000e+01 epochs: 0.346620\n"
          ],
          "name": "stdout"
        },
        {
          "output_type": "stream",
          "text": [
            "/usr/local/lib/python3.6/dist-packages/torch/nn/modules/loss.py:498: UserWarning: Using a target size (torch.Size([100])) that is different to the input size (torch.Size([100, 1])) is deprecated. Please ensure they have the same size.\n",
            "  return F.binary_cross_entropy(input, target, weight=self.weight, reduction=self.reduction)\n"
          ],
          "name": "stderr"
        },
        {
          "output_type": "stream",
          "text": [
            "Training loss after 5.000000e+01 epochs: 0.333084\n",
            "Training loss after 6.000000e+01 epochs: 0.323250\n",
            "Training loss after 7.000000e+01 epochs: 0.317750\n",
            "Training loss after 8.000000e+01 epochs: 0.313219\n",
            "Training loss after 9.000000e+01 epochs: 0.304276\n",
            "Weights for 100 batches:\n",
            "Parameter containing:\n",
            "tensor([[0.1939, 0.0890, 0.3579, 0.3080, 0.2403, 0.1562, 0.1880, 0.1661, 0.3385]],\n",
            "       requires_grad=True)\n",
            "Bias for 100 batches:\n",
            "Parameter containing:\n",
            "tensor([0.1253], requires_grad=True)\n"
          ],
          "name": "stdout"
        },
        {
          "output_type": "display_data",
          "data": {
            "image/png": "[encoded data removed]",
            "text/plain": [
              "<Figure size 432x288 with 1 Axes>"
            ]
          },
          "metadata": {
            "tags": []
          }
        }
      ]
    },
    {
      "cell_type": "code",
      "metadata": {
        "id": "AhRb0Jw5v-l8",
        "colab": {
          "base_uri": "https://localhost:8080/",
          "height": 503
        },
        "outputId": "00a10704-d1fc-4508-d8f5-51e4724f17bd"
      },
      "source": [
        "my_LR_fullEpoch=LR_extended_minibatch(x.shape[1],x.shape[0],batch_size=1)\n",
        "my_LR_fullEpoch.train(torch.tensor(x),torch.tensor(y))\n",
        "print(my_LR_fullEpoch.loss_during_training)\n",
        "plt.plot(my_LR_fullEpoch.loss_during_training,'-g',label='$Ev with size:$')\n",
        "plt.show()\n"
      ],
      "execution_count": null,
      "outputs": [
        {
          "output_type": "stream",
          "text": [
            "/usr/local/lib/python3.6/dist-packages/torch/nn/modules/loss.py:498: UserWarning: Using a target size (torch.Size([1])) that is different to the input size (torch.Size([1, 1])) is deprecated. Please ensure they have the same size.\n",
            "  return F.binary_cross_entropy(input, target, weight=self.weight, reduction=self.reduction)\n"
          ],
          "name": "stderr"
        },
        {
          "output_type": "stream",
          "text": [
            "Training loss after 0.000000e+00 epochs: 0.525811\n",
            "Training loss after 1.000000e+01 epochs: 0.130060\n",
            "Training loss after 2.000000e+01 epochs: 0.106746\n",
            "Training loss after 3.000000e+01 epochs: 0.098573\n",
            "Training loss after 4.000000e+01 epochs: 0.094326\n",
            "Training loss after 5.000000e+01 epochs: 0.091671\n",
            "Training loss after 6.000000e+01 epochs: 0.089832\n",
            "Training loss after 7.000000e+01 epochs: 0.088472\n",
            "Training loss after 8.000000e+01 epochs: 0.087425\n",
            "Training loss after 9.000000e+01 epochs: 0.086595\n",
            "[0.5258105414441514, 0.3374004763796743, 0.25820539027437234, 0.2155157365259602, 0.18911373219786093, 0.17118989355845, 0.1582862947252579, 0.14859133569456082, 0.1410324616393811, 0.13499356239982563, 0.13006021757916655, 0.12594688373551408, 0.12247770115457761, 0.11950801130114624, 0.11693957942192734, 0.11470031654022983, 0.11272624381653015, 0.11097323964706284, 0.1094118283325117, 0.10801107475935613, 0.10674552705758807, 0.1055936447196017, 0.1045431586604752, 0.1035808516833841, 0.10269424155786995, 0.10187729538431758, 0.10112056472666645, 0.10041688490057177, 0.09975919735527901, 0.09914570506442066, 0.09857254872306993, 0.09803312841320874, 0.09752474666409934, 0.09704647647507478, 0.0965945421816238, 0.09616657291128576, 0.09576075055214653, 0.095375072717107, 0.09500870055576613, 0.09465982227265975, 0.09432646457716609, 0.0940079037073108, 0.09370274352840893, 0.09341126761311827, 0.09313204502667813, 0.09286468956378688, 0.09260764069075458, 0.0923603087565068, 0.09212215851754446, 0.09189256565217528, 0.09167145236904278, 0.09145788182598708, 0.09125293218973958, 0.09105414149674684, 0.0908628117600591, 0.09067706784507616, 0.09049718981173807, 0.09032321024016444, 0.0901544814395807, 0.08999092893954053, 0.08983225070177522, 0.08967822616533658, 0.0895284290098476, 0.08938282745566725, 0.0892418611890713, 0.08910470663649651, 0.08897130979208848, 0.08884139382831314, 0.0887149754885574, 0.08859185448791312, 0.0884720239879845, 0.08835518784320037, 0.08824156443934128, 0.08813051081774938, 0.08802250122597247, 0.08791663019377682, 0.0878136731475106, 0.08771286835848167, 0.08761462029144533, 0.08751874403489157, 0.08742485019909654, 0.08733336953438132, 0.08724402870318253, 0.08715607173741545, 0.08707090383088463, 0.08698719311024185, 0.08690509092908785, 0.08682502490530312, 0.0867466407869708, 0.08666998254418833, 0.08659484174022031, 0.08652118229283128, 0.08644879501465695, 0.08637816991119404, 0.08630933683953688, 0.08624165753860338, 0.08617532436718274, 0.08611023403439295, 0.08604658642472318, 0.08598407119631668]\n"
          ],
          "name": "stdout"
        },
        {
          "output_type": "display_data",
          "data": {
            "image/png": "[encoded data removed]",
            "text/plain": [
              "<Figure size 432x288 with 1 Axes>"
            ]
          },
          "metadata": {
            "tags": []
          }
        }
      ]
    },
    {
      "cell_type": "markdown",
      "metadata": {
        "id": "X2kkXsxxN9ej"
      },
      "source": [
        "> **(Optional Exercise)**: Try to think how to modify the loss function to incorporate $L_2$ or $L_1$ regularization to the model. Implement a class for regularized logistic regression with a pre-defined regularization parameter."
      ]
    },
    {
      "cell_type": "code",
      "metadata": {
        "id": "PRCWm8zXfcG2"
      },
      "source": [
        "\n",
        "\n",
        "def loss_with_L2(myLR,lambda_reg='0.01'):\n",
        "  l2 = 0\n",
        "  for w in my_LR.parameters():\n",
        "    if l2==0:\n",
        "      l2= w.norm(2)\n",
        "    else:\n",
        "      l2=l2+w.norm(2)    \n",
        "  loss= (1/N_train)*(y_pred - batch_ys).pow(2).sum() + lambda_reg* l2\n",
        "  loss.backward()"
      ],
      "execution_count": null,
      "outputs": []
    }
  ]
}