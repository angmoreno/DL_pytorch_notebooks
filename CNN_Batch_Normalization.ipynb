{
  "nbformat": 4,
  "nbformat_minor": 0,
  "metadata": {
    "kernelspec": {
      "display_name": "Python 3",
      "language": "python",
      "name": "python3"
    },
    "language_info": {
      "codemirror_mode": {
        "name": "ipython",
        "version": 3
      },
      "file_extension": ".py",
      "mimetype": "text/x-python",
      "name": "python",
      "nbconvert_exporter": "python",
      "pygments_lexer": "ipython3",
      "version": "3.6.5"
    },
    "colab": {
      "name": "CNN_Batch_Normalization.ipynb",
      "provenance": [],
      "collapsed_sections": []
    }
  },
  "cells": [
    {
      "cell_type": "markdown",
      "metadata": {
        "id": "xoa0xHBxA3hS"
      },
      "source": [
        "\n",
        "Batch normalization was introduced in Sergey Ioffe's and Christian Szegedy's 2015 paper [Batch Normalization: Accelerating Deep Network Training by Reducing Internal Covariate Shift](https://arxiv.org/pdf/1502.03167.pdf). The idea is that, instead of just normalizing the inputs to the network, we normalize the inputs to _layers within_ the network. \n",
        "\n",
        "> It's called **batch** normalization because during training, we normalize each layer's inputs by using the mean and variance of the values in the current *batch*.\n",
        "\n",
        "We will first analyze the effect of Batch Normalization (BN) in a simple NN with dense layers. Then you will be able to incorportate BN into the CNN that you designed in the first part of Lab 3. \n",
        "\n",
        "Note: a big part of the following material is a personal wrap-up of [Facebook's Deep Learning Course in Udacity](https://www.udacity.com/course/deep-learning-pytorch--ud188). So all credit goes for them!!\n"
      ]
    },
    {
      "cell_type": "markdown",
      "metadata": {
        "id": "2q-hrNxPA3hW"
      },
      "source": [
        "## Batch Normalization in PyTorch<a id=\"implementation_1\"></a>\n",
        "\n",
        "This section of the notebook shows you one way to add batch normalization to a neural network built in PyTorch. \n",
        "\n",
        "The following cells import the packages we need in the notebook and load the MNIST dataset to use in our experiments."
      ]
    },
    {
      "cell_type": "code",
      "metadata": {
        "id": "1NxqnZ9LA3hY"
      },
      "source": [
        "%matplotlib inline\n",
        "\n",
        "import numpy as np\n",
        "import torch\n",
        "from torch import nn\n",
        "from torch import optim\n",
        "import matplotlib.pyplot as plt\n",
        "import time"
      ],
      "execution_count": null,
      "outputs": []
    },
    {
      "cell_type": "code",
      "metadata": {
        "id": "QqPTFsVdA3hd",
        "colab": {
          "base_uri": "https://localhost:8080/",
          "height": 272
        },
        "outputId": "767f3ca7-5dbc-4e1d-960e-e4ca7a4c685b"
      },
      "source": [
        "### Run this cell\n",
        "\n",
        "from torchvision import datasets, transforms\n",
        "# Define a transform to normalize the data\n",
        "transform = transforms.Compose([transforms.ToTensor(),\n",
        "                              transforms.Normalize((0.5,), (0.5,)),\n",
        "                              ])\n",
        "\n",
        "# Download and load the training  data\n",
        "trainset = datasets.MNIST('~/.pytorch/MNIST_data/', download=True, train=True, transform=transform)\n",
        "trainloader = torch.utils.data.DataLoader(trainset, batch_size=64, shuffle=True)\n",
        "\n",
        "# Download and load the test data\n",
        "testset = datasets.MNIST('~/.pytorch/MNIST_data/', download=True, train=False, transform=transform)\n",
        "testloader = torch.utils.data.DataLoader(testset, batch_size=64, shuffle=True)"
      ],
      "execution_count": null,
      "outputs": [
        {
          "output_type": "stream",
          "text": [
            "\r0it [00:00, ?it/s]"
          ],
          "name": "stderr"
        },
        {
          "output_type": "stream",
          "text": [
            "Downloading http://yann.lecun.com/exdb/mnist/train-images-idx3-ubyte.gz to /root/.pytorch/MNIST_data/MNIST/raw/train-images-idx3-ubyte.gz\n"
          ],
          "name": "stdout"
        },
        {
          "output_type": "stream",
          "text": [
            "9920512it [00:01, 8012447.84it/s]                            \n"
          ],
          "name": "stderr"
        },
        {
          "output_type": "stream",
          "text": [
            "Extracting /root/.pytorch/MNIST_data/MNIST/raw/train-images-idx3-ubyte.gz to /root/.pytorch/MNIST_data/MNIST/raw\n"
          ],
          "name": "stdout"
        },
        {
          "output_type": "stream",
          "text": [
            "  0%|          | 0/28881 [00:00<?, ?it/s]"
          ],
          "name": "stderr"
        },
        {
          "output_type": "stream",
          "text": [
            "Downloading http://yann.lecun.com/exdb/mnist/train-labels-idx1-ubyte.gz to /root/.pytorch/MNIST_data/MNIST/raw/train-labels-idx1-ubyte.gz\n"
          ],
          "name": "stdout"
        },
        {
          "output_type": "stream",
          "text": [
            "32768it [00:00, 114936.94it/s]           \n",
            "  0%|          | 0/1648877 [00:00<?, ?it/s]"
          ],
          "name": "stderr"
        },
        {
          "output_type": "stream",
          "text": [
            "Extracting /root/.pytorch/MNIST_data/MNIST/raw/train-labels-idx1-ubyte.gz to /root/.pytorch/MNIST_data/MNIST/raw\n",
            "Downloading http://yann.lecun.com/exdb/mnist/t10k-images-idx3-ubyte.gz to /root/.pytorch/MNIST_data/MNIST/raw/t10k-images-idx3-ubyte.gz\n"
          ],
          "name": "stdout"
        },
        {
          "output_type": "stream",
          "text": [
            "1654784it [00:00, 2241673.47it/s]                           \n",
            "0it [00:00, ?it/s]"
          ],
          "name": "stderr"
        },
        {
          "output_type": "stream",
          "text": [
            "Extracting /root/.pytorch/MNIST_data/MNIST/raw/t10k-images-idx3-ubyte.gz to /root/.pytorch/MNIST_data/MNIST/raw\n",
            "Downloading http://yann.lecun.com/exdb/mnist/t10k-labels-idx1-ubyte.gz to /root/.pytorch/MNIST_data/MNIST/raw/t10k-labels-idx1-ubyte.gz\n"
          ],
          "name": "stdout"
        },
        {
          "output_type": "stream",
          "text": [
            "8192it [00:00, 43698.56it/s]            "
          ],
          "name": "stderr"
        },
        {
          "output_type": "stream",
          "text": [
            "Extracting /root/.pytorch/MNIST_data/MNIST/raw/t10k-labels-idx1-ubyte.gz to /root/.pytorch/MNIST_data/MNIST/raw\n",
            "Processing...\n",
            "Done!\n"
          ],
          "name": "stdout"
        },
        {
          "output_type": "stream",
          "text": [
            "\n"
          ],
          "name": "stderr"
        }
      ]
    },
    {
      "cell_type": "markdown",
      "metadata": {
        "id": "TspC2ZT3A3hh"
      },
      "source": [
        "### Neural network classes\n",
        "\n",
        "The following class, `MLP`, allows us to create identical neural networks **with and without batch normalization** to compare. We are defining a simple NN with **two dense layers** for classification; this design choice was made to support the discussion related to batch normalization and not to get the best classification accuracy.\n",
        "\n",
        "Two importants points about BN:\n",
        "\n",
        "- We use PyTorch's [BatchNorm1d](https://pytorch.org/docs/stable/nn.html#batchnorm1d). This is the function you use to operate on linear layer outputs; you'll use [BatchNorm2d](https://pytorch.org/docs/stable/nn.html#batchnorm2d) for 2D outputs like filtered images from convolutional layers. \n",
        "- We add the batch normalization layer **before** calling the activation function.\n"
      ]
    },
    {
      "cell_type": "code",
      "metadata": {
        "id": "RIwHMsEHA3hj"
      },
      "source": [
        "class MLP(nn.Module):\n",
        "    def __init__(self,dimx,hidden1,hidden2,nlabels,use_batch_norm): #Nlabels will be 10 in our case\n",
        "        super().__init__()\n",
        "        # Keep track of whether or not this network uses batch normalization.\n",
        "        self.use_batch_norm = use_batch_norm\n",
        "        self.output1 = nn.Linear(dimx,hidden1)\n",
        "        self.output2 = nn.Linear(hidden1,hidden2)        \n",
        "        self.output3 = nn.Linear(hidden2,nlabels)\n",
        "        self.relu = nn.ReLU()\n",
        "        self.logsoftmax = nn.LogSoftmax(dim=1)        \n",
        "        if self.use_batch_norm:\n",
        "            self.batch_norm1 = nn.BatchNorm1d(hidden1)  \n",
        "            self.batch_norm2 = nn.BatchNorm1d(hidden2)  \n",
        "    def forward(self, x):\n",
        "        # Pass the input tensor through each of our operations\n",
        "        x = self.output1(x)\n",
        "        if self.use_batch_norm:\n",
        "            x = self.batch_norm1(x)\n",
        "        x = self.relu(x)\n",
        "        x = self.output2(x)\n",
        "        if self.use_batch_norm:\n",
        "            x = self.batch_norm2(x)        \n",
        "        x = self.relu(x)\n",
        "        x = self.output3(x)\n",
        "        x = self.logsoftmax(x) \n",
        "        return x"
      ],
      "execution_count": null,
      "outputs": []
    },
    {
      "cell_type": "markdown",
      "metadata": {
        "id": "m86tW4yUA3ho"
      },
      "source": [
        "> **Exercise:** \n",
        "> \n",
        "> - Create a validation set with the 20% of training set\n",
        "> - Extend the class above to incorporate a training method where both training and validation losses are computed, and a method to evaluate the classification performance on a given set\n",
        "\n",
        "**Note:** As we do with Dropout, for BN we have to call the methods `self.eval()` and `self.train()` in both validation and training. Setting a model to evaluation mode is important for models with batch normalization layers!\n",
        "\n",
        ">* Training mode means that the batch normalization layers will use **batch** statistics to calculate the batch norm. \n",
        "* Evaluation mode, on the other hand, uses the estimated **population** mean and variance from the entire training set, which should give us increased performance on this test data!  "
      ]
    },
    {
      "cell_type": "code",
      "metadata": {
        "id": "K6W7CeJMA3hp",
        "colab": {
          "base_uri": "https://localhost:8080/",
          "height": 50
        },
        "outputId": "dba605bb-2279-40a9-ee21-da17cd677ca0"
      },
      "source": [
        "# Your code here\n",
        "import copy\n",
        "validloader = copy.deepcopy(trainloader)  # Creates a copy of the object \n",
        "frac_train = 0.8\n",
        "size_train_data=trainloader.dataset.train_data.shape[0]\n",
        "data_valid = int(size_train_data*frac_train)\n",
        "#We take the 80% images for training\n",
        "trainloader.dataset.data = trainloader.dataset.data[:data_valid,:,:]\n",
        "trainloader.dataset.targets = trainloader.dataset.targets[:data_valid]\n",
        "#We take the 20% images for validation\n",
        "validloader.dataset.data = validloader.dataset.data[data_valid:,:,:]\n",
        "validloader.dataset.targets = validloader.dataset.targets[data_valid:]"
      ],
      "execution_count": null,
      "outputs": [
        {
          "output_type": "stream",
          "text": [
            "/usr/local/lib/python3.6/dist-packages/torchvision/datasets/mnist.py:53: UserWarning: train_data has been renamed data\n",
            "  warnings.warn(\"train_data has been renamed data\")\n"
          ],
          "name": "stderr"
        }
      ]
    },
    {
      "cell_type": "code",
      "metadata": {
        "id": "ep7G0Z2UA3hs"
      },
      "source": [
        "class MLP_extended(MLP):\n",
        "    \n",
        "    # Your code here\n",
        "    def __init__(self,dimx,hidden1,hidden2,nlabels,use_batch_norm,epochs=100,lr=0.001):\n",
        "\n",
        "        # Your code here\n",
        "        super().__init__(dimx,hidden1,hidden2,nlabels,use_batch_norm)  \n",
        "        self.lr = lr\n",
        "        self.optim = optim.Adam(self.parameters(), self.lr)\n",
        "        self.epochs = epochs\n",
        "        self.criterion = nn.NLLLoss()               \n",
        "        self.loss_during_training = []\n",
        "        self.valid_loss_during_training = []\n",
        "        \n",
        "    def trainloop(self,trainloader, validloader):\n",
        "    \n",
        "        for e in range(int(self.epochs)):\n",
        "            start_time = time.time()\n",
        "            # Random data permutation at each epoch\n",
        "            running_loss = 0.\n",
        "            for images, labels in trainloader:              \n",
        "                self.optim.zero_grad()  \n",
        "                out = self.forward(images.view(images.shape[0], -1))\n",
        "                loss = self.criterion(out,labels)\n",
        "                running_loss += loss.item()\n",
        "                loss.backward()\n",
        "                self.optim.step()\n",
        "                \n",
        "            self.loss_during_training.append(running_loss/len(trainloader))\n",
        "\n",
        "            # Perform validation \n",
        "            running_loss = 0.\n",
        "            with torch.no_grad():   \n",
        "              # set model to evaluation mode\n",
        "              self.eval()\n",
        "              for images, labels in validloader:          \n",
        "                  out = self.forward(images.view(images.shape[0], -1))\n",
        "                  loss = self.criterion(out, labels) \n",
        "                  running_loss += loss.item()\n",
        "              self.valid_loss_during_training.append(running_loss/len(validloader))\n",
        "            # set model back to train mode\n",
        "            self.train()\n",
        "            if(e % 5 == 0): # Every 5 epochs\n",
        "                print(\"Epoch %d. Training loss: %f, Validation loss: %f, Time per epoch: %f seconds\" \n",
        "                      %(e,self.loss_during_training[-1],self.valid_loss_during_training[-1],\n",
        "                       (time.time() - start_time)))\n",
        "\n",
        "    def eval_performance(self,dataloader):\n",
        "        \n",
        "        # Your code here\n",
        "        loss = 0\n",
        "        accuracy = 0\n",
        "        # Turn off gradients for validation, saves memory and computations\n",
        "        with torch.no_grad():\n",
        "            for images,labels in dataloader:\n",
        "                # Your code here\n",
        "                probs = self.forward(images.view(images.shape[0], -1))\n",
        "                top_p, top_class = probs.topk(1, dim=1)\n",
        "                equals = (top_class == labels.view(images.shape[0], 1)) \n",
        "                accuracy += torch.mean(equals.type(torch.FloatTensor))\n",
        "            return accuracy/len(dataloader)"
      ],
      "execution_count": null,
      "outputs": []
    },
    {
      "cell_type": "markdown",
      "metadata": {
        "id": "Vi1gTEBdA3hw"
      },
      "source": [
        "### Create two different models for testing\n",
        "\n",
        "* `net_batchnorm` uses batch normalization applied to the output of its hidden layers\n",
        "* `net_no_norm` does not use batch normalization\n",
        "\n",
        "Besides the normalization layers, everthing about these models is the same."
      ]
    },
    {
      "cell_type": "code",
      "metadata": {
        "id": "ebKY_880A3hx",
        "colab": {
          "base_uri": "https://localhost:8080/",
          "height": 336
        },
        "outputId": "ee9285b1-b31e-4a30-e3e0-06c6a8cece71"
      },
      "source": [
        "net_batchnorm = MLP_extended(dimx=784,hidden1=128,hidden2=64,\n",
        "                              nlabels=10,epochs=10,lr=1e-3,use_batch_norm=True)\n",
        "net_no_norm = MLP_extended(dimx=784,hidden1=128,hidden2=64,\n",
        "                              nlabels=10,epochs=10,lr=1e-3,use_batch_norm=False)\n",
        "\n",
        "print(net_batchnorm)\n",
        "print()\n",
        "print(net_no_norm)"
      ],
      "execution_count": null,
      "outputs": [
        {
          "output_type": "stream",
          "text": [
            "MLP_extended(\n",
            "  (output1): Linear(in_features=784, out_features=128, bias=True)\n",
            "  (output2): Linear(in_features=128, out_features=64, bias=True)\n",
            "  (output3): Linear(in_features=64, out_features=10, bias=True)\n",
            "  (relu): ReLU()\n",
            "  (logsoftmax): LogSoftmax()\n",
            "  (batch_norm1): BatchNorm1d(128, eps=1e-05, momentum=0.1, affine=True, track_running_stats=True)\n",
            "  (batch_norm2): BatchNorm1d(64, eps=1e-05, momentum=0.1, affine=True, track_running_stats=True)\n",
            "  (criterion): NLLLoss()\n",
            ")\n",
            "\n",
            "MLP_extended(\n",
            "  (output1): Linear(in_features=784, out_features=128, bias=True)\n",
            "  (output2): Linear(in_features=128, out_features=64, bias=True)\n",
            "  (output3): Linear(in_features=64, out_features=10, bias=True)\n",
            "  (relu): ReLU()\n",
            "  (logsoftmax): LogSoftmax()\n",
            "  (criterion): NLLLoss()\n",
            ")\n"
          ],
          "name": "stdout"
        }
      ]
    },
    {
      "cell_type": "markdown",
      "metadata": {
        "id": "WuV-oUEXA3h2"
      },
      "source": [
        "> **Exercise:** Train both models and compare the evolution of the train/validation loss in both cases"
      ]
    },
    {
      "cell_type": "code",
      "metadata": {
        "id": "-q6bVnWGA3h3",
        "colab": {
          "base_uri": "https://localhost:8080/",
          "height": 447
        },
        "outputId": "73625339-c5af-4bb4-98b3-8c8e8037d93c"
      },
      "source": [
        "# Your code here\n",
        "\n",
        "# Model using batch normalization\n",
        "net_batchnorm.trainloop(trainloader,validloader)\n",
        "plt.plot(net_batchnorm.loss_during_training,'-b',label='Loss during training-BN ')\n",
        "plt.plot(net_batchnorm.valid_loss_during_training,'-r',label='Loss during validation- BN ')\n",
        "plt.xlabel('Iterations')\n",
        "plt.ylabel('Loss')\n",
        "plt.legend()\n",
        "\n",
        "# Model not using batch normalization\n",
        "net_no_norm.trainloop(trainloader,validloader)\n",
        "plt.plot(net_no_norm.loss_during_training,'-g',label='Loss during training- No BN')\n",
        "plt.plot(net_no_norm.valid_loss_during_training,'-y',label='Loss during validation- No BN ')\n",
        "plt.xlabel('Iterations')\n",
        "plt.ylabel('Loss')\n",
        "plt.legend()\n",
        "\n",
        "#Performance in batch normalization model\n",
        "train_performance = net_batchnorm.eval_performance(trainloader)\n",
        "test_performance = net_batchnorm.eval_performance(testloader)\n",
        "print('MLP with batch normalization')\n",
        "print(\"Train Accuracy %f\" %(train_performance))\n",
        "print(\"Test Accuracy %f\" %(test_performance))\n",
        "\n",
        "print('MLP without batch normalization')\n",
        "#Performance in non-batch normalization model\n",
        "train_performance = net_no_norm.eval_performance(trainloader)\n",
        "test_performance = net_no_norm.eval_performance(testloader)\n",
        "print(\"Train Accuracy %f\" %(train_performance))\n",
        "print(\"Test Accuracy %f\" %(test_performance))"
      ],
      "execution_count": null,
      "outputs": [
        {
          "output_type": "stream",
          "text": [
            "Epoch 0. Training loss: 0.284214, Validation loss: 0.122556, Time per epoch: 12.174341 seconds\n",
            "Epoch 5. Training loss: 0.038659, Validation loss: 0.078017, Time per epoch: 11.532149 seconds\n",
            "Epoch 0. Training loss: 0.439209, Validation loss: 0.251126, Time per epoch: 9.818215 seconds\n",
            "Epoch 5. Training loss: 0.093775, Validation loss: 0.100881, Time per epoch: 10.874167 seconds\n",
            "MLP with batch normalization\n",
            "Train Accuracy 0.994875\n",
            "Test Accuracy 0.976413\n",
            "MLP without batch normalization\n",
            "Train Accuracy 0.986417\n",
            "Test Accuracy 0.973029\n"
          ],
          "name": "stdout"
        },
        {
          "output_type": "display_data",
          "data": {
            "image/png": "[encoded data removed]",
            "text/plain": [
              "<Figure size 432x288 with 1 Axes>"
            ]
          },
          "metadata": {
            "tags": []
          }
        }
      ]
    },
    {
      "cell_type": "markdown",
      "metadata": {
        "id": "baT_AgXAA3h7"
      },
      "source": [
        "---\n",
        "### Considerations for other network types\n",
        "\n",
        "This notebook demonstrates batch normalization in a standard neural network with fully connected layers. You can also use batch normalization in other types of networks, but there are some special considerations.\n",
        "\n",
        "#### ConvNets\n",
        "\n",
        "Convolution layers consist of multiple feature maps. (Remember, the depth of a convolutional layer refers to its number of feature maps.) And the weights for each feature map are shared across all the inputs that feed into the layer. Because of these differences, batch normalizing convolutional layers requires batch/population mean and variance per feature map rather than per node in the layer.\n",
        "\n",
        "> To apply batch normalization on the outputs of convolutional layers, we use [BatchNorm2d](https://pytorch.org/docs/stable/nn.html#batchnorm2d). To use it, we simply state the **number of input feature maps**. I.e. `nn.BatchNorm2d(num_features=nmaps)`\n",
        "\n",
        "\n",
        "#### RNNs\n",
        "\n",
        "Batch normalization can work with recurrent neural networks, too, as shown in the 2016 paper [Recurrent Batch Normalization](https://arxiv.org/abs/1603.09025). It's a bit more work to implement, but basically involves calculating the means and variances per time step instead of per layer. You can find an example where someone implemented recurrent batch normalization in PyTorch, in [this GitHub repo](https://github.com/jihunchoi/recurrent-batch-normalization-pytorch)."
      ]
    },
    {
      "cell_type": "markdown",
      "metadata": {
        "id": "d5YcIDKlA3h8"
      },
      "source": [
        "> **Exercise:** Incorporate BN to your solution of Lab 3 (Part I). Compare the results with and without BN!!"
      ]
    },
    {
      "cell_type": "code",
      "metadata": {
        "id": "O5wlyBAPA3h9"
      },
      "source": [
        "class Lenet5(nn.Module):\n",
        "    def __init__(self,dimx,nlabels,use_batch_norm): #Nlabels will be 10 in our case\n",
        "        super().__init__()\n",
        "\n",
        "        self.use_batch_norm = use_batch_norm\n",
        "\n",
        "        # convolutional layer (sees 28x28x1 image tensor)\n",
        "        self.conv1 = nn.Conv2d(in_channels=1, out_channels=6, \n",
        "                               kernel_size=5, stride=1, padding=0)\n",
        "        \n",
        "        # convolutional layer (sees 12x12x16 tensor)\n",
        "        self.conv2 = nn.Conv2d(in_channels=6, out_channels=16, \n",
        "                               kernel_size=5, stride=1, padding=0)\n",
        "        \n",
        "        # Max pool layer\n",
        "        self.pool = nn.MaxPool2d(2, 2)\n",
        "\n",
        "        # Spatial dimension of the Tensor at the output of the 2nd CNN\n",
        "        self.final_dim = int(((dimx-4)/2-4)/2)\n",
        "        \n",
        "        # Linear layers\n",
        "        self.fc1 = torch.nn.Linear(16 * self.final_dim**2, 120)   \n",
        "\n",
        "        self.fc2 = torch.nn.Linear(120, 84)       \n",
        "\n",
        "        self.fc3 = torch.nn.Linear(84, 10)        \n",
        "    \n",
        "        self.relu = nn.ReLU()\n",
        "        \n",
        "        self.logsoftmax = nn.LogSoftmax(dim=1) \n",
        "\n",
        "        if self.use_batch_norm:\n",
        "\n",
        "            self.batch_norm1 = nn.BatchNorm2d(num_features=6)\n",
        "            \n",
        "            self.batch_norm2 = nn.BatchNorm2d(num_features=16)\n",
        "\n",
        "            self.batch_norm3 = nn.BatchNorm1d(120)\n",
        "\n",
        "            self.batch_norm4 = nn.BatchNorm1d(84)\n",
        "        \n",
        "        \n",
        "    def forward(self, x):\n",
        "        # Pass the input tensor through the CNN operations\n",
        "        x = self.conv1(x) #YOUR CODE HERE\n",
        "        if self.use_batch_norm:\n",
        "            x = self.batch_norm1(x)\n",
        "        x = self.relu(x) \n",
        "        x = self.pool(x)\n",
        "\n",
        "        x = self.conv2(x) #YOUR CODE HERE\n",
        "        if self.use_batch_norm:\n",
        "            x = self.batch_norm2(x)\n",
        "        x = self.relu(x) \n",
        "        x = self.pool(x)\n",
        "\n",
        "        # Flatten the tensor into a vector\n",
        "        x = x.view(-1, 16 * self.final_dim**2)\n",
        "\n",
        "        # Pass the tensor through the Dense Layers\n",
        "        x = self.fc1(x)\n",
        "        if self.use_batch_norm:\n",
        "            x = self.batch_norm3(x)\n",
        "        x = self.relu(x)\n",
        "\n",
        "        x = self.fc2(x)\n",
        "        if self.use_batch_norm:\n",
        "            x = self.batch_norm4(x)\n",
        "        x = self.relu(x)\n",
        "\n",
        "        x = self.fc3(x)\n",
        "        x = self.logsoftmax(x)\n",
        "        \n",
        "        return x\n"
      ],
      "execution_count": null,
      "outputs": []
    },
    {
      "cell_type": "code",
      "metadata": {
        "id": "IQ69Xr22y2z0"
      },
      "source": [
        "class Lenet5_extended(Lenet5):\n",
        "    \n",
        "    def __init__(self,dimx,nlabels,use_batch_norm,epochs=100,lr=0.001):\n",
        "        \n",
        "        super().__init__(dimx,nlabels,use_batch_norm)  \n",
        "        \n",
        "        self.lr = lr\n",
        "\n",
        "        self.optim = optim.Adam(self.parameters(), self.lr)\n",
        "\n",
        "        self.epochs = epochs\n",
        "\n",
        "        self.criterion = nn.NLLLoss()\n",
        "\n",
        "        self.loss_during_training = []  \n",
        "\n",
        "        self.valid_loss_during_training = []\n",
        "        \n",
        "        self.device = torch.device(\"cuda\" if torch.cuda.is_available() else \"cpu\")\n",
        "\n",
        "        self.to(self.device)\n",
        "        \n",
        "    def trainloop(self,trainloader,validloader):\n",
        "        \n",
        "        # Optimization Loop\n",
        "        \n",
        "        for e in range(int(self.epochs)):\n",
        "            \n",
        "            start_time = time.time()\n",
        "            \n",
        "            # YOUR CODE HERE\n",
        "            running_loss = 0.\n",
        "\n",
        "            for images, labels in trainloader:\n",
        "                \n",
        "                # Move input and label tensors to the default device\n",
        "                images, labels = images.to(self.device), labels.to(self.device)  \n",
        "        \n",
        "                self.optim.zero_grad()  \n",
        "\n",
        "                out = self.forward(images)\n",
        "\n",
        "                loss = self.criterion(out, labels) \n",
        "\n",
        "                running_loss += loss.item()\n",
        "\n",
        "                loss.backward()\n",
        "\n",
        "                self.optim.step()\n",
        "\n",
        "            # Append training loss to list    \n",
        "            self.loss_during_training.append(running_loss/len(trainloader))      \n",
        "            \n",
        "            # Turn off gradients for validation, saves memory and computations\n",
        "            with torch.no_grad():        \n",
        "\n",
        "                # set model to evaluation mode\n",
        "                self.eval()\n",
        "\n",
        "                running_loss = 0.\n",
        "                \n",
        "                for images,labels in validloader:\n",
        "          \n",
        "                    # Move input and label tensors to the default device\n",
        "                    images, labels = images.to(self.device), labels.to(self.device)                    \n",
        "                    \n",
        "                    out = self.forward(images)\n",
        "\n",
        "                    loss = self.criterion(out, labels) \n",
        "\n",
        "                    running_loss += loss.item()\n",
        "\n",
        "                # Append validation loss       \n",
        "                self.valid_loss_during_training.append(running_loss/len(validloader))\n",
        "\n",
        "            # set model back to train mode\n",
        "            self.train()\n",
        "\n",
        "            if(e % 10 == 0): # Every 10 epochs\n",
        "\n",
        "                print(\"Epoch %d. Training loss: %f, Validation loss: %f, Time per epoch: %f seconds\" \n",
        "                      %(e,self.loss_during_training[-1],self.valid_loss_during_training[-1],\n",
        "                       (time.time() - start_time)))\n",
        "                \n",
        "    def eval_performance(self,dataloader):\n",
        "        \n",
        "        loss = 0\n",
        "        accuracy = 0\n",
        "\n",
        "        # Turn off gradients for validation, saves memory and computations\n",
        "        with torch.no_grad():\n",
        "\n",
        "            # set model to evaluation mode\n",
        "            self.eval()\n",
        "\n",
        "            for images,labels in dataloader:\n",
        "\n",
        "                # Move input and label tensors to the default device\n",
        "                images, labels = images.to(self.device), labels.to(self.device) \n",
        "\n",
        "                probs = self.forward(images)\n",
        "\n",
        "                top_p, top_class = probs.topk(1, dim=1)\n",
        "\n",
        "                equals = (top_class == labels.view(images.shape[0], 1)) \n",
        "\n",
        "                accuracy += torch.mean(equals.type(torch.FloatTensor))\n",
        "\n",
        "            # set model back to train mode\n",
        "            self.train()\n",
        "            \n",
        "            return accuracy/len(dataloader)"
      ],
      "execution_count": null,
      "outputs": []
    },
    {
      "cell_type": "code",
      "metadata": {
        "id": "zr_1LmmB0NUf",
        "colab": {
          "base_uri": "https://localhost:8080/",
          "height": 800
        },
        "outputId": "21ced43f-5beb-42e4-f3e4-eaea31320fc2"
      },
      "source": [
        "my_CNN_BN = Lenet5_extended(dimx=28,nlabels=10,epochs=150,lr=1e-3,use_batch_norm=True)\n",
        "my_CNN_noBN = Lenet5_extended(dimx=28,nlabels=10,epochs=150,lr=1e-3,use_batch_norm=False)\n",
        "my_CNN_BN.trainloop(trainloader,validloader)\n",
        "my_CNN_noBN.trainloop(trainloader, validloader)\n",
        "\n",
        "plt.plot(my_CNN_BN.loss_during_training,'-b',label='Loss during training - BN')\n",
        "plt.plot(my_CNN_BN.valid_loss_during_training,'-r',label='Loss during validation training - BN')\n",
        "\n",
        "plt.plot(my_CNN_noBN.loss_during_training,'-y',label='Loss during training - no BN')\n",
        "plt.plot(my_CNN_noBN.valid_loss_during_training,'-g',label='Loss during validation training- no BN')\n",
        "plt.xlabel('Iterations')\n",
        "plt.ylabel('Loss')"
      ],
      "execution_count": null,
      "outputs": [
        {
          "output_type": "stream",
          "text": [
            "Epoch 0. Training loss: 0.196160, Validation loss: 0.067663, Time per epoch: 24.535167 seconds\n",
            "Epoch 10. Training loss: 0.012880, Validation loss: 0.037301, Time per epoch: 24.464852 seconds\n",
            "Epoch 20. Training loss: 0.006177, Validation loss: 0.039636, Time per epoch: 24.433206 seconds\n",
            "Epoch 30. Training loss: 0.004443, Validation loss: 0.042705, Time per epoch: 24.356878 seconds\n",
            "Epoch 40. Training loss: 0.003253, Validation loss: 0.041498, Time per epoch: 24.298028 seconds\n",
            "Epoch 50. Training loss: 0.002704, Validation loss: 0.047747, Time per epoch: 26.035949 seconds\n",
            "Epoch 60. Training loss: 0.001506, Validation loss: 0.045143, Time per epoch: 24.532246 seconds\n",
            "Epoch 70. Training loss: 0.001729, Validation loss: 0.047116, Time per epoch: 24.554110 seconds\n",
            "Epoch 80. Training loss: 0.002743, Validation loss: 0.063445, Time per epoch: 24.294551 seconds\n",
            "Epoch 90. Training loss: 0.003040, Validation loss: 0.053436, Time per epoch: 24.976438 seconds\n",
            "Epoch 100. Training loss: 0.000871, Validation loss: 0.053879, Time per epoch: 24.526940 seconds\n",
            "Epoch 110. Training loss: 0.001473, Validation loss: 0.058336, Time per epoch: 23.903030 seconds\n",
            "Epoch 120. Training loss: 0.000639, Validation loss: 0.056009, Time per epoch: 24.365654 seconds\n",
            "Epoch 130. Training loss: 0.000845, Validation loss: 0.062868, Time per epoch: 24.082552 seconds\n",
            "Epoch 140. Training loss: 0.000859, Validation loss: 0.056888, Time per epoch: 24.621366 seconds\n",
            "Epoch 0. Training loss: 0.306216, Validation loss: 0.137307, Time per epoch: 18.473727 seconds\n",
            "Epoch 10. Training loss: 0.017146, Validation loss: 0.065584, Time per epoch: 18.663736 seconds\n",
            "Epoch 20. Training loss: 0.008143, Validation loss: 0.066116, Time per epoch: 18.611671 seconds\n",
            "Epoch 30. Training loss: 0.005955, Validation loss: 0.078015, Time per epoch: 18.500463 seconds\n",
            "Epoch 40. Training loss: 0.005580, Validation loss: 0.077298, Time per epoch: 18.830914 seconds\n",
            "Epoch 50. Training loss: 0.004466, Validation loss: 0.075614, Time per epoch: 18.678705 seconds\n",
            "Epoch 60. Training loss: 0.003845, Validation loss: 0.090175, Time per epoch: 18.539963 seconds\n",
            "Epoch 70. Training loss: 0.003442, Validation loss: 0.100817, Time per epoch: 19.789396 seconds\n",
            "Epoch 80. Training loss: 0.003670, Validation loss: 0.097789, Time per epoch: 19.483865 seconds\n",
            "Epoch 90. Training loss: 0.005160, Validation loss: 0.107868, Time per epoch: 20.814149 seconds\n",
            "Epoch 100. Training loss: 0.000692, Validation loss: 0.111081, Time per epoch: 20.348096 seconds\n",
            "Epoch 110. Training loss: 0.001682, Validation loss: 0.130983, Time per epoch: 22.171906 seconds\n",
            "Epoch 120. Training loss: 0.002029, Validation loss: 0.111491, Time per epoch: 22.741336 seconds\n",
            "Epoch 130. Training loss: 0.000699, Validation loss: 0.136907, Time per epoch: 25.023773 seconds\n",
            "Epoch 140. Training loss: 0.000000, Validation loss: 0.136251, Time per epoch: 25.686045 seconds\n"
          ],
          "name": "stdout"
        },
        {
          "output_type": "execute_result",
          "data": {
            "text/plain": [
              "Text(0, 0.5, 'Loss')"
            ]
          },
          "metadata": {
            "tags": []
          },
          "execution_count": 11
        },
        {
          "output_type": "display_data",
          "data": {
            "image/png": "[encoded data removed]",
            "text/plain": [
              "<Figure size 432x288 with 1 Axes>"
            ]
          },
          "metadata": {
            "tags": []
          }
        }
      ]
    },
    {
      "cell_type": "code",
      "metadata": {
        "id": "SlWfDpan9QCg",
        "colab": {
          "base_uri": "https://localhost:8080/",
          "height": 118
        },
        "outputId": "a4d035bf-5afc-4b5d-c9af-333f13d25b4b"
      },
      "source": [
        "train_performance = my_CNN_BN.eval_performance(trainloader)\n",
        "test_performance = my_CNN_BN.eval_performance(testloader)\n",
        "\n",
        "print(\"MLP with Batch Normalisation\")\n",
        "print(\"Training Accuracy %f\" %(train_performance))\n",
        "print(\"Test Accuracy %f\" %(test_performance))\n",
        "\n",
        "train_performance = my_CNN_noBN.eval_performance(trainloader)\n",
        "test_performance = my_CNN_noBN.eval_performance(testloader)\n",
        "\n",
        "print(\"MLP without Batch Normalisation\")\n",
        "print(\"Training Accuracy %f\" %(train_performance))\n",
        "print(\"Test Accuracy %f\" %(test_performance))"
      ],
      "execution_count": null,
      "outputs": [
        {
          "output_type": "stream",
          "text": [
            "MLP with Batch Normalisation\n",
            "Training Accuracy 1.000000\n",
            "Test Accuracy 0.989152\n",
            "MLP without Batch Normalisation\n",
            "Training Accuracy 1.000000\n",
            "Test Accuracy 0.992834\n"
          ],
          "name": "stdout"
        }
      ]
    }
  ]
}