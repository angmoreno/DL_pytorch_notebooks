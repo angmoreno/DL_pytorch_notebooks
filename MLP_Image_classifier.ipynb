{
  "nbformat": 4,
  "nbformat_minor": 0,
  "metadata": {
    "kernelspec": {
      "display_name": "Python 3",
      "language": "python",
      "name": "python3"
    },
    "language_info": {
      "codemirror_mode": {
        "name": "ipython",
        "version": 3
      },
      "file_extension": ".py",
      "mimetype": "text/x-python",
      "name": "python",
      "nbconvert_exporter": "python",
      "pygments_lexer": "ipython3",
      "version": "3.6.5"
    },
    "colab": {
      "name": "MLP_Image_classifier.ipynb",
      "provenance": [],
      "collapsed_sections": []
    }
  },
  "cells": [
    {
      "cell_type": "markdown",
      "metadata": {
        "id": "ZdRb3QiLNYB1"
      },
      "source": [
        "\n",
        "\n",
        "In this second lab of the course, you will implement an image classifier using MLPs. We will use the MNIST dataset, which consists of greyscale handwritten digits. Each image is 28x28 pixels, you can see a sample below"
      ]
    },
    {
      "cell_type": "code",
      "metadata": {
        "id": "eIdK3c0FNYB4",
        "colab": {
          "base_uri": "https://localhost:8080/",
          "height": 221
        },
        "outputId": "9c4cf156-b999-4c8b-b6be-c0f13ef55522"
      },
      "source": [
        "from IPython.display import Image\n",
        "from IPython.core.display import HTML \n",
        "\n",
        "Image(url= \"https://upload.wikimedia.org/wikipedia/commons/2/27/MnistExamples.png\", width=400, height=200)"
      ],
      "execution_count": null,
      "outputs": [
        {
          "output_type": "execute_result",
          "data": {
            "text/html": [
              "<img src=\"https://upload.wikimedia.org/wikipedia/commons/2/27/MnistExamples.png\" width=\"400\" height=\"200\"/>"
            ],
            "text/plain": [
              "<IPython.core.display.Image object>"
            ]
          },
          "metadata": {
            "tags": []
          },
          "execution_count": 1
        }
      ]
    },
    {
      "cell_type": "markdown",
      "metadata": {
        "id": "oZdl-PNSNYCB"
      },
      "source": [
        "Our goal is to build a neural network that can take one of these images and predict the digit in the image.\n",
        "\n",
        "Note: a big part of the following material is a personal wrap-up of [Facebook's Deep Learning Course in Udacity](https://www.udacity.com/course/deep-learning-pytorch--ud188). So all credit goes for them!!"
      ]
    },
    {
      "cell_type": "code",
      "metadata": {
        "id": "QMizhwi3NYCD"
      },
      "source": [
        "%matplotlib inline\n",
        "%config InlineBackend.figure_format = 'retina'  #To get figures with high quality!\n",
        "\n",
        "import numpy as np\n",
        "import torch\n",
        "from torch import nn\n",
        "from torch import optim\n",
        "import matplotlib.pyplot as plt"
      ],
      "execution_count": null,
      "outputs": []
    },
    {
      "cell_type": "markdown",
      "metadata": {
        "id": "mqsg788iNYCI"
      },
      "source": [
        "## Part I. Download MNIST with `torchvision`\n",
        "\n",
        "First up, we need to get our dataset. This is provided through the `torchvision` package. The [torchvision package](https://pytorch.org/docs/stable/torchvision/index.html) consists of popular datasets, model architectures, and common image transformations for computer vision.\n",
        "\n",
        "\n",
        "The code below will download the MNIST dataset, then create training and test datasets for us. Don't worry too much about the details here, you'll learn more about this later."
      ]
    },
    {
      "cell_type": "code",
      "metadata": {
        "id": "H1g0kg7nNYCK",
        "colab": {
          "base_uri": "https://localhost:8080/",
          "height": 275
        },
        "outputId": "d8795603-cb49-45c9-eb61-be4a1268e489"
      },
      "source": [
        "### Run this cell\n",
        "\n",
        "from torchvision import datasets, transforms\n",
        "\n",
        "# Define a transform to normalize the data\n",
        "transform = transforms.Compose([transforms.ToTensor(),\n",
        "                              transforms.Normalize((0.5,), (0.5,)),\n",
        "                              ])\n",
        "\n",
        "# Download and load the training  data\n",
        "trainset = datasets.MNIST('~/.pytorch/MNIST_data/', download=True, train=True, transform=transform)\n",
        "trainloader = torch.utils.data.DataLoader(trainset, batch_size=64, shuffle=True)\n",
        "\n",
        "# Download and load the test data\n",
        "testset = datasets.MNIST('~/.pytorch/MNIST_data/', download=True, train=False, transform=transform)\n",
        "testloader = torch.utils.data.DataLoader(testset, batch_size=64, shuffle=True)"
      ],
      "execution_count": null,
      "outputs": [
        {
          "output_type": "stream",
          "text": [
            "\r0it [00:00, ?it/s]"
          ],
          "name": "stderr"
        },
        {
          "output_type": "stream",
          "text": [
            "Downloading http://yann.lecun.com/exdb/mnist/train-images-idx3-ubyte.gz to /root/.pytorch/MNIST_data/MNIST/raw/train-images-idx3-ubyte.gz\n"
          ],
          "name": "stdout"
        },
        {
          "output_type": "stream",
          "text": [
            "9920512it [00:01, 8546538.50it/s]                            \n"
          ],
          "name": "stderr"
        },
        {
          "output_type": "stream",
          "text": [
            "Extracting /root/.pytorch/MNIST_data/MNIST/raw/train-images-idx3-ubyte.gz to /root/.pytorch/MNIST_data/MNIST/raw\n"
          ],
          "name": "stdout"
        },
        {
          "output_type": "stream",
          "text": [
            "  0%|          | 0/28881 [00:00<?, ?it/s]"
          ],
          "name": "stderr"
        },
        {
          "output_type": "stream",
          "text": [
            "Downloading http://yann.lecun.com/exdb/mnist/train-labels-idx1-ubyte.gz to /root/.pytorch/MNIST_data/MNIST/raw/train-labels-idx1-ubyte.gz\n"
          ],
          "name": "stdout"
        },
        {
          "output_type": "stream",
          "text": [
            "32768it [00:00, 122833.44it/s]           \n",
            "  0%|          | 0/1648877 [00:00<?, ?it/s]"
          ],
          "name": "stderr"
        },
        {
          "output_type": "stream",
          "text": [
            "Extracting /root/.pytorch/MNIST_data/MNIST/raw/train-labels-idx1-ubyte.gz to /root/.pytorch/MNIST_data/MNIST/raw\n",
            "Downloading http://yann.lecun.com/exdb/mnist/t10k-images-idx3-ubyte.gz to /root/.pytorch/MNIST_data/MNIST/raw/t10k-images-idx3-ubyte.gz\n"
          ],
          "name": "stdout"
        },
        {
          "output_type": "stream",
          "text": [
            "1654784it [00:00, 2124342.64it/s]                            \n",
            "0it [00:00, ?it/s]"
          ],
          "name": "stderr"
        },
        {
          "output_type": "stream",
          "text": [
            "Extracting /root/.pytorch/MNIST_data/MNIST/raw/t10k-images-idx3-ubyte.gz to /root/.pytorch/MNIST_data/MNIST/raw\n",
            "Downloading http://yann.lecun.com/exdb/mnist/t10k-labels-idx1-ubyte.gz to /root/.pytorch/MNIST_data/MNIST/raw/t10k-labels-idx1-ubyte.gz\n"
          ],
          "name": "stdout"
        },
        {
          "output_type": "stream",
          "text": [
            "8192it [00:00, 47710.13it/s]            \n"
          ],
          "name": "stderr"
        },
        {
          "output_type": "stream",
          "text": [
            "Extracting /root/.pytorch/MNIST_data/MNIST/raw/t10k-labels-idx1-ubyte.gz to /root/.pytorch/MNIST_data/MNIST/raw\n",
            "Processing...\n",
            "Done!\n"
          ],
          "name": "stdout"
        }
      ]
    },
    {
      "cell_type": "markdown",
      "metadata": {
        "id": "zFj5V4qwNYCP"
      },
      "source": [
        "We have the training data loaded into `trainloader` and we make that an iterator with `iter(trainloader)`. Later, we'll use this to loop through the dataset for training, like\n",
        "\n",
        "```python\n",
        "for image, label in trainloader:\n",
        "    ## do things with images and labels\n",
        "```\n",
        "\n",
        "You'll notice I created the `trainloader` with a batch size of 64, and `shuffle=True`. The batch size is the number of images we get in one iteration from the data loader and pass through our network, often called a *batch*. And `shuffle=True` tells it to **shuffle the dataset every time we start going through the data loader again**. But here I'm just grabbing the first batch so we can check out the data. We can see below that `images` is just a tensor with size `(64, 1, 28, 28)`. So, 64 images per batch, **1 color channel**, and 28x28 images."
      ]
    },
    {
      "cell_type": "code",
      "metadata": {
        "id": "895kagALNYCR",
        "colab": {
          "base_uri": "https://localhost:8080/",
          "height": 67
        },
        "outputId": "cf8cbb88-30c4-43df-c800-10dcf27429c5"
      },
      "source": [
        "dataiter = iter(trainloader)   #To iterate through the dataset\n",
        "\n",
        "images, labels = dataiter.next()\n",
        "print(type(images))\n",
        "print(images.shape)\n",
        "print(labels.shape)\n"
      ],
      "execution_count": null,
      "outputs": [
        {
          "output_type": "stream",
          "text": [
            "<class 'torch.Tensor'>\n",
            "torch.Size([64, 1, 28, 28])\n",
            "torch.Size([64])\n"
          ],
          "name": "stdout"
        }
      ]
    },
    {
      "cell_type": "markdown",
      "metadata": {
        "id": "0LUWolp6NYCV"
      },
      "source": [
        "This is what one of the images looks like. "
      ]
    },
    {
      "cell_type": "code",
      "metadata": {
        "id": "X_DKAP8NNYCX",
        "colab": {
          "base_uri": "https://localhost:8080/",
          "height": 282
        },
        "outputId": "26fe2cf2-debb-4bcb-e401-f7c5b7107910"
      },
      "source": [
        "plt.imshow(images[1].numpy().reshape([28,28]), cmap='Greys_r')"
      ],
      "execution_count": null,
      "outputs": [
        {
          "output_type": "execute_result",
          "data": {
            "text/plain": [
              "<matplotlib.image.AxesImage at 0x7efc609d21d0>"
            ]
          },
          "metadata": {
            "tags": []
          },
          "execution_count": 5
        },
        {
          "output_type": "display_data",
          "data": {
            "image/png": "[encoded data removed]",
            "text/plain": [
              "<Figure size 432x288 with 1 Axes>"
            ]
          },
          "metadata": {
            "tags": [],
            "image/png": {
              "width": 251,
              "height": 248
            }
          }
        }
      ]
    },
    {
      "cell_type": "markdown",
      "metadata": {
        "id": "S-yp7FwKNYCb"
      },
      "source": [
        "## Part II. Train a multi-class Logistic Regressor\n",
        "\n",
        "Our first goal is to train a multi-class logistic regressor to evaluate how got it can do in both the training and the test sets. \n",
        "\n",
        "The following code is **almost identical** to the one you used for Lab 1 except for two small details:\n",
        "\n",
        "- We are training a LR classifier with 10 different outputs that implements a **softmax** non-linear function (instead of a binary LR with a sigmoid). \n",
        "\n",
        "- We are using the MNIST database loaded above.\n",
        "\n",
        "We first define the Multi-class Logistic Regressor class\n",
        "\n",
        "> **Exercise**: Complete the following code"
      ]
    },
    {
      "cell_type": "code",
      "metadata": {
        "id": "T3J1NHNoNYCc"
      },
      "source": [
        "class Multi_LR(nn.Module):\n",
        "    def __init__(self,dimx,nlabels): #Nlabels will be 10 in our case\n",
        "        super().__init__()\n",
        "        \n",
        "        self.output = nn.Linear(dimx,nlabels)\n",
        "    \n",
        "         \n",
        "        self.logsoftmax = nn.LogSoftmax(dim=1)     # NEW w.r.t Lab 1. dim is the dimension along which \n",
        "                                                #Softmax will be computed (so every slice along dim will sum to 1)\n",
        "        \n",
        "    def forward(self, x):\n",
        "        # Pass the input tensor through each of our operations\n",
        "        x = self.output(x) #YOUR CODE HERE\n",
        "        x = self.logsoftmax(x) #YOUR CODE HERE\n",
        "        return x"
      ],
      "execution_count": null,
      "outputs": []
    },
    {
      "cell_type": "markdown",
      "metadata": {
        "id": "1IXh9CZFNYCi"
      },
      "source": [
        "Note that we use `nn.LogSoftmax` instead of `nn.Softmax()`. In many cases, softmax gives you probabilities which will often be very close to zero or one but floating-point numbers can't accurately represent values near zero or one ([read more here](https://docs.python.org/3/tutorial/floatingpoint.html)). It's usually best to avoid doing calculations with probabilities, typically we use log-probabilities.  The cross entropy loss is obtained by combining `nn.LogSoftmax` with the negative loss likelihood loss `nn.NLLLoss()`.\n",
        "\n",
        "Alternatively, we can use [`nn.CrossEntropyLoss`](https://pytorch.org/docs/stable/nn.html#torch.nn.CrossEntropyLoss). **This criterion combines `nn.LogSoftmax()` and `nn.NLLLoss()` in one single class.**\n",
        "\n",
        "This means we need to pass in the raw output of our network into the loss, not the output of the softmax function. This raw output is usually called the *logits* or *scores*.\n"
      ]
    },
    {
      "cell_type": "markdown",
      "metadata": {
        "id": "w9Ir6PkpNYCj"
      },
      "source": [
        "Now we implement an extension to the class above (which inheritates from `Multi_LR`) that includes a training method.  One thing, note that MNIST images are of dimension $28\\times28=784$. To feed this image as the input to a `nn.Linear` layer, it has to be converted to a $784\\times 1$ input tensor. \n",
        "\n",
        "> **Exercise**: Complete the following code"
      ]
    },
    {
      "cell_type": "code",
      "metadata": {
        "id": "lS1Ouc7hNYCk"
      },
      "source": [
        "''' This class inherits from the `Multi_LR` class. So it has the same atributes\n",
        "and methods, and some others that we will add. \n",
        "'''\n",
        "class Multi_LR_extended(Multi_LR):\n",
        "    \n",
        "    def __init__(self,dimx,nlabels,epochs=100,lr=0.001):\n",
        "        \n",
        "        super().__init__(dimx,nlabels)  #To initialize `Multi_LR`!\n",
        "        \n",
        "        self.lr = lr #Learning Rate\n",
        "        \n",
        "        self.optim = optim.Adam(self.parameters(), self.lr)\n",
        "        \n",
        "        self.epochs = epochs\n",
        "        \n",
        "        self.criterion = nn.NLLLoss()               # NEW w.r.t Lab 1\n",
        "        \n",
        "        # A list to store the loss evolution along training\n",
        "        \n",
        "        self.loss_during_training = [] \n",
        "        \n",
        "    def train(self,trainloader):\n",
        "        \n",
        "        # Optimization Loop\n",
        "        \n",
        "        for e in range(int(self.epochs)):\n",
        "            \n",
        "            # Random data permutation at each epoch\n",
        "            \n",
        "            running_loss = 0.\n",
        "            \n",
        "            for images, labels in trainloader:              # NEW w.r.t Lab 1\n",
        "        \n",
        "                self.optim.zero_grad()  #TO RESET GRADIENTS!\n",
        "                print(images.view(images.shape[0], -1))\n",
        "                out = self.forward(images.view(images.shape[0], -1))\n",
        "                print(out)\n",
        "                print(labels)\n",
        "                break\n",
        "                loss = self.criterion(out,labels)\n",
        "\n",
        "                running_loss += loss.item()\n",
        "                \n",
        "                #Your code here\n",
        "                loss.backward()\n",
        "                self.optim.step()\n",
        "                \n",
        "            self.loss_during_training.append(running_loss/len(trainloader))\n",
        "\n",
        "            if(e % 1 == 0): # Every 10 epochs\n",
        "\n",
        "                print(\"Training loss after %d epochs: %f\" \n",
        "                      %(e,self.loss_during_training[-1]))\n"
      ],
      "execution_count": null,
      "outputs": []
    },
    {
      "cell_type": "markdown",
      "metadata": {
        "id": "vTX8SSQ6NYCp"
      },
      "source": [
        "Ok that was easy, wasn't it? Lets now train the multi-class LR and evaluate the performance in both the training and the test sets.\n"
      ]
    },
    {
      "cell_type": "code",
      "metadata": {
        "scrolled": true,
        "id": "TXbYtRIyNYCq",
        "colab": {
          "base_uri": "https://localhost:8080/",
          "height": 1000
        },
        "outputId": "141f88f3-3e3e-48dd-b848-bec917380c56"
      },
      "source": [
        "my_LR = Multi_LR_extended(dimx=784,nlabels=10,epochs=5,lr=1e-3)\n",
        "\n",
        "my_LR.train(trainloader)\n"
      ],
      "execution_count": null,
      "outputs": [
        {
          "output_type": "stream",
          "text": [
            "tensor([[-1., -1., -1.,  ..., -1., -1., -1.],\n",
            "        [-1., -1., -1.,  ..., -1., -1., -1.],\n",
            "        [-1., -1., -1.,  ..., -1., -1., -1.],\n",
            "        ...,\n",
            "        [-1., -1., -1.,  ..., -1., -1., -1.],\n",
            "        [-1., -1., -1.,  ..., -1., -1., -1.],\n",
            "        [-1., -1., -1.,  ..., -1., -1., -1.]])\n",
            "tensor([[-1.4653, -2.3405, -2.9206, -3.0026, -2.4118, -2.5427, -2.4269, -2.7842,\n",
            "         -1.5484, -3.2655],\n",
            "        [-1.6120, -2.5922, -2.8697, -2.6476, -2.6100, -1.6824, -2.3857, -3.2164,\n",
            "         -1.7756, -3.2933],\n",
            "        [-2.2014, -2.3386, -2.8142, -2.8151, -2.6187, -1.8623, -1.8019, -2.8387,\n",
            "         -1.7022, -3.2424],\n",
            "        [-1.3581, -2.5605, -2.5062, -2.8866, -2.6086, -2.1170, -2.2832, -3.1803,\n",
            "         -1.8498, -3.3996],\n",
            "        [-1.2210, -2.5952, -3.0199, -2.7510, -3.3994, -2.2573, -1.9828, -3.2320,\n",
            "         -1.7011, -3.9075],\n",
            "        [-1.4559, -2.5094, -2.4613, -2.7820, -3.2530, -2.5066, -1.7193, -2.9918,\n",
            "         -1.8732, -3.3521],\n",
            "        [-2.5458, -2.8985, -2.7605, -2.7195, -3.2804, -1.3424, -2.1811, -2.6984,\n",
            "         -1.5089, -3.2941],\n",
            "        [-1.2833, -2.8828, -2.5295, -3.1219, -2.7127, -2.1448, -2.3745, -2.4706,\n",
            "         -1.9252, -3.3179],\n",
            "        [-1.2739, -2.3538, -2.7740, -2.7832, -2.4164, -1.9919, -2.8044, -2.6702,\n",
            "         -2.1466, -3.5521],\n",
            "        [-1.9706, -2.0568, -2.4215, -2.8281, -3.0642, -2.2176, -1.6635, -2.7928,\n",
            "         -2.0662, -2.9587],\n",
            "        [-1.4542, -2.4999, -2.4691, -2.8457, -2.6869, -2.7035, -1.9291, -2.3866,\n",
            "         -2.1857, -2.8667],\n",
            "        [-1.4085, -2.7063, -3.1932, -2.8037, -3.0061, -2.3210, -2.1867, -3.3364,\n",
            "         -1.2997, -3.9663],\n",
            "        [-1.3006, -2.7699, -2.4901, -2.9189, -2.5421, -2.4176, -2.1427, -2.6867,\n",
            "         -1.8933, -3.7201],\n",
            "        [-1.3761, -2.4888, -3.5099, -2.6428, -3.0731, -2.3162, -2.0461, -3.1289,\n",
            "         -1.5024, -3.7789],\n",
            "        [-1.4761, -1.8968, -2.6581, -2.9608, -2.5550, -2.3428, -2.2636, -2.7169,\n",
            "         -2.1467, -3.2474],\n",
            "        [-1.3976, -2.8170, -3.1033, -2.7997, -2.9924, -2.3534, -2.0729, -3.0452,\n",
            "         -1.3942, -3.8804],\n",
            "        [-2.0175, -2.6595, -2.4151, -2.8077, -2.9642, -2.1168, -1.5730, -2.6784,\n",
            "         -1.8548, -3.1532],\n",
            "        [-2.0985, -2.4662, -2.6342, -2.5829, -2.5172, -1.8079, -2.2139, -2.8932,\n",
            "         -1.6506, -3.1277],\n",
            "        [-1.4429, -3.2926, -2.4568, -2.9294, -2.7006, -2.1495, -1.9906, -2.8209,\n",
            "         -1.7793, -3.2485],\n",
            "        [-1.4031, -2.4207, -3.1979, -2.5240, -3.2168, -2.1635, -1.8360, -2.6697,\n",
            "         -2.0208, -3.5737],\n",
            "        [-2.0728, -2.4792, -2.8189, -2.7070, -2.7074, -1.3449, -2.2884, -2.7526,\n",
            "         -2.0683, -3.0996],\n",
            "        [-1.7231, -2.2076, -2.5557, -2.5641, -2.7309, -2.1498, -1.9773, -2.9246,\n",
            "         -1.9600, -3.1644],\n",
            "        [-1.7729, -2.4891, -2.4810, -2.6474, -3.0863, -2.0239, -2.1876, -2.5306,\n",
            "         -1.6293, -3.6115],\n",
            "        [-2.0151, -2.5336, -2.7414, -2.7056, -2.4932, -1.5273, -2.4400, -3.1235,\n",
            "         -1.7103, -3.1177],\n",
            "        [-1.4231, -2.2413, -2.4534, -2.9815, -2.7209, -2.3993, -2.3464, -3.2670,\n",
            "         -1.6472, -3.4120],\n",
            "        [-1.4179, -2.7884, -2.7340, -2.7916, -2.7485, -2.1226, -2.0097, -2.9571,\n",
            "         -1.8612, -3.1066],\n",
            "        [-1.3130, -2.4932, -2.5430, -3.2285, -2.4379, -2.3322, -2.6065, -2.5037,\n",
            "         -1.8691, -3.3287],\n",
            "        [-1.4832, -2.1043, -2.3571, -2.7568, -2.9901, -2.3248, -2.4334, -3.3358,\n",
            "         -1.8057, -2.8611],\n",
            "        [-2.0406, -2.4222, -2.3091, -2.8925, -3.0138, -1.9582, -1.7630, -3.1055,\n",
            "         -1.7271, -3.1656],\n",
            "        [-2.3911, -2.7382, -3.2091, -2.6806, -3.0646, -1.2876, -1.8378, -2.4946,\n",
            "         -1.9627, -3.5034],\n",
            "        [-1.2489, -2.0252, -2.5672, -2.9219, -2.9945, -3.0932, -2.2869, -2.4575,\n",
            "         -1.9516, -3.6518],\n",
            "        [-1.3638, -2.7991, -2.9449, -2.4143, -2.4811, -1.9620, -2.5649, -2.6725,\n",
            "         -1.9228, -3.6902],\n",
            "        [-1.6434, -2.2749, -2.7292, -2.8242, -2.7943, -1.9602, -2.2303, -2.6583,\n",
            "         -1.8426, -3.1872],\n",
            "        [-1.2976, -2.3633, -2.4775, -3.0016, -2.6949, -2.6039, -2.5352, -2.9379,\n",
            "         -1.6697, -3.2973],\n",
            "        [-1.6907, -2.8375, -2.6992, -2.5401, -3.0265, -1.7430, -1.7675, -2.4563,\n",
            "         -2.3745, -3.2733],\n",
            "        [-1.6317, -2.2085, -2.2649, -2.3692, -3.2469, -2.2894, -2.0258, -2.6564,\n",
            "         -2.3298, -2.8556],\n",
            "        [-2.0939, -2.5025, -2.1203, -2.7873, -2.8303, -1.7021, -2.1816, -2.6530,\n",
            "         -1.9448, -3.0851],\n",
            "        [-1.6106, -2.4943, -2.9380, -2.7614, -3.1547, -1.7194, -1.9656, -3.2584,\n",
            "         -1.7808, -3.4221],\n",
            "        [-1.4211, -2.2404, -3.1326, -2.8336, -2.3769, -2.3543, -2.1839, -2.8389,\n",
            "         -1.8143, -3.5796],\n",
            "        [-2.0432, -2.5750, -2.7492, -2.4798, -2.9806, -1.6974, -1.8338, -2.9751,\n",
            "         -1.7395, -3.6452],\n",
            "        [-1.3104, -2.4803, -2.4612, -3.0675, -2.9077, -2.4887, -1.9969, -3.2693,\n",
            "         -1.7134, -3.7700],\n",
            "        [-1.1304, -3.0770, -2.2399, -3.1371, -3.1519, -2.7433, -2.4255, -2.1125,\n",
            "         -1.9968, -3.5456],\n",
            "        [-1.8156, -2.5125, -2.5751, -2.6632, -2.7094, -1.9630, -1.9078, -2.5482,\n",
            "         -2.0306, -3.0916],\n",
            "        [-1.4114, -2.5324, -3.0185, -3.3379, -3.0667, -2.3989, -2.0324, -2.6750,\n",
            "         -1.5334, -3.2387],\n",
            "        [-1.8726, -2.5031, -2.7436, -3.2129, -2.9010, -2.1128, -1.6585, -2.6998,\n",
            "         -1.6186, -3.5694],\n",
            "        [-1.6546, -1.7820, -2.3700, -2.8084, -2.6047, -2.4405, -2.6206, -2.6170,\n",
            "         -2.0162, -3.0630],\n",
            "        [-1.6527, -2.3569, -2.4417, -2.4617, -2.5754, -2.4216, -2.2636, -2.8618,\n",
            "         -1.7624, -3.1287],\n",
            "        [-1.2437, -3.0618, -2.4608, -3.0780, -3.0024, -2.4723, -2.2449, -2.8236,\n",
            "         -1.6657, -3.1010],\n",
            "        [-1.9966, -2.3532, -2.2183, -2.7524, -2.6118, -1.8690, -2.3075, -2.6389,\n",
            "         -1.8540, -3.1860],\n",
            "        [-1.9152, -2.6910, -2.7021, -2.7874, -3.0314, -2.2595, -1.5510, -2.6129,\n",
            "         -1.7870, -2.9807],\n",
            "        [-1.3935, -2.6068, -2.9752, -2.7639, -2.6989, -1.9113, -2.4819, -3.2749,\n",
            "         -1.6404, -3.3970],\n",
            "        [-1.9141, -2.5978, -2.5361, -2.6270, -2.5360, -1.7821, -2.1039, -2.8508,\n",
            "         -1.8253, -3.2648],\n",
            "        [-1.3454, -2.4099, -2.7613, -3.1086, -2.6759, -2.7522, -2.1229, -3.0564,\n",
            "         -1.5725, -3.3530],\n",
            "        [-1.5740, -2.2312, -2.5238, -3.0235, -3.0620, -2.2777, -2.1362, -2.5858,\n",
            "         -1.7182, -3.3674],\n",
            "        [-1.1240, -2.1821, -2.7862, -2.6494, -3.4608, -2.6996, -2.3027, -2.9944,\n",
            "         -1.9109, -3.4047],\n",
            "        [-1.3762, -2.4992, -2.8060, -2.8322, -3.1144, -2.1617, -2.0959, -2.6666,\n",
            "         -1.8676, -3.2309],\n",
            "        [-1.6536, -2.4182, -2.7480, -2.9762, -2.6323, -1.9654, -1.9978, -2.8932,\n",
            "         -1.8167, -3.2467],\n",
            "        [-1.1614, -2.3789, -2.7736, -3.7310, -2.6486, -2.9320, -2.5697, -3.2432,\n",
            "         -1.4522, -3.3755],\n",
            "        [-1.6867, -2.4466, -2.8654, -2.4298, -2.4832, -1.9238, -2.2111, -2.7218,\n",
            "         -1.9722, -3.2376],\n",
            "        [-1.5779, -2.3899, -3.3217, -2.3794, -3.2347, -2.2461, -2.0285, -2.4585,\n",
            "         -1.6428, -4.0428],\n",
            "        [-1.7540, -2.2046, -2.5768, -2.5558, -2.7445, -2.0275, -2.2092, -2.6574,\n",
            "         -1.9940, -2.9768],\n",
            "        [-1.4431, -2.3100, -2.3455, -2.7787, -2.5745, -2.6674, -2.5071, -2.7627,\n",
            "         -1.7686, -3.0831],\n",
            "        [-1.7315, -2.5615, -2.8592, -2.5931, -3.0697, -1.4104, -2.3178, -2.8532,\n",
            "         -2.1118, -3.0779],\n",
            "        [-1.9154, -2.3597, -2.8171, -2.7583, -2.8201, -2.0568, -1.6595, -2.3844,\n",
            "         -2.0238, -3.4083]], grad_fn=<LogSoftmaxBackward>)\n",
            "tensor([8, 1, 7, 3, 4, 2, 3, 5, 0, 7, 9, 9, 8, 9, 2, 9, 7, 1, 3, 6, 7, 2, 3, 1,\n",
            "        9, 4, 5, 6, 9, 3, 8, 9, 3, 0, 5, 9, 1, 6, 5, 3, 3, 5, 7, 5, 5, 2, 2, 5,\n",
            "        1, 7, 1, 1, 9, 0, 6, 6, 3, 0, 6, 8, 3, 3, 7, 2])\n",
            "Training loss after 0 epochs: 0.000000\n",
            "tensor([[-1., -1., -1.,  ..., -1., -1., -1.],\n",
            "        [-1., -1., -1.,  ..., -1., -1., -1.],\n",
            "        [-1., -1., -1.,  ..., -1., -1., -1.],\n",
            "        ...,\n",
            "        [-1., -1., -1.,  ..., -1., -1., -1.],\n",
            "        [-1., -1., -1.,  ..., -1., -1., -1.],\n",
            "        [-1., -1., -1.,  ..., -1., -1., -1.]])\n",
            "tensor([[-1.5069, -2.5260, -2.2783, -2.9747, -2.5789, -2.2196, -2.2937, -3.1393,\n",
            "         -1.7216, -3.2858],\n",
            "        [-1.5914, -2.7253, -2.9407, -2.5951, -3.2263, -2.0930, -1.5390, -2.8970,\n",
            "         -1.8617, -4.1896],\n",
            "        [-1.6685, -3.2042, -2.7041, -2.8996, -2.7485, -1.2930, -2.5532, -3.0270,\n",
            "         -1.8635, -3.5395],\n",
            "        [-1.4401, -2.5270, -2.6352, -2.5240, -3.1332, -2.6702, -2.7423, -3.4187,\n",
            "         -1.2100, -3.7648],\n",
            "        [-1.6329, -2.5422, -2.7800, -2.5703, -2.9121, -2.2653, -1.5735, -2.6816,\n",
            "         -2.1643, -3.2539],\n",
            "        [-1.7685, -2.3726, -2.3651, -2.7492, -2.7081, -2.0058, -2.0672, -3.3889,\n",
            "         -1.6664, -3.5812],\n",
            "        [-1.4495, -2.6386, -2.2198, -3.3113, -2.5099, -2.5135, -2.4899, -3.5968,\n",
            "         -1.3886, -3.6212],\n",
            "        [-1.4749, -2.5138, -2.5646, -2.9940, -3.1228, -2.5821, -1.9564, -2.7360,\n",
            "         -1.5967, -3.3586],\n",
            "        [-1.6938, -2.6267, -2.6667, -2.7592, -3.2031, -2.1458, -1.7667, -3.0034,\n",
            "         -1.7133, -2.9441],\n",
            "        [-2.0241, -2.3416, -2.4500, -2.8339, -2.5367, -2.0249, -2.3743, -2.7690,\n",
            "         -1.4830, -3.4197],\n",
            "        [-1.9115, -2.6327, -2.6295, -2.9658, -2.9693, -1.7611, -1.6701, -2.7564,\n",
            "         -1.9486, -3.2385],\n",
            "        [-1.7392, -1.9624, -2.7655, -2.6107, -2.2611, -2.8237, -2.2405, -2.7273,\n",
            "         -1.7339, -3.3414],\n",
            "        [-1.4963, -2.6893, -2.8065, -2.6030, -3.2170, -2.3739, -2.2210, -2.2043,\n",
            "         -1.6216, -3.7282],\n",
            "        [-1.5979, -2.4484, -2.7507, -2.5782, -2.8503, -2.0388, -2.2182, -2.7190,\n",
            "         -1.7047, -3.6164],\n",
            "        [-2.1088, -2.3722, -2.3401, -2.8014, -2.6035, -1.8304, -2.2635, -2.5353,\n",
            "         -1.7519, -3.2898],\n",
            "        [-1.7941, -2.9793, -2.7430, -2.5731, -3.3354, -1.5356, -2.1373, -2.8170,\n",
            "         -1.7780, -3.1112],\n",
            "        [-2.1305, -2.4447, -2.7294, -2.6600, -2.9008, -2.3115, -1.8561, -2.6847,\n",
            "         -1.4901, -2.8952],\n",
            "        [-1.7819, -2.7744, -2.5565, -2.8781, -3.1690, -1.8114, -1.6962, -2.8546,\n",
            "         -1.8700, -3.3546],\n",
            "        [-1.3071, -2.6664, -2.9080, -2.6874, -2.6965, -1.9732, -2.3225, -3.1204,\n",
            "         -1.8614, -3.4055],\n",
            "        [-1.8672, -2.5851, -2.8948, -2.3125, -2.3449, -2.1875, -2.0458, -2.7260,\n",
            "         -1.7185, -3.3937],\n",
            "        [-1.8573, -2.4673, -2.6509, -2.4910, -2.4490, -2.3014, -2.2048, -2.7987,\n",
            "         -1.5962, -3.0937],\n",
            "        [-1.9145, -2.5822, -3.3004, -2.3659, -2.8563, -2.1071, -1.6859, -2.6262,\n",
            "         -1.7176, -3.5050],\n",
            "        [-1.8149, -2.6401, -3.2384, -2.7206, -2.6157, -2.2411, -1.8144, -3.1507,\n",
            "         -1.4006, -3.5383],\n",
            "        [-1.2877, -2.5244, -2.5861, -2.7644, -2.8331, -2.5936, -2.3924, -3.2379,\n",
            "         -1.5762, -3.3623],\n",
            "        [-1.2995, -2.8654, -2.5973, -2.8359, -2.7696, -2.4909, -2.4887, -2.0973,\n",
            "         -1.8559, -3.5200],\n",
            "        [-1.2063, -2.3040, -2.4169, -3.2174, -3.0106, -2.2574, -2.5129, -3.6442,\n",
            "         -1.7246, -3.4334],\n",
            "        [-1.6197, -2.5629, -2.7684, -3.1350, -2.6241, -2.1537, -2.2266, -2.4370,\n",
            "         -1.7085, -2.9247],\n",
            "        [-1.3988, -2.5742, -3.1377, -2.8797, -3.0346, -2.4514, -1.7950, -2.9876,\n",
            "         -1.5855, -3.8302],\n",
            "        [-1.5532, -2.6319, -2.9047, -2.8137, -3.2779, -1.4607, -2.3386, -3.3630,\n",
            "         -1.7648, -3.5182],\n",
            "        [-1.3993, -2.6434, -2.8793, -2.7510, -2.7546, -1.8990, -2.3637, -3.1538,\n",
            "         -1.7207, -3.4110],\n",
            "        [-1.8828, -2.8076, -3.1309, -2.3958, -2.7886, -1.8672, -1.9037, -3.4233,\n",
            "         -1.4696, -3.6884],\n",
            "        [-1.7610, -2.2806, -2.4758, -2.8150, -2.9835, -2.3738, -2.3619, -2.8611,\n",
            "         -1.3613, -3.4935],\n",
            "        [-1.5745, -2.2210, -2.9982, -2.6158, -2.7211, -2.4475, -2.1235, -2.6215,\n",
            "         -1.8010, -2.9632],\n",
            "        [-2.1544, -2.3051, -2.5536, -2.8460, -2.2723, -1.8732, -1.8980, -2.9408,\n",
            "         -1.9302, -3.1261],\n",
            "        [-2.4576, -2.5351, -2.5971, -3.2330, -2.9527, -1.9540, -1.2331, -2.5711,\n",
            "         -2.2936, -2.8385],\n",
            "        [-1.4550, -2.1457, -2.7577, -2.9134, -2.4900, -2.2263, -2.3338, -2.9771,\n",
            "         -1.8050, -3.5509],\n",
            "        [-1.9581, -2.5604, -2.6911, -2.5220, -2.5148, -1.5744, -2.4497, -3.0837,\n",
            "         -1.7666, -3.1594],\n",
            "        [-1.8710, -2.4351, -2.4950, -2.7766, -2.4315, -1.9471, -2.3416, -3.3219,\n",
            "         -1.5461, -3.2766],\n",
            "        [-1.3167, -2.1922, -2.9358, -3.3384, -2.8511, -2.6436, -1.9581, -3.0533,\n",
            "         -1.6776, -3.5868],\n",
            "        [-1.7007, -2.5217, -2.6686, -2.3669, -2.2975, -1.9601, -2.2970, -3.0563,\n",
            "         -1.8760, -3.4480],\n",
            "        [-1.7552, -1.9877, -2.4297, -2.6681, -2.8452, -2.1449, -2.2096, -2.8635,\n",
            "         -1.8497, -3.4004],\n",
            "        [-1.7549, -2.3977, -2.7730, -2.7191, -2.9905, -2.2850, -1.9239, -3.0544,\n",
            "         -1.4597, -3.4993],\n",
            "        [-1.1543, -2.1179, -2.7863, -3.2008, -2.4252, -2.7880, -2.8739, -2.9441,\n",
            "         -1.7219, -3.7216],\n",
            "        [-1.4834, -2.3057, -3.2914, -3.2037, -3.1171, -2.4350, -1.5434, -2.6417,\n",
            "         -1.9271, -3.4028],\n",
            "        [-1.9615, -2.7765, -2.6155, -2.6225, -2.6735, -2.5250, -2.0262, -3.3258,\n",
            "         -1.1910, -3.4874],\n",
            "        [-1.9409, -2.6210, -2.5225, -2.5268, -2.5347, -1.8196, -2.1098, -3.0955,\n",
            "         -1.7804, -3.0559],\n",
            "        [-1.6293, -2.6281, -2.9771, -2.7587, -2.9083, -1.6518, -2.0234, -2.9486,\n",
            "         -1.8652, -3.4532],\n",
            "        [-1.2750, -1.9939, -2.7337, -3.2101, -2.5023, -3.2155, -2.3389, -3.4027,\n",
            "         -1.5854, -3.7956],\n",
            "        [-1.8897, -2.4109, -2.4194, -3.0727, -2.7892, -1.8201, -1.8980, -2.7603,\n",
            "         -1.8897, -3.3199],\n",
            "        [-1.4635, -2.1291, -2.7593, -3.0401, -2.8274, -2.5428, -2.0876, -3.1267,\n",
            "         -1.6049, -3.4450],\n",
            "        [-1.9917, -2.5929, -2.5652, -2.4100, -2.4576, -1.8473, -2.2815, -2.9814,\n",
            "         -1.7117, -3.0944],\n",
            "        [-1.5277, -2.4696, -2.7383, -2.4647, -3.0753, -2.3608, -2.3073, -3.2429,\n",
            "         -1.4149, -3.6273],\n",
            "        [-1.9609, -2.5024, -2.2652, -2.6095, -2.6739, -2.1182, -2.3110, -2.4485,\n",
            "         -1.6793, -3.2528],\n",
            "        [-1.7411, -2.4948, -2.8863, -2.4676, -2.2798, -2.2156, -2.0051, -3.1478,\n",
            "         -1.6670, -3.7383],\n",
            "        [-1.4985, -2.1877, -2.6638, -3.1652, -2.6771, -2.4000, -2.2320, -3.3351,\n",
            "         -1.5397, -3.3345],\n",
            "        [-1.4344, -2.0525, -2.4745, -2.9337, -3.2922, -2.5487, -1.9963, -2.9529,\n",
            "         -1.9327, -3.0417],\n",
            "        [-1.1028, -2.6652, -3.0248, -2.5567, -3.1771, -2.4399, -2.1671, -2.8313,\n",
            "         -1.8862, -3.9967],\n",
            "        [-2.0367, -2.5404, -2.4200, -2.4542, -2.4055, -1.8053, -2.2374, -2.8932,\n",
            "         -1.8432, -3.1998],\n",
            "        [-1.7188, -2.8241, -2.7685, -2.5967, -2.9610, -2.1662, -1.7794, -2.4892,\n",
            "         -1.7462, -3.4568],\n",
            "        [-1.9135, -2.0074, -2.7140, -2.2954, -2.8196, -2.4103, -2.2985, -2.9592,\n",
            "         -1.5231, -3.4613],\n",
            "        [-2.3661, -3.0314, -3.0406, -2.2655, -3.1413, -1.8823, -1.7762, -3.1914,\n",
            "         -1.2794, -3.8054],\n",
            "        [-1.3030, -2.1414, -2.9501, -2.9065, -3.0870, -2.3654, -2.3777, -3.0322,\n",
            "         -1.6052, -3.7979],\n",
            "        [-1.8099, -2.6116, -2.5574, -2.3854, -2.3874, -1.9780, -2.1794, -3.0843,\n",
            "         -1.7892, -3.2923],\n",
            "        [-2.1577, -2.4940, -2.3661, -3.0330, -2.8777, -2.2653, -1.2162, -2.9579,\n",
            "         -2.2563, -3.0634]], grad_fn=<LogSoftmaxBackward>)\n",
            "tensor([0, 6, 7, 8, 8, 0, 0, 3, 7, 6, 7, 8, 8, 5, 1, 7, 9, 5, 1, 8, 1, 9, 9, 4,\n",
            "        5, 0, 8, 9, 7, 1, 3, 0, 6, 7, 2, 2, 1, 9, 0, 4, 3, 0, 0, 5, 3, 1, 5, 8,\n",
            "        7, 9, 1, 8, 1, 4, 0, 2, 4, 1, 2, 2, 3, 0, 4, 7])\n",
            "Training loss after 1 epochs: 0.000000\n",
            "tensor([[-1., -1., -1.,  ..., -1., -1., -1.],\n",
            "        [-1., -1., -1.,  ..., -1., -1., -1.],\n",
            "        [-1., -1., -1.,  ..., -1., -1., -1.],\n",
            "        ...,\n",
            "        [-1., -1., -1.,  ..., -1., -1., -1.],\n",
            "        [-1., -1., -1.,  ..., -1., -1., -1.],\n",
            "        [-1., -1., -1.,  ..., -1., -1., -1.]])\n",
            "tensor([[-1.2402, -2.7891, -3.1356, -2.9442, -2.8086, -1.9035, -2.0923, -3.1647,\n",
            "         -1.8779, -3.6805],\n",
            "        [-1.8628, -2.8009, -2.9213, -2.3352, -3.0351, -1.9188, -1.6788, -2.3079,\n",
            "         -2.0910, -3.5446],\n",
            "        [-1.2303, -2.5496, -2.5860, -2.7555, -2.9509, -2.2795, -2.8660, -3.4725,\n",
            "         -1.4736, -3.9581],\n",
            "        [-1.7601, -2.5697, -2.6846, -2.9976, -2.6927, -2.1421, -1.8189, -2.7926,\n",
            "         -1.6144, -3.6618],\n",
            "        [-1.7193, -2.4258, -2.6272, -2.5480, -2.9996, -2.0479, -2.3110, -2.7863,\n",
            "         -1.5585, -3.4483],\n",
            "        [-1.0451, -3.0037, -3.3525, -2.4804, -2.9441, -2.1329, -2.5485, -2.4397,\n",
            "         -2.0903, -3.9199],\n",
            "        [-1.8083, -2.4631, -2.9446, -2.4781, -2.7833, -1.7055, -1.9201, -2.6481,\n",
            "         -2.1940, -3.1697],\n",
            "        [-1.8664, -2.5700, -2.5335, -2.4585, -2.5760, -1.8211, -2.1827, -3.0479,\n",
            "         -1.8057, -3.1854],\n",
            "        [-2.4584, -2.6768, -2.6172, -3.1508, -3.4868, -1.8924, -1.0843, -2.9990,\n",
            "         -2.1592, -3.0985],\n",
            "        [-1.9776, -2.6591, -2.3295, -2.6778, -2.5973, -1.9015, -2.1156, -2.5917,\n",
            "         -1.8432, -3.0376],\n",
            "        [-1.5901, -2.3085, -2.9314, -3.1115, -2.6356, -2.0927, -1.8839, -3.0485,\n",
            "         -1.8224, -3.1530],\n",
            "        [-1.5849, -2.6177, -2.6842, -2.9427, -2.9549, -2.3833, -1.9840, -2.8258,\n",
            "         -1.5088, -3.2500],\n",
            "        [-1.9713, -2.9318, -2.5820, -2.8198, -3.0344, -1.6030, -1.7426, -2.8725,\n",
            "         -1.7937, -3.6959],\n",
            "        [-1.5741, -2.5228, -2.7926, -2.4960, -2.3853, -1.9453, -2.7960, -2.6021,\n",
            "         -1.7972, -3.4130],\n",
            "        [-1.7773, -2.2103, -2.4737, -2.8459, -2.6760, -2.2123, -2.2969, -2.5781,\n",
            "         -1.7299, -3.0620],\n",
            "        [-1.6902, -2.3801, -2.6169, -2.6288, -2.7323, -2.1023, -1.9905, -3.1848,\n",
            "         -1.6702, -3.7175],\n",
            "        [-2.3154, -2.3220, -2.8362, -2.8077, -2.4488, -1.3939, -2.2705, -2.8703,\n",
            "         -1.8644, -3.3591],\n",
            "        [-1.4280, -2.4185, -2.5988, -2.7723, -3.1202, -2.3475, -2.3258, -3.2694,\n",
            "         -1.5223, -3.2051],\n",
            "        [-1.2515, -2.0617, -3.0828, -3.0734, -2.9042, -2.8103, -1.9540, -2.9598,\n",
            "         -1.8249, -3.6952],\n",
            "        [-1.2690, -2.5549, -2.5351, -2.8505, -2.7628, -3.0236, -2.8070, -2.7526,\n",
            "         -1.4503, -3.3887],\n",
            "        [-1.4144, -2.4381, -2.7141, -2.6889, -2.5643, -2.5173, -1.9406, -3.0531,\n",
            "         -1.8454, -3.5425],\n",
            "        [-2.1564, -2.4458, -2.7579, -2.6420, -2.4200, -1.7085, -1.8963, -2.8624,\n",
            "         -1.9674, -3.0828],\n",
            "        [-1.3872, -2.3704, -2.6860, -2.7044, -2.6670, -2.1889, -2.7147, -2.9774,\n",
            "         -1.6251, -3.6425],\n",
            "        [-1.4897, -2.5307, -2.3872, -2.6720, -3.3668, -2.1607, -2.0509, -2.7463,\n",
            "         -1.8112, -3.5764],\n",
            "        [-1.7824, -2.4716, -2.6410, -2.6787, -3.0462, -2.5075, -1.6096, -2.5351,\n",
            "         -1.8777, -3.0745],\n",
            "        [-1.5389, -2.3639, -2.6864, -2.9318, -2.9731, -2.4479, -1.8280, -2.9793,\n",
            "         -1.7269, -3.1495],\n",
            "        [-1.5431, -3.0298, -3.0908, -2.6887, -3.0389, -2.3612, -2.1692, -2.7616,\n",
            "         -1.2580, -3.8796],\n",
            "        [-2.1431, -2.7158, -3.2750, -2.9974, -2.8235, -1.2793, -1.9289, -3.2284,\n",
            "         -1.7361, -3.5046],\n",
            "        [-2.6521, -2.5035, -3.0659, -2.6172, -3.3350, -1.2001, -1.8060, -3.1798,\n",
            "         -1.8340, -3.6635],\n",
            "        [-1.8441, -2.8715, -2.5829, -2.7188, -2.9168, -1.6550, -1.8885, -2.8510,\n",
            "         -1.8658, -3.3618],\n",
            "        [-1.5959, -2.4428, -3.2631, -2.7522, -2.6938, -2.1158, -2.0748, -2.8465,\n",
            "         -1.5667, -3.5830],\n",
            "        [-1.7243, -2.4279, -2.6851, -2.3527, -2.7694, -1.7297, -2.1347, -2.8127,\n",
            "         -2.0436, -3.8066],\n",
            "        [-1.6169, -2.1470, -2.6118, -2.6824, -3.1012, -2.6453, -2.0707, -2.6606,\n",
            "         -1.6562, -3.2186],\n",
            "        [-1.6293, -1.9919, -2.4700, -2.7441, -3.2164, -3.2845, -1.8319, -2.4788,\n",
            "         -1.8766, -3.1234],\n",
            "        [-1.7168, -2.4839, -2.7159, -2.7814, -2.8248, -1.8489, -2.2972, -2.6274,\n",
            "         -1.7522, -3.0812],\n",
            "        [-1.4937, -2.5326, -2.8869, -2.7164, -3.0411, -1.8526, -2.1765, -3.0826,\n",
            "         -1.6907, -3.6549],\n",
            "        [-1.0286, -1.8305, -2.7267, -2.6249, -3.0407, -2.7063, -2.6212, -3.0474,\n",
            "         -2.4511, -3.7587],\n",
            "        [-1.7817, -2.3933, -2.2672, -2.0056, -2.4649, -2.5283, -2.5017, -3.0320,\n",
            "         -1.9183, -2.8084],\n",
            "        [-1.6918, -2.5532, -2.4759, -2.5634, -2.9845, -2.4113, -1.7615, -2.9303,\n",
            "         -1.6999, -3.5500],\n",
            "        [-1.3970, -2.9027, -3.0109, -2.7588, -2.8065, -1.8040, -2.3524, -3.1825,\n",
            "         -1.5963, -3.8702],\n",
            "        [-1.6555, -2.1607, -2.6563, -3.3828, -2.9172, -2.3626, -2.0310, -3.3336,\n",
            "         -1.4200, -3.4188],\n",
            "        [-1.5099, -2.5381, -2.7717, -3.0232, -2.8067, -2.3978, -2.1205, -3.1659,\n",
            "         -1.4061, -3.4973],\n",
            "        [-1.9179, -2.5749, -2.8861, -3.0558, -2.4741, -1.5930, -2.1365, -2.6145,\n",
            "         -1.8650, -3.2106],\n",
            "        [-2.0844, -2.3211, -2.2727, -2.7550, -2.7497, -1.9680, -2.4604, -2.5216,\n",
            "         -1.5676, -3.4156],\n",
            "        [-2.2098, -2.6888, -2.5945, -2.8728, -3.2586, -1.8139, -1.7113, -3.3439,\n",
            "         -1.3920, -3.6845],\n",
            "        [-1.3857, -2.5273, -3.2456, -2.4909, -2.6904, -1.9170, -2.5426, -3.0647,\n",
            "         -1.7380, -3.4396],\n",
            "        [-1.6459, -2.2735, -2.5767, -2.5416, -2.4410, -2.2542, -2.2328, -2.8750,\n",
            "         -1.9195, -3.0558],\n",
            "        [-2.0714, -2.6400, -2.3626, -2.6288, -2.6452, -1.7831, -2.0857, -2.4950,\n",
            "         -1.8886, -3.2397],\n",
            "        [-1.3840, -2.7658, -2.7817, -2.7973, -2.8232, -2.2847, -2.3372, -3.0471,\n",
            "         -1.4564, -3.6800],\n",
            "        [-1.1315, -2.1259, -2.5640, -3.2176, -2.9574, -2.7644, -2.3175, -3.2916,\n",
            "         -1.8626, -3.3492],\n",
            "        [-1.3914, -2.3720, -3.0861, -2.8268, -3.0865, -2.1053, -2.3101, -3.1091,\n",
            "         -1.5592, -3.4601],\n",
            "        [-1.6587, -2.6683, -2.5356, -2.6945, -2.7800, -2.2377, -2.8492, -2.8729,\n",
            "         -1.3117, -3.1961],\n",
            "        [-1.9834, -2.6582, -2.4707, -2.8580, -3.2847, -2.3048, -1.9131, -3.5409,\n",
            "         -1.1873, -3.4566],\n",
            "        [-1.6881, -2.4920, -2.5813, -3.3207, -2.9062, -2.2076, -2.3462, -3.3356,\n",
            "         -1.2291, -3.4405],\n",
            "        [-2.0270, -2.4005, -2.3664, -2.5335, -2.8091, -2.2113, -2.0363, -2.1789,\n",
            "         -1.8541, -3.3723],\n",
            "        [-1.6447, -2.2736, -2.6204, -3.3205, -2.8346, -2.6662, -2.4737, -3.1246,\n",
            "         -1.2105, -3.2052],\n",
            "        [-1.3788, -2.7475, -3.5349, -2.6025, -3.3590, -2.1307, -1.9335, -1.8416,\n",
            "         -2.2501, -3.9809],\n",
            "        [-1.9119, -2.8902, -2.5057, -2.6544, -2.7944, -1.3802, -2.0141, -3.3179,\n",
            "         -2.0733, -3.3089],\n",
            "        [-1.6226, -2.6679, -2.6282, -3.0649, -3.2998, -2.0860, -1.6266, -3.4274,\n",
            "         -1.6241, -3.6076],\n",
            "        [-1.9826, -2.5362, -2.4075, -2.4640, -2.4173, -1.9349, -2.1758, -2.8794,\n",
            "         -1.8282, -3.1234],\n",
            "        [-2.0160, -2.7897, -2.5170, -2.6535, -2.8492, -1.9325, -2.2702, -2.7282,\n",
            "         -1.3629, -3.6090],\n",
            "        [-1.9758, -2.4822, -2.8875, -2.5965, -2.5563, -1.3839, -2.4013, -3.0611,\n",
            "         -1.8818, -3.5204],\n",
            "        [-1.4534, -2.2142, -2.9405, -2.8408, -2.6535, -2.4611, -2.0822, -2.1508,\n",
            "         -2.1554, -3.4075],\n",
            "        [-1.5782, -2.4298, -2.8117, -2.5921, -2.8788, -2.1396, -2.1554, -3.0484,\n",
            "         -1.6789, -3.0604]], grad_fn=<LogSoftmaxBackward>)\n",
            "tensor([4, 8, 4, 3, 2, 9, 6, 1, 2, 8, 5, 7, 7, 5, 8, 4, 3, 2, 0, 8, 3, 1, 8, 3,\n",
            "        7, 9, 8, 7, 3, 7, 9, 7, 2, 2, 5, 4, 6, 2, 0, 9, 9, 0, 9, 1, 3, 4, 8, 1,\n",
            "        4, 0, 0, 8, 5, 0, 3, 0, 8, 7, 5, 1, 3, 3, 8, 6])\n",
            "Training loss after 2 epochs: 0.000000\n",
            "tensor([[-1., -1., -1.,  ..., -1., -1., -1.],\n",
            "        [-1., -1., -1.,  ..., -1., -1., -1.],\n",
            "        [-1., -1., -1.,  ..., -1., -1., -1.],\n",
            "        ...,\n",
            "        [-1., -1., -1.,  ..., -1., -1., -1.],\n",
            "        [-1., -1., -1.,  ..., -1., -1., -1.],\n",
            "        [-1., -1., -1.,  ..., -1., -1., -1.]])\n",
            "tensor([[-1.3939, -2.7283, -3.0014, -2.8922, -2.7915, -2.5372, -1.9244, -3.0546,\n",
            "         -1.5611, -3.2711],\n",
            "        [-1.5248, -2.3603, -2.6552, -3.1665, -2.7105, -2.6643, -2.0734, -3.3877,\n",
            "         -1.3925, -3.4617],\n",
            "        [-1.5577, -2.2688, -2.3663, -3.7153, -2.6272, -2.5771, -2.3128, -3.4957,\n",
            "         -1.3586, -3.4059],\n",
            "        [-1.1126, -2.7084, -2.5609, -2.7374, -2.8664, -2.2057, -2.6700, -3.7470,\n",
            "         -1.7108, -3.8148],\n",
            "        [-1.7692, -2.3815, -2.8477, -2.9470, -2.6999, -1.9117, -2.3093, -2.7157,\n",
            "         -1.5229, -3.5746],\n",
            "        [-1.1785, -1.9890, -2.5894, -2.9134, -3.1327, -3.3068, -2.3470, -2.8366,\n",
            "         -1.8181, -3.5332],\n",
            "        [-1.3217, -2.8079, -2.9071, -2.4758, -2.6041, -2.4670, -2.3677, -3.2701,\n",
            "         -1.5230, -3.6625],\n",
            "        [-2.3726, -2.4647, -2.4037, -3.4679, -2.8889, -1.9238, -1.8285, -3.4006,\n",
            "         -1.3385, -3.1645],\n",
            "        [-1.5198, -2.3999, -2.8970, -2.5380, -3.2721, -2.1443, -2.0465, -2.4080,\n",
            "         -1.8112, -3.9851],\n",
            "        [-1.4889, -2.3822, -3.0388, -3.0590, -2.9233, -2.3882, -1.6593, -3.3234,\n",
            "         -1.6321, -3.9206],\n",
            "        [-1.9338, -2.4505, -3.0763, -2.9146, -2.9347, -1.4903, -1.8523, -3.1418,\n",
            "         -1.9056, -3.1813],\n",
            "        [-1.6705, -1.9375, -2.4289, -2.3767, -2.6715, -2.3494, -2.2190, -2.5237,\n",
            "         -2.5027, -2.9667],\n",
            "        [-2.2312, -2.5686, -2.4388, -2.7348, -2.5261, -1.5384, -2.2876, -2.8301,\n",
            "         -1.7650, -3.2865],\n",
            "        [-1.3132, -2.5670, -3.0369, -2.8423, -2.9353, -1.6885, -2.4041, -3.0639,\n",
            "         -1.9638, -3.4199],\n",
            "        [-1.8015, -2.4997, -2.4808, -2.8721, -2.7394, -1.9695, -2.2644, -2.8601,\n",
            "         -1.5585, -3.3016],\n",
            "        [-1.5172, -2.1768, -2.8363, -3.0710, -3.1566, -2.4334, -2.3135, -3.0175,\n",
            "         -1.3739, -3.4741],\n",
            "        [-1.5465, -2.9788, -2.6958, -2.7925, -2.9330, -1.9764, -2.2792, -2.9072,\n",
            "         -1.4629, -3.6107],\n",
            "        [-1.2610, -2.6941, -3.0273, -2.8346, -2.9971, -2.3274, -2.0554, -2.3473,\n",
            "         -1.9775, -3.4334],\n",
            "        [-1.9054, -2.7396, -2.7601, -2.5645, -2.8165, -1.5299, -2.4282, -2.9324,\n",
            "         -1.6294, -3.4263],\n",
            "        [-1.5093, -2.5022, -2.5014, -3.2187, -2.8168, -2.7228, -2.0285, -2.8302,\n",
            "         -1.4847, -3.4268],\n",
            "        [-1.5770, -2.6542, -2.6609, -2.9116, -3.1466, -2.1352, -1.9390, -3.1386,\n",
            "         -1.5815, -3.1074],\n",
            "        [-1.2476, -2.9371, -2.9362, -2.4180, -2.9217, -2.3428, -2.0573, -3.2360,\n",
            "         -1.6855, -4.1843],\n",
            "        [-1.2601, -1.7852, -2.7011, -3.2826, -2.6227, -2.5141, -3.0407, -2.9236,\n",
            "         -1.8731, -3.3462],\n",
            "        [-1.6349, -2.6942, -2.7184, -2.7010, -2.7016, -2.2669, -2.0670, -3.1171,\n",
            "         -1.4867, -3.3074],\n",
            "        [-1.6306, -2.5584, -2.6357, -2.7616, -3.1337, -1.8743, -2.2484, -2.8317,\n",
            "         -1.6074, -3.5066],\n",
            "        [-1.5209, -2.7593, -2.5815, -2.7785, -2.6441, -2.3209, -1.9646, -3.0350,\n",
            "         -1.6792, -3.3166],\n",
            "        [-1.2269, -2.5959, -2.6218, -3.0449, -2.6596, -2.6111, -2.2839, -3.0444,\n",
            "         -1.7140, -3.2476],\n",
            "        [-1.8149, -2.2494, -2.3770, -2.5880, -2.9453, -2.1549, -1.9747, -2.4722,\n",
            "         -2.1153, -2.9685],\n",
            "        [-1.6295, -2.4886, -2.4209, -2.8176, -2.6949, -2.3485, -2.5896, -2.2711,\n",
            "         -1.6116, -3.4589],\n",
            "        [-1.7113, -1.6506, -2.4699, -2.7881, -3.0458, -2.3036, -2.6334, -2.9860,\n",
            "         -1.7596, -3.2336],\n",
            "        [-1.7733, -2.3298, -2.5836, -2.5965, -2.5252, -2.0907, -2.1481, -2.9301,\n",
            "         -1.7752, -3.2268],\n",
            "        [-1.3658, -2.4867, -2.6987, -2.5885, -3.1552, -2.3840, -2.2584, -2.2881,\n",
            "         -1.8953, -3.5701],\n",
            "        [-1.3516, -2.1496, -3.0292, -2.8656, -2.9511, -2.2808, -1.8723, -3.1896,\n",
            "         -1.9465, -3.6074],\n",
            "        [-1.3235, -2.5956, -2.7330, -2.8221, -2.3860, -2.0840, -2.1028, -2.9847,\n",
            "         -2.1790, -3.4284],\n",
            "        [-2.0175, -2.5608, -2.3293, -2.7648, -2.7322, -1.7544, -2.1692, -2.6017,\n",
            "         -1.8484, -3.0915],\n",
            "        [-1.6803, -2.6448, -3.1673, -2.5150, -2.8638, -1.7754, -2.3474, -2.3742,\n",
            "         -1.7176, -3.6889],\n",
            "        [-1.5307, -2.9636, -2.9715, -2.8955, -2.5729, -2.2842, -1.8348, -3.2232,\n",
            "         -1.5425, -3.3809],\n",
            "        [-1.9788, -2.5856, -2.7549, -2.6840, -2.6736, -1.6265, -2.1536, -2.9212,\n",
            "         -1.6869, -3.3854],\n",
            "        [-1.4545, -2.2795, -3.3123, -2.7293, -2.5222, -1.7734, -2.4007, -3.3671,\n",
            "         -1.8230, -3.6605],\n",
            "        [-1.2315, -3.0628, -2.9044, -2.8676, -2.9914, -2.1418, -2.4931, -2.8354,\n",
            "         -1.5197, -3.8164],\n",
            "        [-1.8394, -2.2751, -2.7220, -2.5732, -2.4076, -1.9176, -2.0054, -3.3288,\n",
            "         -1.7837, -3.8720],\n",
            "        [-1.5134, -2.5414, -2.8784, -2.7780, -3.0242, -1.7288, -2.4222, -2.8300,\n",
            "         -1.6765, -3.8236],\n",
            "        [-1.6681, -2.6322, -2.7382, -2.5430, -2.5707, -1.9567, -2.0173, -3.0130,\n",
            "         -1.8741, -3.1540],\n",
            "        [-1.5793, -2.4014, -2.6055, -2.6824, -2.3904, -2.3612, -2.8780, -2.2411,\n",
            "         -1.7501, -3.2497],\n",
            "        [-1.9007, -2.7246, -2.7637, -2.9969, -2.8276, -2.5185, -1.2891, -3.0521,\n",
            "         -1.7976, -3.1295],\n",
            "        [-1.7932, -2.4694, -3.2013, -2.7490, -2.9060, -1.7959, -2.0306, -2.9164,\n",
            "         -1.5475, -3.6731],\n",
            "        [-1.5069, -2.2117, -2.9317, -2.6624, -3.1701, -2.3914, -2.0874, -2.5343,\n",
            "         -1.6896, -3.7143],\n",
            "        [-2.1230, -2.6796, -2.3345, -2.6984, -2.7635, -1.6399, -2.1468, -2.6955,\n",
            "         -1.7986, -3.2042],\n",
            "        [-1.6983, -2.7449, -3.0101, -2.5087, -2.7851, -2.1127, -1.8730, -2.7706,\n",
            "         -1.6194, -3.6831],\n",
            "        [-1.9114, -2.3103, -2.4748, -3.0180, -3.1405, -2.0163, -1.6377, -2.7135,\n",
            "         -2.0248, -2.9827],\n",
            "        [-1.4343, -2.1716, -2.3651, -3.1593, -2.6538, -2.5473, -2.6220, -3.2532,\n",
            "         -1.5932, -3.0347],\n",
            "        [-1.8833, -2.6708, -2.9234, -2.6901, -2.9414, -1.4465, -2.4368, -2.9549,\n",
            "         -1.6377, -3.3542],\n",
            "        [-1.6555, -2.1631, -2.2577, -3.1188, -3.1296, -2.5337, -1.8436, -2.8440,\n",
            "         -1.7735, -3.3254],\n",
            "        [-1.1213, -2.8455, -3.3482, -2.3979, -2.9531, -2.5311, -2.4277, -3.0293,\n",
            "         -1.5786, -4.1738],\n",
            "        [-2.1567, -2.5927, -2.7585, -2.5755, -3.1749, -2.0759, -1.4696, -2.8357,\n",
            "         -1.8151, -2.9717],\n",
            "        [-1.9998, -2.3778, -2.2820, -2.9717, -2.8445, -2.1652, -1.5760, -2.5572,\n",
            "         -2.2279, -2.9255],\n",
            "        [-1.3387, -2.4371, -2.3286, -2.7567, -2.5829, -2.7972, -2.4705, -2.5715,\n",
            "         -2.0667, -2.7278],\n",
            "        [-2.0978, -2.6042, -2.6900, -2.3680, -3.0659, -2.2769, -2.0361, -2.4249,\n",
            "         -1.3902, -3.7086],\n",
            "        [-1.9355, -3.1495, -2.9966, -3.1461, -3.0565, -1.7053, -1.5073, -3.3339,\n",
            "         -1.6116, -3.3727],\n",
            "        [-1.8107, -2.9293, -2.7544, -2.5144, -2.9912, -2.2140, -1.4829, -3.0887,\n",
            "         -1.7331, -3.5163],\n",
            "        [-1.2078, -2.8402, -2.7167, -2.6816, -3.1507, -2.3050, -2.5092, -3.4554,\n",
            "         -1.4728, -3.7546],\n",
            "        [-1.0999, -2.9639, -2.5067, -3.3339, -2.7991, -2.7475, -2.4942, -2.8179,\n",
            "         -1.6046, -3.5043],\n",
            "        [-1.5503, -2.5983, -2.8746, -2.5971, -2.4226, -2.0376, -1.8850, -3.3315,\n",
            "         -1.9402, -3.4355],\n",
            "        [-1.1658, -2.7301, -3.4197, -2.6744, -3.2643, -2.4972, -2.1119, -3.5118,\n",
            "         -1.4610, -4.0138]], grad_fn=<LogSoftmaxBackward>)\n",
            "tensor([4, 5, 0, 9, 8, 0, 9, 5, 8, 0, 9, 2, 1, 1, 8, 0, 9, 8, 6, 8, 7, 9, 0, 4,\n",
            "        9, 4, 0, 7, 6, 3, 2, 4, 0, 4, 1, 8, 4, 1, 5, 5, 9, 6, 1, 5, 2, 3, 8, 1,\n",
            "        9, 7, 0, 3, 7, 9, 7, 7, 2, 8, 3, 3, 4, 5, 4, 9])\n",
            "Training loss after 3 epochs: 0.000000\n",
            "tensor([[-1., -1., -1.,  ..., -1., -1., -1.],\n",
            "        [-1., -1., -1.,  ..., -1., -1., -1.],\n",
            "        [-1., -1., -1.,  ..., -1., -1., -1.],\n",
            "        ...,\n",
            "        [-1., -1., -1.,  ..., -1., -1., -1.],\n",
            "        [-1., -1., -1.,  ..., -1., -1., -1.],\n",
            "        [-1., -1., -1.,  ..., -1., -1., -1.]])\n",
            "tensor([[-1.3704, -2.8884, -2.8983, -2.5631, -3.1212, -2.2030, -2.7018, -2.7179,\n",
            "         -1.3807, -3.9590],\n",
            "        [-2.0895, -2.6171, -2.4629, -2.8558, -3.0222, -1.3039, -2.2273, -2.9882,\n",
            "         -1.9132, -3.3644],\n",
            "        [-2.1446, -2.8080, -1.9875, -2.9324, -3.0510, -2.4008, -2.0815, -2.4318,\n",
            "         -1.4100, -3.2829],\n",
            "        [-1.6362, -2.4999, -3.2395, -2.6950, -2.9349, -1.7839, -1.9736, -2.6894,\n",
            "         -1.8142, -3.6688],\n",
            "        [-1.8369, -2.2858, -2.2702, -2.8961, -2.4550, -2.7501, -2.5340, -3.4497,\n",
            "         -1.2745, -3.2185],\n",
            "        [-1.9651, -2.4658, -2.4880, -2.5929, -2.6427, -2.1564, -1.9091, -3.5077,\n",
            "         -1.4769, -3.7469],\n",
            "        [-1.6691, -2.4035, -2.6127, -2.5812, -2.6946, -2.6402, -2.1872, -3.3870,\n",
            "         -1.3580, -3.5051],\n",
            "        [-1.7756, -2.1140, -2.5568, -2.8859, -3.1532, -2.1846, -1.7647, -2.8494,\n",
            "         -1.8624, -3.3006],\n",
            "        [-2.0246, -2.5715, -2.6320, -2.8769, -2.4857, -1.6779, -2.0203, -3.3977,\n",
            "         -1.6823, -3.1884],\n",
            "        [-1.5426, -2.3024, -2.1208, -2.7962, -3.2161, -2.8228, -1.6915, -2.6839,\n",
            "         -2.1528, -3.2990],\n",
            "        [-2.2520, -2.2915, -2.7075, -2.5966, -3.1305, -2.4897, -1.4213, -2.4759,\n",
            "         -1.7330, -3.7464],\n",
            "        [-1.6466, -2.4900, -2.9826, -2.4657, -3.0632, -1.9324, -1.5806, -2.6588,\n",
            "         -2.5499, -3.1404],\n",
            "        [-0.9779, -2.4445, -2.9772, -2.7182, -3.5732, -2.5347, -2.5382, -2.5148,\n",
            "         -1.9920, -4.1015],\n",
            "        [-1.7951, -2.5022, -2.7362, -2.5729, -3.0829, -1.7495, -2.0703, -2.7691,\n",
            "         -1.7433, -3.5983],\n",
            "        [-1.3353, -2.5185, -2.4465, -3.0597, -3.2848, -2.5014, -2.0244, -3.0195,\n",
            "         -1.7177, -3.1456],\n",
            "        [-1.7790, -2.6316, -2.4068, -2.7499, -2.4962, -2.1564, -1.9009, -2.7950,\n",
            "         -1.8021, -3.4560],\n",
            "        [-2.0582, -2.7200, -2.5385, -2.6193, -2.8333, -1.6747, -1.8850, -2.4290,\n",
            "         -2.0137, -3.3528],\n",
            "        [-1.3700, -2.3854, -2.5648, -2.8097, -2.6023, -2.7765, -2.5657, -2.4241,\n",
            "         -1.7781, -3.0805],\n",
            "        [-1.6679, -2.8557, -2.5089, -2.5179, -2.9721, -1.3978, -2.4527, -3.0808,\n",
            "         -2.0451, -3.4369],\n",
            "        [-1.8186, -2.1091, -2.4293, -2.7402, -2.2880, -2.2652, -2.3690, -2.6084,\n",
            "         -1.8461, -3.3994],\n",
            "        [-1.2835, -2.1170, -2.2098, -3.0106, -2.8030, -2.8860, -2.4767, -2.9278,\n",
            "         -1.8391, -3.4856],\n",
            "        [-1.4662, -2.5297, -2.8967, -2.8224, -3.0397, -1.9447, -2.2390, -2.7171,\n",
            "         -1.7041, -3.5268],\n",
            "        [-1.4615, -2.6324, -3.2593, -2.5182, -2.8370, -1.8132, -2.1116, -2.8635,\n",
            "         -1.8881, -3.6508],\n",
            "        [-1.4945, -2.8284, -2.5932, -2.6517, -3.3191, -1.7943, -2.2714, -3.0270,\n",
            "         -1.6364, -3.7952],\n",
            "        [-1.4631, -2.6411, -3.1826, -2.5171, -2.7147, -1.9582, -1.6616, -2.7767,\n",
            "         -2.4286, -3.5961],\n",
            "        [-1.5503, -2.5983, -2.8746, -2.5971, -2.4226, -2.0376, -1.8850, -3.3315,\n",
            "         -1.9402, -3.4355],\n",
            "        [-1.9956, -2.1827, -2.8684, -2.9707, -3.0125, -2.3656, -1.8884, -3.0589,\n",
            "         -1.3259, -3.3130],\n",
            "        [-1.5267, -2.4356, -3.0396, -3.1783, -2.1693, -3.1567, -2.5169, -3.0916,\n",
            "         -1.2347, -3.4481],\n",
            "        [-2.0695, -2.4203, -2.4404, -2.6252, -2.5570, -1.9565, -1.9675, -3.1204,\n",
            "         -1.7980, -2.8674],\n",
            "        [-1.5791, -2.0833, -2.5432, -2.8794, -2.6879, -3.1298, -2.6226, -3.4118,\n",
            "         -1.2462, -3.5204],\n",
            "        [-1.7619, -2.0745, -2.7165, -2.6388, -2.7058, -2.3887, -2.4909, -2.6021,\n",
            "         -1.5446, -3.3186],\n",
            "        [-1.7676, -2.5787, -2.4286, -2.5683, -2.5274, -2.2988, -2.1603, -2.7237,\n",
            "         -1.7674, -2.8712],\n",
            "        [-1.6298, -2.9544, -3.0261, -2.5862, -2.9595, -1.7960, -2.0350, -1.9746,\n",
            "         -2.2117, -3.4645],\n",
            "        [-1.4829, -1.9106, -2.5338, -3.1063, -2.5521, -2.4746, -2.6583, -3.0498,\n",
            "         -1.8472, -2.7539],\n",
            "        [-2.0967, -2.4855, -2.1717, -2.8871, -2.7359, -1.7389, -2.4975, -2.6891,\n",
            "         -1.6533, -3.1712],\n",
            "        [-1.5600, -2.4532, -2.9671, -2.6297, -2.9674, -1.9564, -2.1856, -2.8846,\n",
            "         -1.6586, -3.5478],\n",
            "        [-1.4004, -2.5993, -2.9240, -2.8329, -2.7417, -1.8319, -2.3232, -3.0832,\n",
            "         -1.8096, -3.3648],\n",
            "        [-1.5703, -2.2286, -2.3504, -3.3113, -3.0914, -2.5795, -1.8023, -3.3930,\n",
            "         -1.5744, -3.6643],\n",
            "        [-1.9960, -2.5675, -2.6886, -2.6320, -2.4852, -1.7139, -2.2941, -3.0791,\n",
            "         -1.6514, -3.0922],\n",
            "        [-1.4874, -2.9661, -3.1769, -2.3472, -2.7496, -2.0218, -2.1407, -2.6912,\n",
            "         -1.7489, -3.5240],\n",
            "        [-1.4962, -2.4812, -3.1817, -2.9363, -2.8191, -2.3925, -1.8435, -3.2589,\n",
            "         -1.4718, -3.8868],\n",
            "        [-1.9209, -2.4518, -2.2767, -2.5300, -3.0670, -2.4421, -1.7209, -3.0142,\n",
            "         -1.7627, -2.9563],\n",
            "        [-1.6156, -2.7196, -2.6386, -2.9843, -2.7839, -2.0627, -2.1230, -2.7278,\n",
            "         -1.5800, -3.4001],\n",
            "        [-1.7360, -2.4080, -2.9992, -2.7525, -2.9659, -1.8810, -1.4802, -2.7211,\n",
            "         -2.3434, -3.6182],\n",
            "        [-1.6473, -2.5179, -2.6622, -2.6256, -3.2920, -2.3306, -1.6400, -2.7019,\n",
            "         -1.7610, -4.0595],\n",
            "        [-1.5583, -2.3682, -3.0109, -2.9830, -2.5728, -2.3151, -1.7481, -2.7817,\n",
            "         -1.8754, -3.4555],\n",
            "        [-1.5560, -2.2947, -2.1263, -3.2132, -2.8786, -2.5979, -2.6193, -3.4584,\n",
            "         -1.4788, -2.7204],\n",
            "        [-1.1840, -2.1535, -3.6288, -2.4795, -3.0199, -2.5345, -1.7469, -2.8715,\n",
            "         -2.4919, -3.6596],\n",
            "        [-2.0750, -2.5002, -2.2337, -2.7342, -2.8671, -1.7243, -2.2287, -2.6446,\n",
            "         -1.7736, -3.3047],\n",
            "        [-1.5207, -2.3636, -3.2271, -2.6574, -2.9279, -2.4126, -1.8549, -2.7196,\n",
            "         -1.7950, -3.0800],\n",
            "        [-1.9355, -2.6376, -2.5640, -2.7611, -2.6474, -1.8324, -1.9674, -2.7578,\n",
            "         -1.7735, -3.2178],\n",
            "        [-1.6509, -2.3248, -2.7402, -2.6111, -2.8749, -2.3300, -1.7021, -3.0695,\n",
            "         -1.8167, -3.6016],\n",
            "        [-2.1495, -2.9652, -3.0571, -2.6577, -2.4941, -1.7027, -1.8454, -2.7058,\n",
            "         -1.6620, -3.3389],\n",
            "        [-1.6210, -2.2292, -2.4024, -2.8025, -3.1356, -2.2633, -2.2252, -2.7280,\n",
            "         -1.6786, -3.3242],\n",
            "        [-1.7979, -2.0437, -2.9297, -2.6167, -3.2528, -2.3842, -2.0953, -2.4266,\n",
            "         -1.5805, -3.4974],\n",
            "        [-1.6728, -2.5671, -2.4993, -2.7490, -2.5651, -2.0120, -2.2147, -2.9160,\n",
            "         -1.7188, -3.3205],\n",
            "        [-1.9919, -2.7589, -3.1829, -2.6448, -3.2007, -1.8682, -1.7601, -1.9696,\n",
            "         -1.8640, -3.6494],\n",
            "        [-1.0741, -2.3437, -3.1533, -2.2883, -2.8101, -2.8252, -2.0094, -3.3448,\n",
            "         -2.2454, -3.7485],\n",
            "        [-1.3907, -2.6123, -2.7271, -3.5268, -2.7623, -2.1784, -1.9067, -2.5233,\n",
            "         -1.8869, -3.6404],\n",
            "        [-1.8731, -1.9649, -2.3941, -2.6747, -2.6053, -2.5337, -2.4346, -3.2939,\n",
            "         -1.5317, -2.9590],\n",
            "        [-2.0190, -2.3601, -2.1804, -2.6490, -2.6143, -1.8014, -2.1997, -2.6723,\n",
            "         -2.0536, -3.1553],\n",
            "        [-1.7058, -3.0149, -2.5638, -2.8905, -2.9452, -2.2682, -1.7143, -2.6776,\n",
            "         -1.6437, -3.2551],\n",
            "        [-1.5347, -2.4513, -2.4810, -2.6626, -2.8488, -2.2620, -2.0942, -2.8495,\n",
            "         -1.8828, -3.0035],\n",
            "        [-1.3414, -2.4450, -2.7590, -2.5906, -3.0745, -2.1778, -2.0550, -2.8783,\n",
            "         -1.9933, -3.3991]], grad_fn=<LogSoftmaxBackward>)\n",
            "tensor([8, 7, 0, 3, 8, 0, 9, 9, 4, 0, 8, 6, 8, 3, 9, 7, 2, 3, 7, 4, 8, 5, 9, 7,\n",
            "        6, 4, 8, 8, 8, 8, 8, 2, 8, 6, 1, 6, 1, 0, 1, 9, 5, 2, 5, 8, 3, 7, 6, 6,\n",
            "        1, 6, 1, 9, 8, 2, 8, 1, 8, 6, 5, 2, 1, 1, 3, 6])\n",
            "Training loss after 4 epochs: 0.000000\n"
          ],
          "name": "stdout"
        }
      ]
    },
    {
      "cell_type": "code",
      "metadata": {
        "id": "ZdKm9J5GNYCx",
        "colab": {
          "base_uri": "https://localhost:8080/",
          "height": 295
        },
        "outputId": "2aea4f70-3213-4b12-e969-9bebb84b20b5"
      },
      "source": [
        "plt.plot(my_LR.loss_during_training,'-b',label='Cross Entropy Loss')\n",
        "plt.xlabel('Iterations')\n",
        "plt.ylabel('Loss')"
      ],
      "execution_count": null,
      "outputs": [
        {
          "output_type": "execute_result",
          "data": {
            "text/plain": [
              "Text(0, 0.5, 'Loss')"
            ]
          },
          "metadata": {
            "tags": []
          },
          "execution_count": 9
        },
        {
          "output_type": "display_data",
          "data": {
            "image/png": "[encoded data removed]",
            "text/plain": [
              "<Figure size 432x288 with 1 Axes>"
            ]
          },
          "metadata": {
            "tags": [],
            "image/png": {
              "width": 398,
              "height": 261
            }
          }
        }
      ]
    },
    {
      "cell_type": "markdown",
      "metadata": {
        "id": "dWWXa75gNYC2"
      },
      "source": [
        "To evaluate the performance across the entire test dataset, we will implement a for loop using `testloader` and compute errors per mini-batch. The following code will do the work:"
      ]
    },
    {
      "cell_type": "code",
      "metadata": {
        "id": "c4KLhDVONYC4",
        "colab": {
          "base_uri": "https://localhost:8080/",
          "height": 34
        },
        "outputId": "a7d26b9c-d4e5-4269-9699-7bd21ee2ce92"
      },
      "source": [
        "loss = 0\n",
        "accuracy = 0\n",
        "\n",
        "# Turn off gradients for validation, saves memory and computations\n",
        "with torch.no_grad():\n",
        "\n",
        "    for images,labels in testloader:\n",
        "        \n",
        "        probs = my_LR.forward(images.view(images.shape[0], -1))\n",
        "        \n",
        "        top_p, top_class = probs.topk(1, dim=1)\n",
        "        equals = (top_class == labels.view(images.shape[0], 1)) \n",
        "        accuracy += torch.mean(equals.type(torch.FloatTensor)) #num de etiquetas que aciertas por cada minibatch\n",
        "    \n",
        "\n",
        "print(\"Test Accuracy %f\" %(accuracy/len(testloader)))  #num de etiquetas que aciertas en total "
      ],
      "execution_count": null,
      "outputs": [
        {
          "output_type": "stream",
          "text": [
            "Test Accuracy 0.918292\n"
          ],
          "name": "stdout"
        }
      ]
    },
    {
      "cell_type": "code",
      "metadata": {
        "id": "1Y7fzfqUNYC9",
        "colab": {
          "base_uri": "https://localhost:8080/",
          "height": 34
        },
        "outputId": "c073ca3d-ab20-44f8-d8b8-6bf77252126e"
      },
      "source": [
        "top_class.shape"
      ],
      "execution_count": null,
      "outputs": [
        {
          "output_type": "execute_result",
          "data": {
            "text/plain": [
              "torch.Size([16, 1])"
            ]
          },
          "metadata": {
            "tags": []
          },
          "execution_count": 11
        }
      ]
    },
    {
      "cell_type": "markdown",
      "metadata": {
        "id": "KMY-3hiWNYDD"
      },
      "source": [
        "With the probabilities, we can get the most likely class using the `probs.topk` method. This returns the $k$ highest values. Since we just want the most likely class, we can use `probs.topk(1)`. This returns a tuple of the top-$k$ values and the top-$k$ indices. If the highest value is the fifth element, we'll get back 4 as the index.\n",
        "\n",
        "The line \n",
        "```python\n",
        "(top_class == labels.view(images.shape[0], 1))\n",
        "```\n",
        "returns a boolean vector of `True/False` values, indicanting werther `top_class` is equeal to `labels` at every position. Finally, with the line\n",
        "\n",
        "```python\n",
        "equals.type(torch.FloatTensor)\n",
        "```\n",
        "we transform it to real a vector in which `True --> 1.0` and `False --> 0.0`, where we can compute the mean using `torch.mean()`."
      ]
    },
    {
      "cell_type": "markdown",
      "metadata": {
        "id": "zznb89lPNYDF"
      },
      "source": [
        "> **Excercise** Modify the code of the `Multi_LR_extended` class so it incorporates a method to evaluate the performance in either the train set or the test set (Use a single method with the proper inputs!)"
      ]
    },
    {
      "cell_type": "code",
      "metadata": {
        "id": "-zMwEUFJNYDG"
      },
      "source": [
        "''' This class inherits from the `Multi_LR` class. So it has the same atributes\n",
        "and methods, and some others that we will add. \n",
        "'''\n",
        "class Multi_LR_extended2(Multi_LR):\n",
        "    \n",
        "    #Your code here\n",
        "    \n",
        "    def __init__(self,dimx,nlabels,epochs=100,lr=0.001):\n",
        "        \n",
        "        # Your code here  \n",
        "        super().__init__(dimx,nlabels)  #To initialize `Multi_LR`!\n",
        "        \n",
        "        self.lr = lr #Learning Rate\n",
        "        \n",
        "        self.optim = optim.Adam(self.parameters(), self.lr)\n",
        "        \n",
        "        self.epochs = epochs\n",
        "        \n",
        "        self.criterion = nn.NLLLoss()               # NEW w.r.t Lab 1\n",
        "        \n",
        "        # A list to store the loss evolution along training\n",
        "        \n",
        "        self.loss_during_training = [] \n",
        "        \n",
        "    def train(self,trainloader):\n",
        "        \n",
        "         # Optimization Loop\n",
        "        \n",
        "        for e in range(int(self.epochs)):\n",
        "            \n",
        "            # Random data permutation at each epoch\n",
        "            \n",
        "            running_loss = 0.\n",
        "            \n",
        "            for images, labels in trainloader:              # NEW w.r.t Lab 1\n",
        "        \n",
        "                self.optim.zero_grad()  #TO RESET GRADIENTS!\n",
        "            \n",
        "                out = self.forward(images.view(images.shape[0], -1))\n",
        "\n",
        "                loss = self.criterion(out,labels)\n",
        "\n",
        "                running_loss += loss.item()\n",
        "                \n",
        "                #Your code here\n",
        "                loss.backward()\n",
        "                self.optim.step()\n",
        "                \n",
        "            self.loss_during_training.append(running_loss/len(trainloader))\n",
        "\n",
        "            if(e % 1 == 0): # Every 10 epochs\n",
        "\n",
        "                print(\"Training loss after %d epochs: %f\" \n",
        "                      %(e,self.loss_during_training[-1]))\n",
        "\n",
        "    def eval_performance(self,dataloader):\n",
        "           \n",
        "        loss = 0\n",
        "        accuracy = 0\n",
        "\n",
        "        # Turn off gradients for validation, saves memory and computations\n",
        "        with torch.no_grad():\n",
        "\n",
        "            for images,labels in dataloader:\n",
        "\n",
        "                # Your code here\n",
        "                probs = self.forward(images.view(images.shape[0], -1))\n",
        "                top_p, top_class = probs.topk(1, dim=1)\n",
        "                equals = (top_class == labels.view(images.shape[0], 1)) \n",
        "                accuracy += torch.mean(equals.type(torch.FloatTensor))\n",
        "    \n",
        "            return accuracy/len(dataloader)"
      ],
      "execution_count": null,
      "outputs": []
    },
    {
      "cell_type": "code",
      "metadata": {
        "id": "jeNG6A6KNYDM",
        "colab": {
          "base_uri": "https://localhost:8080/",
          "height": 218
        },
        "outputId": "1649f6fc-7a80-477e-a6e3-e1b7880d90ef"
      },
      "source": [
        "my_LR = Multi_LR_extended2(dimx=784,nlabels=10,epochs=10,lr=1e-3)\n",
        "\n",
        "my_LR.train(trainloader)\n",
        "\n",
        "train_performance = my_LR.eval_performance(trainloader)\n",
        "\n",
        "test_performance = my_LR.eval_performance(testloader)\n",
        "\n",
        "print(\"Train Accuracy %f\" %(train_performance))\n",
        "\n",
        "print(\"Test Accuracy %f\" %(test_performance))\n",
        "\n",
        "#esta biased porque practicamente da lo mismo en test y train"
      ],
      "execution_count": null,
      "outputs": [
        {
          "output_type": "stream",
          "text": [
            "Training loss after 0 epochs: 0.474461\n",
            "Training loss after 1 epochs: 0.327601\n",
            "Training loss after 2 epochs: 0.310078\n",
            "Training loss after 3 epochs: 0.302175\n",
            "Training loss after 4 epochs: 0.294072\n",
            "Training loss after 5 epochs: 0.291264\n",
            "Training loss after 6 epochs: 0.287256\n",
            "Training loss after 7 epochs: 0.283830\n",
            "Training loss after 8 epochs: 0.282859\n",
            "Training loss after 9 epochs: 0.279486\n",
            "Train Accuracy 0.927322\n",
            "Test Accuracy 0.924562\n"
          ],
          "name": "stdout"
        }
      ]
    },
    {
      "cell_type": "markdown",
      "metadata": {
        "id": "WvQEWekDNYDR"
      },
      "source": [
        "Observe that both values are indeed similar, indicating that the model is **biased**. \n",
        "\n",
        "Let's check the values for the weight matrix. For a simpler visualization, we will plot the histogram of all the values in the weight matrix."
      ]
    },
    {
      "cell_type": "code",
      "metadata": {
        "scrolled": false,
        "id": "a3dd5Nd-NYDS",
        "colab": {
          "base_uri": "https://localhost:8080/",
          "height": 618
        },
        "outputId": "87e6ab27-d282-460c-dc29-2c302b49100e"
      },
      "source": [
        "plt.hist(my_LR.output.weight.detach().numpy().reshape([-1,]),50)"
      ],
      "execution_count": null,
      "outputs": [
        {
          "output_type": "execute_result",
          "data": {
            "text/plain": [
              "(array([1.00e+00, 1.00e+00, 4.00e+00, 3.00e+00, 4.00e+00, 2.00e+00,\n",
              "        8.00e+00, 1.10e+01, 8.00e+00, 1.10e+01, 1.70e+01, 3.10e+01,\n",
              "        3.00e+01, 6.40e+01, 7.10e+01, 1.02e+02, 1.51e+02, 1.55e+02,\n",
              "        2.39e+02, 2.99e+02, 5.55e+02, 8.34e+02, 1.04e+03, 1.10e+03,\n",
              "        8.88e+02, 6.23e+02, 4.09e+02, 2.94e+02, 2.29e+02, 1.82e+02,\n",
              "        1.54e+02, 1.04e+02, 8.40e+01, 4.20e+01, 3.00e+01, 1.50e+01,\n",
              "        1.40e+01, 6.00e+00, 1.10e+01, 2.00e+00, 3.00e+00, 3.00e+00,\n",
              "        0.00e+00, 3.00e+00, 0.00e+00, 0.00e+00, 1.00e+00, 0.00e+00,\n",
              "        1.00e+00, 1.00e+00]),\n",
              " array([-0.5256403 , -0.50302154, -0.48040274, -0.45778394, -0.43516514,\n",
              "        -0.41254637, -0.38992757, -0.3673088 , -0.34469   , -0.3220712 ,\n",
              "        -0.29945242, -0.27683362, -0.25421482, -0.23159604, -0.20897725,\n",
              "        -0.18635847, -0.16373968, -0.14112088, -0.1185021 , -0.0958833 ,\n",
              "        -0.07326452, -0.05064572, -0.02802694, -0.00540815,  0.01721064,\n",
              "         0.03982943,  0.06244822,  0.08506701,  0.1076858 ,  0.13030459,\n",
              "         0.15292338,  0.17554218,  0.19816096,  0.22077975,  0.24339855,\n",
              "         0.26601732,  0.28863612,  0.31125492,  0.3338737 ,  0.3564925 ,\n",
              "         0.3791113 ,  0.40173006,  0.42434886,  0.44696766,  0.46958643,\n",
              "         0.49220523,  0.51482403,  0.5374428 ,  0.5600616 ,  0.5826804 ,\n",
              "         0.6052992 ], dtype=float32),\n",
              " <a list of 50 Patch objects>)"
            ]
          },
          "metadata": {
            "tags": []
          },
          "execution_count": 14
        },
        {
          "output_type": "display_data",
          "data": {
            "image/png": "[encoded data removed]",
            "text/plain": [
              "<Figure size 432x288 with 1 Axes>"
            ]
          },
          "metadata": {
            "tags": [],
            "image/png": {
              "width": 381,
              "height": 248
            }
          }
        }
      ]
    },
    {
      "cell_type": "markdown",
      "metadata": {
        "id": "WHeV51a7NYDW"
      },
      "source": [
        "## Part III. Train a MLP to do the same job\n",
        "\n",
        "Modify the code you have just implemented for a MLP is straightforward. Assume we want to train a MLP with three layers, all using rectified linear units (RELU)s as non-linear activations (except the last layer, that uses a Softmax). The first layer has 128 hidden units and the second 64 of them."
      ]
    },
    {
      "cell_type": "code",
      "metadata": {
        "id": "Q1cbwCifNYDY",
        "colab": {
          "base_uri": "https://localhost:8080/",
          "height": 321
        },
        "outputId": "71e6d607-9e68-4b51-8d3c-cdbb78214a89"
      },
      "source": [
        "Image(url= \"https://pytorch.org/docs/stable/_images/ReLU.png\", width=600, height=300)"
      ],
      "execution_count": null,
      "outputs": [
        {
          "output_type": "execute_result",
          "data": {
            "text/html": [
              "<img src=\"https://pytorch.org/docs/stable/_images/ReLU.png\" width=\"600\" height=\"300\"/>"
            ],
            "text/plain": [
              "<IPython.core.display.Image object>"
            ]
          },
          "metadata": {
            "tags": []
          },
          "execution_count": 15
        }
      ]
    },
    {
      "cell_type": "markdown",
      "metadata": {
        "id": "395Q04p9NYDc"
      },
      "source": [
        "As with the LR, we create a small class defining the model and then a larger class than inherites from it to incorporate methods to perform both training and model evaluation.\n",
        "\n",
        "> **Exercise**: Complete the code for the following class"
      ]
    },
    {
      "cell_type": "code",
      "metadata": {
        "id": "Df49CR1CNYDe"
      },
      "source": [
        "class MLP(nn.Module):\n",
        "    def __init__(self,dimx,hidden1,hidden2,nlabels): #Nlabels will be 10 in our case\n",
        "        super().__init__()\n",
        "        \n",
        "        self.output1 = nn.Linear(dimx,hidden1)\n",
        "        \n",
        "        self.output2 = nn.Linear(hidden1,hidden2)\n",
        "        \n",
        "        self.output3 = nn.Linear(hidden2,nlabels)\n",
        "    \n",
        "        self.relu = nn.ReLU()\n",
        "        \n",
        "        self.logsoftmax = nn.LogSoftmax(dim=1)                                                             \n",
        "        \n",
        "    def forward(self, x):\n",
        "        # Pass the input tensor through each of our operations\n",
        "        \n",
        "        #YOUR CODE HERE\n",
        "        x=self.output1(x)\n",
        "        x=self.relu(x)\n",
        "        x=self.output2(x)\n",
        "        x=self.relu(x)\n",
        "        x=self.output3(x)\n",
        "        x=self.logsoftmax(x)\n",
        "        \n",
        "        \n",
        "        \n",
        "        return x"
      ],
      "execution_count": null,
      "outputs": []
    },
    {
      "cell_type": "markdown",
      "metadata": {
        "id": "soYh77eXNYDl"
      },
      "source": [
        "> **Excercise** Create a class `MLP_extended` that incorporates two methods to the former class. One to perform training and one to perform model evaluation. It is just **one line of code** diferent from the code you have done above for the multi-class LR. This is why I like class and structure my code this way!!"
      ]
    },
    {
      "cell_type": "code",
      "metadata": {
        "id": "t-0HWvoqNYDq"
      },
      "source": [
        "''' This class inherits from the `Multi_LR` class. So it has the same atributes\n",
        "and methods, and some others that we will add. \n",
        "'''\n",
        "class MLP_extended(MLP):\n",
        "    \n",
        "    \n",
        "    def __init__(self,dimx,hidden1,hidden2,nlabels,epochs=100,lr=0.001):\n",
        "\n",
        "        # Your code here\n",
        "          \n",
        "        super().__init__(dimx,hidden1,hidden2,nlabels)  #To initialize `Multi_LR`!\n",
        "        \n",
        "        self.lr = lr #Learning Rate\n",
        "        \n",
        "        self.optim = optim.Adam(self.parameters(), self.lr)\n",
        "        \n",
        "        self.epochs = epochs\n",
        "        \n",
        "        self.criterion = nn.NLLLoss()               # NEW w.r.t Lab 1\n",
        "        \n",
        "        # A list to store the loss evolution along training\n",
        "        \n",
        "        self.loss_during_training = [] \n",
        "        \n",
        "    def train(self,trainloader):\n",
        "        \n",
        "        # Your code here\n",
        "        # Optimization Loop\n",
        "        \n",
        "        for e in range(int(self.epochs)):\n",
        "            \n",
        "            # Random data permutation at each epoch\n",
        "            \n",
        "            running_loss = 0.\n",
        "            \n",
        "            for images, labels in trainloader:              # NEW w.r.t Lab 1\n",
        "        \n",
        "                self.optim.zero_grad()  #TO RESET GRADIENTS!\n",
        "            \n",
        "                out = self.forward(images.view(images.shape[0], -1))\n",
        "\n",
        "                loss = self.criterion(out,labels)\n",
        "\n",
        "                running_loss += loss.item()\n",
        "                \n",
        "                #Your code here\n",
        "                loss.backward()\n",
        "                self.optim.step()\n",
        "                \n",
        "            self.loss_during_training.append(running_loss/len(trainloader))\n",
        "\n",
        "            if(e % 1 == 0): # Every 10 epochs\n",
        "\n",
        "                print(\"Training loss after %d epochs: %f\" \n",
        "                      %(e,self.loss_during_training[-1]))\n",
        "\n",
        "    def eval_performance(self,dataloader):\n",
        "        \n",
        "        # Your code here\n",
        "        loss = 0\n",
        "        accuracy = 0\n",
        "\n",
        "        # Turn off gradients for validation, saves memory and computations\n",
        "        with torch.no_grad():\n",
        "\n",
        "            for images,labels in dataloader:\n",
        "\n",
        "                # Your code here\n",
        "                probs = my_MLP.forward(images.view(images.shape[0], -1))\n",
        "                top_p, top_class = probs.topk(1, dim=1)\n",
        "                equals = (top_class == labels.view(images.shape[0], 1)) \n",
        "                accuracy += torch.mean(equals.type(torch.FloatTensor))\n",
        "    \n",
        "            return accuracy/len(dataloader)\n",
        "       \n",
        "        "
      ],
      "execution_count": null,
      "outputs": []
    },
    {
      "cell_type": "markdown",
      "metadata": {
        "id": "08mfZVFoNYD2"
      },
      "source": [
        "Train the model for 10 epochs and compute the train/test performance. How does it compare with the Logistic Regressor?"
      ]
    },
    {
      "cell_type": "code",
      "metadata": {
        "id": "WRzHhNPoNYD4",
        "colab": {
          "base_uri": "https://localhost:8080/",
          "height": 218
        },
        "outputId": "84f00642-f2d9-4a0b-b864-ee99e9e8cbff"
      },
      "source": [
        "my_MLP = MLP_extended(dimx=784,hidden1=128,hidden2=64,nlabels=10,epochs=10,lr=1e-3)\n",
        "\n",
        "my_MLP.train(trainloader)\n",
        "\n",
        "train_performance = my_MLP.eval_performance(trainloader)\n",
        "\n",
        "test_performance = my_MLP.eval_performance(testloader)\n",
        "\n",
        "print(\"Train Accuracy %f\" %(train_performance))\n",
        "\n",
        "print(\"Test Accuracy %f\" %(test_performance))"
      ],
      "execution_count": null,
      "outputs": [
        {
          "output_type": "stream",
          "text": [
            "Training loss after 0 epochs: 0.404954\n",
            "Training loss after 1 epochs: 0.191766\n",
            "Training loss after 2 epochs: 0.141583\n",
            "Training loss after 3 epochs: 0.115771\n",
            "Training loss after 4 epochs: 0.099153\n",
            "Training loss after 5 epochs: 0.087587\n",
            "Training loss after 6 epochs: 0.078346\n",
            "Training loss after 7 epochs: 0.071441\n",
            "Training loss after 8 epochs: 0.065962\n",
            "Training loss after 9 epochs: 0.057610\n",
            "Train Accuracy 0.985274\n",
            "Test Accuracy 0.972731\n"
          ],
          "name": "stdout"
        }
      ]
    },
    {
      "cell_type": "code",
      "metadata": {
        "id": "iDWX5dYiNYD9",
        "colab": {
          "base_uri": "https://localhost:8080/"
        },
        "outputId": "aa458cfa-a357-402a-bd1c-007b19eec5f3"
      },
      "source": [
        "plt.plot(my_MLP.loss_during_training,'-b',label='Cross Entropy Loss')\n",
        "plt.xlabel('Iterations')\n",
        "plt.ylabel('Loss')"
      ],
      "execution_count": null,
      "outputs": [
        {
          "output_type": "execute_result",
          "data": {
            "text/plain": [
              "Text(0, 0.5, 'Loss')"
            ]
          },
          "metadata": {
            "tags": []
          },
          "execution_count": 19
        },
        {
          "output_type": "display_data",
          "data": {
            "image/png": "[encoded data removed]",
            "text/plain": [
              "<Figure size 432x288 with 1 Axes>"
            ]
          },
          "metadata": {
            "tags": [],
            "image/png": {
              "width": 392,
              "height": 261
            }
          }
        }
      ]
    },
    {
      "cell_type": "markdown",
      "metadata": {
        "id": "83QM4s8DNYEB"
      },
      "source": [
        "Wow! Performace is almost perfect with a naive Neural Network!!"
      ]
    },
    {
      "cell_type": "markdown",
      "metadata": {
        "id": "KcM5oho6NYED"
      },
      "source": [
        "### Part IV. Saving and restoring the model\n",
        "\n",
        "Finally, we will show you how to save and load models (i.e. values of the parameters) with PyTorch. This is important because you'll often want to load previously trained models to use in making predictions or to continue training on new data.\n",
        "\n",
        "As you can imagine, it's impractical to train a network every time you need to use it. Instead, we can save trained networks then load them later to train more or use them for predictions.\n",
        "\n",
        "The parameters for PyTorch networks are stored in a model's `state_dict`. We can see the state dict contains the weight and bias matrices for each of our layers."
      ]
    },
    {
      "cell_type": "code",
      "metadata": {
        "id": "g9Cz23HiNYEG",
        "colab": {
          "base_uri": "https://localhost:8080/"
        },
        "outputId": "6d58e804-9b2c-4d5a-d9f0-888cb00612ca"
      },
      "source": [
        "print(\"Our model: \\n\\n\", my_MLP, '\\n')\n",
        "print(\"The state dict keys: \\n\\n\", my_MLP.state_dict().keys())"
      ],
      "execution_count": null,
      "outputs": [
        {
          "output_type": "stream",
          "text": [
            "Our model: \n",
            "\n",
            " MLP_extended(\n",
            "  (output1): Linear(in_features=784, out_features=128, bias=True)\n",
            "  (output2): Linear(in_features=128, out_features=64, bias=True)\n",
            "  (output3): Linear(in_features=64, out_features=10, bias=True)\n",
            "  (relu): ReLU()\n",
            "  (logsoftmax): LogSoftmax()\n",
            "  (criterion): NLLLoss()\n",
            ") \n",
            "\n",
            "The state dict keys: \n",
            "\n",
            " odict_keys(['output1.weight', 'output1.bias', 'output2.weight', 'output2.bias', 'output3.weight', 'output3.bias'])\n"
          ],
          "name": "stdout"
        }
      ]
    },
    {
      "cell_type": "markdown",
      "metadata": {
        "id": "hVVyLDKiNYEJ"
      },
      "source": [
        "The simplest thing to do is simply save the state dict with `torch.save`. For example, we can save it to a file `'checkpoint.pth'`."
      ]
    },
    {
      "cell_type": "code",
      "metadata": {
        "id": "oO5iLZ7pNYEK"
      },
      "source": [
        "torch.save(my_MLP.state_dict(), 'checkpoint.pth')"
      ],
      "execution_count": null,
      "outputs": []
    },
    {
      "cell_type": "markdown",
      "metadata": {
        "id": "eOzmf4iaNYEP"
      },
      "source": [
        "Then we can load the state dict with `torch.load`."
      ]
    },
    {
      "cell_type": "code",
      "metadata": {
        "id": "bEeiCpqjNYET",
        "colab": {
          "base_uri": "https://localhost:8080/"
        },
        "outputId": "92d9e651-3711-460b-ef9d-627a1166431c"
      },
      "source": [
        "state_dict = torch.load('checkpoint.pth')\n",
        "print(state_dict.keys())"
      ],
      "execution_count": null,
      "outputs": [
        {
          "output_type": "stream",
          "text": [
            "odict_keys(['output1.weight', 'output1.bias', 'output2.weight', 'output2.bias', 'output3.weight', 'output3.bias'])\n"
          ],
          "name": "stdout"
        }
      ]
    },
    {
      "cell_type": "markdown",
      "metadata": {
        "id": "m0eJ17b9NYEW"
      },
      "source": [
        "And to load the state dict in to the network, you do `my_MLP.load_state_dict(state_dict)`."
      ]
    },
    {
      "cell_type": "code",
      "metadata": {
        "id": "aqfR2qMuNYEY",
        "colab": {
          "base_uri": "https://localhost:8080/",
          "height": 34
        },
        "outputId": "d8b3d7a9-acec-48e7-e648-ddd4f43447aa"
      },
      "source": [
        "my_MLP.load_state_dict(state_dict)"
      ],
      "execution_count": null,
      "outputs": [
        {
          "output_type": "execute_result",
          "data": {
            "text/plain": [
              "<All keys matched successfully>"
            ]
          },
          "metadata": {
            "tags": []
          },
          "execution_count": 23
        }
      ]
    },
    {
      "cell_type": "markdown",
      "metadata": {
        "id": "OFfZg9fKNYEd"
      },
      "source": [
        "**Important:** `load_state_dict` will raise an error if the architecture of the network is different from the one saved in the pth file. For example, if we define the following model."
      ]
    },
    {
      "cell_type": "code",
      "metadata": {
        "id": "g0o0O_3uNYEf"
      },
      "source": [
        "my_MLP2 = MLP_extended(dimx=784,hidden1=256,hidden2=128,nlabels=10,epochs=10,lr=1e-3)"
      ],
      "execution_count": null,
      "outputs": []
    },
    {
      "cell_type": "markdown",
      "metadata": {
        "id": "zd2UIY8uNYEl"
      },
      "source": [
        "which differs from `my_MLP` in the dimension of the hidden layers, we will get an error if we call the method  `load_state_dict(state_dict)`.\n",
        "\n",
        "> **Exercise:** Check that you get an error when trying to initialize my_MLP2 from `state_dict` using the method `load_state_dict`"
      ]
    },
    {
      "cell_type": "code",
      "metadata": {
        "id": "8w5HbMpGNYEo",
        "colab": {
          "base_uri": "https://localhost:8080/"
        },
        "outputId": "372d0632-3540-4bea-8976-4ec2bd0931ff"
      },
      "source": [
        "#Your code here\n",
        "my_MLP2.load_state_dict(state_dict)"
      ],
      "execution_count": null,
      "outputs": [
        {
          "output_type": "error",
          "ename": "RuntimeError",
          "evalue": "ignored",
          "traceback": [
            "\u001b[0;31m---------------------------------------------------------------------------\u001b[0m",
            "\u001b[0;31mRuntimeError\u001b[0m                              Traceback (most recent call last)",
            "\u001b[0;32m<ipython-input-25-35e3a694eaab>\u001b[0m in \u001b[0;36m<module>\u001b[0;34m()\u001b[0m\n\u001b[0;32m----> 1\u001b[0;31m \u001b[0mmy_MLP2\u001b[0m\u001b[0;34m.\u001b[0m\u001b[0mload_state_dict\u001b[0m\u001b[0;34m(\u001b[0m\u001b[0mstate_dict\u001b[0m\u001b[0;34m)\u001b[0m\u001b[0;34m\u001b[0m\u001b[0;34m\u001b[0m\u001b[0m\n\u001b[0m",
            "\u001b[0;32m/usr/local/lib/python3.6/dist-packages/torch/nn/modules/module.py\u001b[0m in \u001b[0;36mload_state_dict\u001b[0;34m(self, state_dict, strict)\u001b[0m\n\u001b[1;32m    837\u001b[0m         \u001b[0;32mif\u001b[0m \u001b[0mlen\u001b[0m\u001b[0;34m(\u001b[0m\u001b[0merror_msgs\u001b[0m\u001b[0;34m)\u001b[0m \u001b[0;34m>\u001b[0m \u001b[0;36m0\u001b[0m\u001b[0;34m:\u001b[0m\u001b[0;34m\u001b[0m\u001b[0;34m\u001b[0m\u001b[0m\n\u001b[1;32m    838\u001b[0m             raise RuntimeError('Error(s) in loading state_dict for {}:\\n\\t{}'.format(\n\u001b[0;32m--> 839\u001b[0;31m                                self.__class__.__name__, \"\\n\\t\".join(error_msgs)))\n\u001b[0m\u001b[1;32m    840\u001b[0m         \u001b[0;32mreturn\u001b[0m \u001b[0m_IncompatibleKeys\u001b[0m\u001b[0;34m(\u001b[0m\u001b[0mmissing_keys\u001b[0m\u001b[0;34m,\u001b[0m \u001b[0munexpected_keys\u001b[0m\u001b[0;34m)\u001b[0m\u001b[0;34m\u001b[0m\u001b[0;34m\u001b[0m\u001b[0m\n\u001b[1;32m    841\u001b[0m \u001b[0;34m\u001b[0m\u001b[0m\n",
            "\u001b[0;31mRuntimeError\u001b[0m: Error(s) in loading state_dict for MLP_extended:\n\tsize mismatch for output1.weight: copying a param with shape torch.Size([128, 784]) from checkpoint, the shape in current model is torch.Size([256, 784]).\n\tsize mismatch for output1.bias: copying a param with shape torch.Size([128]) from checkpoint, the shape in current model is torch.Size([256]).\n\tsize mismatch for output2.weight: copying a param with shape torch.Size([64, 128]) from checkpoint, the shape in current model is torch.Size([128, 256]).\n\tsize mismatch for output2.bias: copying a param with shape torch.Size([64]) from checkpoint, the shape in current model is torch.Size([128]).\n\tsize mismatch for output3.weight: copying a param with shape torch.Size([10, 64]) from checkpoint, the shape in current model is torch.Size([10, 128])."
          ]
        }
      ]
    },
    {
      "cell_type": "code",
      "metadata": {
        "id": "fpGDvr2qNYEt"
      },
      "source": [
        ""
      ],
      "execution_count": null,
      "outputs": []
    },
    {
      "cell_type": "code",
      "metadata": {
        "id": "72H82yKwNYEx"
      },
      "source": [
        ""
      ],
      "execution_count": null,
      "outputs": []
    }
  ]
}