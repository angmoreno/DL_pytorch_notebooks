{
  "nbformat": 4,
  "nbformat_minor": 0,
  "metadata": {
    "kernelspec": {
      "display_name": "Python 3",
      "language": "python",
      "name": "python3"
    },
    "language_info": {
      "codemirror_mode": {
        "name": "ipython",
        "version": 3
      },
      "file_extension": ".py",
      "mimetype": "text/x-python",
      "name": "python",
      "nbconvert_exporter": "python",
      "pygments_lexer": "ipython3",
      "version": "3.6.5"
    },
    "colab": {
      "name": "LSTM.ipynb",
      "provenance": [],
      "collapsed_sections": [],
      "toc_visible": true
    }
  },
  "cells": [
    {
      "cell_type": "markdown",
      "metadata": {
        "id": "gm0Fg4cUtqwB"
      },
      "source": [
        "\n",
        "\n",
        "\n",
        "In this notebook, construct a character-level LSTM with PyTorch. The network will train character by character on some text, then generate new text character by character. As an example, I will train on Anna Karenina. **This model will be able to generate new text based on the text from the book!**\n",
        "\n",
        "This network is based off of Andrej Karpathy's [post on RNNs](http://karpathy.github.io/2015/05/21/rnn-effectiveness/) and [implementation in Torch](https://github.com/karpathy/char-rnn). Below is the general architecture of the character-wise RNN.\n"
      ]
    },
    {
      "cell_type": "code",
      "metadata": {
        "id": "dey9aEyitqwF",
        "colab": {
          "base_uri": "https://localhost:8080/",
          "height": 221
        },
        "outputId": "5a936bcc-f0aa-43b0-9f0e-529e6f252300"
      },
      "source": [
        "from IPython.display import Image\n",
        "from IPython.core.display import HTML \n",
        "\n",
        "Image(url= \"http://karpathy.github.io/assets/rnn/charseq.jpeg\", width=500, height=200)"
      ],
      "execution_count": null,
      "outputs": [
        {
          "output_type": "execute_result",
          "data": {
            "text/html": [
              "<img src=\"http://karpathy.github.io/assets/rnn/charseq.jpeg\" width=\"500\" height=\"200\"/>"
            ],
            "text/plain": [
              "<IPython.core.display.Image object>"
            ]
          },
          "metadata": {
            "tags": []
          },
          "execution_count": 4
        }
      ]
    },
    {
      "cell_type": "markdown",
      "metadata": {
        "id": "qmId3NYYtqwI"
      },
      "source": [
        "First let's load in our required resources for data loading and model creation."
      ]
    },
    {
      "cell_type": "code",
      "metadata": {
        "id": "KzG_idePtqwJ"
      },
      "source": [
        "import torch\n",
        "from torch import nn\n",
        "from torch import optim\n",
        "import numpy as np\n",
        "import time\n",
        "import matplotlib.pyplot as plt\n",
        "%matplotlib inline"
      ],
      "execution_count": null,
      "outputs": []
    },
    {
      "cell_type": "markdown",
      "metadata": {
        "id": "XO38wCxqtqwM"
      },
      "source": [
        "## Part I. Load in Data\n",
        "\n",
        "First, we load the Anna Karenina text file and convert it into integers for our network to use. "
      ]
    },
    {
      "cell_type": "code",
      "metadata": {
        "id": "gvdJYDlAtqwN"
      },
      "source": [
        "# open text file and read in data as `text`\n",
        "with open('./anna.txt', 'r') as f:\n",
        "    text = f.read()"
      ],
      "execution_count": null,
      "outputs": []
    },
    {
      "cell_type": "markdown",
      "metadata": {
        "id": "wVEb0T8xtqwQ"
      },
      "source": [
        "Let's check out the first 100 characters, make sure everything is peachy. According to the [American Book Review](http://americanbookreview.org/100bestlines.asp), this is the 6th best first line of a book ever."
      ]
    },
    {
      "cell_type": "code",
      "metadata": {
        "id": "0kWdbsKQ2oU-",
        "colab": {
          "base_uri": "https://localhost:8080/",
          "height": 548
        },
        "outputId": "8a633348-dfbe-4463-8a51-dca39d5c4bb4"
      },
      "source": [
        "from google.colab import drive\n",
        "drive.mount('/content/drive')"
      ],
      "execution_count": null,
      "outputs": [
        {
          "output_type": "error",
          "ename": "KeyboardInterrupt",
          "evalue": "ignored",
          "traceback": [
            "\u001b[0;31m---------------------------------------------------------------------------\u001b[0m",
            "\u001b[0;31mKeyboardInterrupt\u001b[0m                         Traceback (most recent call last)",
            "\u001b[0;32m/usr/local/lib/python3.6/dist-packages/ipykernel/kernelbase.py\u001b[0m in \u001b[0;36m_input_request\u001b[0;34m(self, prompt, ident, parent, password)\u001b[0m\n\u001b[1;32m    729\u001b[0m             \u001b[0;32mtry\u001b[0m\u001b[0;34m:\u001b[0m\u001b[0;34m\u001b[0m\u001b[0;34m\u001b[0m\u001b[0m\n\u001b[0;32m--> 730\u001b[0;31m                 \u001b[0mident\u001b[0m\u001b[0;34m,\u001b[0m \u001b[0mreply\u001b[0m \u001b[0;34m=\u001b[0m \u001b[0mself\u001b[0m\u001b[0;34m.\u001b[0m\u001b[0msession\u001b[0m\u001b[0;34m.\u001b[0m\u001b[0mrecv\u001b[0m\u001b[0;34m(\u001b[0m\u001b[0mself\u001b[0m\u001b[0;34m.\u001b[0m\u001b[0mstdin_socket\u001b[0m\u001b[0;34m,\u001b[0m \u001b[0;36m0\u001b[0m\u001b[0;34m)\u001b[0m\u001b[0;34m\u001b[0m\u001b[0;34m\u001b[0m\u001b[0m\n\u001b[0m\u001b[1;32m    731\u001b[0m             \u001b[0;32mexcept\u001b[0m \u001b[0mException\u001b[0m\u001b[0;34m:\u001b[0m\u001b[0;34m\u001b[0m\u001b[0;34m\u001b[0m\u001b[0m\n",
            "\u001b[0;32m/usr/local/lib/python3.6/dist-packages/jupyter_client/session.py\u001b[0m in \u001b[0;36mrecv\u001b[0;34m(self, socket, mode, content, copy)\u001b[0m\n\u001b[1;32m    802\u001b[0m         \u001b[0;32mtry\u001b[0m\u001b[0;34m:\u001b[0m\u001b[0;34m\u001b[0m\u001b[0;34m\u001b[0m\u001b[0m\n\u001b[0;32m--> 803\u001b[0;31m             \u001b[0mmsg_list\u001b[0m \u001b[0;34m=\u001b[0m \u001b[0msocket\u001b[0m\u001b[0;34m.\u001b[0m\u001b[0mrecv_multipart\u001b[0m\u001b[0;34m(\u001b[0m\u001b[0mmode\u001b[0m\u001b[0;34m,\u001b[0m \u001b[0mcopy\u001b[0m\u001b[0;34m=\u001b[0m\u001b[0mcopy\u001b[0m\u001b[0;34m)\u001b[0m\u001b[0;34m\u001b[0m\u001b[0;34m\u001b[0m\u001b[0m\n\u001b[0m\u001b[1;32m    804\u001b[0m         \u001b[0;32mexcept\u001b[0m \u001b[0mzmq\u001b[0m\u001b[0;34m.\u001b[0m\u001b[0mZMQError\u001b[0m \u001b[0;32mas\u001b[0m \u001b[0me\u001b[0m\u001b[0;34m:\u001b[0m\u001b[0;34m\u001b[0m\u001b[0;34m\u001b[0m\u001b[0m\n",
            "\u001b[0;32m/usr/local/lib/python3.6/dist-packages/zmq/sugar/socket.py\u001b[0m in \u001b[0;36mrecv_multipart\u001b[0;34m(self, flags, copy, track)\u001b[0m\n\u001b[1;32m    465\u001b[0m         \"\"\"\n\u001b[0;32m--> 466\u001b[0;31m         \u001b[0mparts\u001b[0m \u001b[0;34m=\u001b[0m \u001b[0;34m[\u001b[0m\u001b[0mself\u001b[0m\u001b[0;34m.\u001b[0m\u001b[0mrecv\u001b[0m\u001b[0;34m(\u001b[0m\u001b[0mflags\u001b[0m\u001b[0;34m,\u001b[0m \u001b[0mcopy\u001b[0m\u001b[0;34m=\u001b[0m\u001b[0mcopy\u001b[0m\u001b[0;34m,\u001b[0m \u001b[0mtrack\u001b[0m\u001b[0;34m=\u001b[0m\u001b[0mtrack\u001b[0m\u001b[0;34m)\u001b[0m\u001b[0;34m]\u001b[0m\u001b[0;34m\u001b[0m\u001b[0;34m\u001b[0m\u001b[0m\n\u001b[0m\u001b[1;32m    467\u001b[0m         \u001b[0;31m# have first part already, only loop while more to receive\u001b[0m\u001b[0;34m\u001b[0m\u001b[0;34m\u001b[0m\u001b[0;34m\u001b[0m\u001b[0m\n",
            "\u001b[0;32mzmq/backend/cython/socket.pyx\u001b[0m in \u001b[0;36mzmq.backend.cython.socket.Socket.recv\u001b[0;34m()\u001b[0m\n",
            "\u001b[0;32mzmq/backend/cython/socket.pyx\u001b[0m in \u001b[0;36mzmq.backend.cython.socket.Socket.recv\u001b[0;34m()\u001b[0m\n",
            "\u001b[0;32mzmq/backend/cython/socket.pyx\u001b[0m in \u001b[0;36mzmq.backend.cython.socket._recv_copy\u001b[0;34m()\u001b[0m\n",
            "\u001b[0;32m/usr/local/lib/python3.6/dist-packages/zmq/backend/cython/checkrc.pxd\u001b[0m in \u001b[0;36mzmq.backend.cython.checkrc._check_rc\u001b[0;34m()\u001b[0m\n",
            "\u001b[0;31mKeyboardInterrupt\u001b[0m: ",
            "\nDuring handling of the above exception, another exception occurred:\n",
            "\u001b[0;31mKeyboardInterrupt\u001b[0m                         Traceback (most recent call last)",
            "\u001b[0;32m<ipython-input-9-d5df0069828e>\u001b[0m in \u001b[0;36m<module>\u001b[0;34m()\u001b[0m\n\u001b[1;32m      1\u001b[0m \u001b[0;32mfrom\u001b[0m \u001b[0mgoogle\u001b[0m\u001b[0;34m.\u001b[0m\u001b[0mcolab\u001b[0m \u001b[0;32mimport\u001b[0m \u001b[0mdrive\u001b[0m\u001b[0;34m\u001b[0m\u001b[0;34m\u001b[0m\u001b[0m\n\u001b[0;32m----> 2\u001b[0;31m \u001b[0mdrive\u001b[0m\u001b[0;34m.\u001b[0m\u001b[0mmount\u001b[0m\u001b[0;34m(\u001b[0m\u001b[0;34m'/content/drive'\u001b[0m\u001b[0;34m)\u001b[0m\u001b[0;34m\u001b[0m\u001b[0;34m\u001b[0m\u001b[0m\n\u001b[0m",
            "\u001b[0;32m/usr/local/lib/python3.6/dist-packages/google/colab/drive.py\u001b[0m in \u001b[0;36mmount\u001b[0;34m(mountpoint, force_remount, timeout_ms, use_metadata_server)\u001b[0m\n\u001b[1;32m    232\u001b[0m       \u001b[0mauth_prompt\u001b[0m \u001b[0;34m=\u001b[0m \u001b[0md\u001b[0m\u001b[0;34m.\u001b[0m\u001b[0mmatch\u001b[0m\u001b[0;34m.\u001b[0m\u001b[0mgroup\u001b[0m\u001b[0;34m(\u001b[0m\u001b[0;36m1\u001b[0m\u001b[0;34m)\u001b[0m \u001b[0;34m+\u001b[0m \u001b[0;34m'\\nEnter your authorization code:\\n'\u001b[0m\u001b[0;34m\u001b[0m\u001b[0;34m\u001b[0m\u001b[0m\n\u001b[1;32m    233\u001b[0m       \u001b[0;32mwith\u001b[0m \u001b[0mopen\u001b[0m\u001b[0;34m(\u001b[0m\u001b[0mfifo\u001b[0m\u001b[0;34m,\u001b[0m \u001b[0;34m'w'\u001b[0m\u001b[0;34m)\u001b[0m \u001b[0;32mas\u001b[0m \u001b[0mfifo_file\u001b[0m\u001b[0;34m:\u001b[0m\u001b[0;34m\u001b[0m\u001b[0;34m\u001b[0m\u001b[0m\n\u001b[0;32m--> 234\u001b[0;31m         \u001b[0mfifo_file\u001b[0m\u001b[0;34m.\u001b[0m\u001b[0mwrite\u001b[0m\u001b[0;34m(\u001b[0m\u001b[0m_getpass\u001b[0m\u001b[0;34m.\u001b[0m\u001b[0mgetpass\u001b[0m\u001b[0;34m(\u001b[0m\u001b[0mauth_prompt\u001b[0m\u001b[0;34m)\u001b[0m \u001b[0;34m+\u001b[0m \u001b[0;34m'\\n'\u001b[0m\u001b[0;34m)\u001b[0m\u001b[0;34m\u001b[0m\u001b[0;34m\u001b[0m\u001b[0m\n\u001b[0m\u001b[1;32m    235\u001b[0m       \u001b[0mwrote_to_fifo\u001b[0m \u001b[0;34m=\u001b[0m \u001b[0;32mTrue\u001b[0m\u001b[0;34m\u001b[0m\u001b[0;34m\u001b[0m\u001b[0m\n\u001b[1;32m    236\u001b[0m   \u001b[0;32mif\u001b[0m \u001b[0;32mnot\u001b[0m \u001b[0mwrote_to_fifo\u001b[0m\u001b[0;34m:\u001b[0m\u001b[0;34m\u001b[0m\u001b[0;34m\u001b[0m\u001b[0m\n",
            "\u001b[0;32m/usr/local/lib/python3.6/dist-packages/ipykernel/kernelbase.py\u001b[0m in \u001b[0;36mgetpass\u001b[0;34m(self, prompt, stream)\u001b[0m\n\u001b[1;32m    686\u001b[0m             \u001b[0mself\u001b[0m\u001b[0;34m.\u001b[0m\u001b[0m_parent_ident\u001b[0m\u001b[0;34m,\u001b[0m\u001b[0;34m\u001b[0m\u001b[0;34m\u001b[0m\u001b[0m\n\u001b[1;32m    687\u001b[0m             \u001b[0mself\u001b[0m\u001b[0;34m.\u001b[0m\u001b[0m_parent_header\u001b[0m\u001b[0;34m,\u001b[0m\u001b[0;34m\u001b[0m\u001b[0;34m\u001b[0m\u001b[0m\n\u001b[0;32m--> 688\u001b[0;31m             \u001b[0mpassword\u001b[0m\u001b[0;34m=\u001b[0m\u001b[0;32mTrue\u001b[0m\u001b[0;34m,\u001b[0m\u001b[0;34m\u001b[0m\u001b[0;34m\u001b[0m\u001b[0m\n\u001b[0m\u001b[1;32m    689\u001b[0m         )\n\u001b[1;32m    690\u001b[0m \u001b[0;34m\u001b[0m\u001b[0m\n",
            "\u001b[0;32m/usr/local/lib/python3.6/dist-packages/ipykernel/kernelbase.py\u001b[0m in \u001b[0;36m_input_request\u001b[0;34m(self, prompt, ident, parent, password)\u001b[0m\n\u001b[1;32m    733\u001b[0m             \u001b[0;32mexcept\u001b[0m \u001b[0mKeyboardInterrupt\u001b[0m\u001b[0;34m:\u001b[0m\u001b[0;34m\u001b[0m\u001b[0;34m\u001b[0m\u001b[0m\n\u001b[1;32m    734\u001b[0m                 \u001b[0;31m# re-raise KeyboardInterrupt, to truncate traceback\u001b[0m\u001b[0;34m\u001b[0m\u001b[0;34m\u001b[0m\u001b[0;34m\u001b[0m\u001b[0m\n\u001b[0;32m--> 735\u001b[0;31m                 \u001b[0;32mraise\u001b[0m \u001b[0mKeyboardInterrupt\u001b[0m\u001b[0;34m\u001b[0m\u001b[0;34m\u001b[0m\u001b[0m\n\u001b[0m\u001b[1;32m    736\u001b[0m             \u001b[0;32melse\u001b[0m\u001b[0;34m:\u001b[0m\u001b[0;34m\u001b[0m\u001b[0;34m\u001b[0m\u001b[0m\n\u001b[1;32m    737\u001b[0m                 \u001b[0;32mbreak\u001b[0m\u001b[0;34m\u001b[0m\u001b[0;34m\u001b[0m\u001b[0m\n",
            "\u001b[0;31mKeyboardInterrupt\u001b[0m: "
          ]
        }
      ]
    },
    {
      "cell_type": "code",
      "metadata": {
        "id": "GElXXmLmtqwR",
        "colab": {
          "base_uri": "https://localhost:8080/",
          "height": 34
        },
        "outputId": "ee52e767-386c-4dce-831d-9caea29d835c"
      },
      "source": [
        "text[:100]"
      ],
      "execution_count": null,
      "outputs": [
        {
          "output_type": "execute_result",
          "data": {
            "text/plain": [
              "'Chapter 1\\n\\n\\nHappy families are all alike; every unhappy family is unhappy in its own\\nway.\\n\\nEverythin'"
            ]
          },
          "metadata": {
            "tags": []
          },
          "execution_count": 10
        }
      ]
    },
    {
      "cell_type": "markdown",
      "metadata": {
        "id": "DVs1mNHLtqwT"
      },
      "source": [
        "### Tokenization\n",
        "\n",
        "In the cells, below, I'm creating a couple **dictionaries** to convert the characters to and from integers. Encoding the characters as integers makes it easier to use as input in the network.\n",
        "\n",
        "Your can read more about Python **set data types** in this [link](https://docs.python.org/3.8/library/stdtypes.html#set-types-set-frozenset). Also, check [here](http://book.pythontips.com/en/latest/enumerate.html) about the `enumerate()` Python built-in function."
      ]
    },
    {
      "cell_type": "code",
      "metadata": {
        "id": "8pI8mhSJtqwW",
        "colab": {
          "base_uri": "https://localhost:8080/",
          "height": 54
        },
        "outputId": "3f2c422e-2dab-47e7-b859-7d35a5decda0"
      },
      "source": [
        "# encode the text and map each character to an integer and vice versa\n",
        "\n",
        "# we create two dictionaries:\n",
        "# 1. int2char, which maps integers to characters\n",
        "# 2. char2int, which maps characters to unique integers\n",
        "chars = tuple(set(text))             #set() is an unordered collection of unique elements in text\n",
        "int2char = dict(enumerate(chars))\n",
        "print(int2char)\n",
        "char2int = {ch: ii for ii, ch in int2char.items()}\n",
        "\n",
        "# encode the text\n",
        "encoded = np.array([char2int[ch] for ch in text])"
      ],
      "execution_count": null,
      "outputs": [
        {
          "output_type": "stream",
          "text": [
            "{0: '&', 1: 'L', 2: '9', 3: 'V', 4: 'H', 5: '4', 6: 'g', 7: 'F', 8: 'X', 9: '7', 10: 'f', 11: 'O', 12: ':', 13: ' ', 14: 'd', 15: 'S', 16: 'K', 17: 'x', 18: ')', 19: 'z', 20: '0', 21: '8', 22: 'a', 23: 'j', 24: 'l', 25: 'D', 26: '?', 27: 't', 28: ';', 29: 'w', 30: '(', 31: '*', 32: '/', 33: 'u', 34: 'q', 35: '_', 36: 'I', 37: 'W', 38: 'G', 39: 'Q', 40: 'T', 41: ',', 42: 'M', 43: 'y', 44: 'n', 45: 'C', 46: 'A', 47: 'R', 48: '@', 49: 'P', 50: 'E', 51: 's', 52: '\\n', 53: '`', 54: \"'\", 55: 'o', 56: 'N', 57: '6', 58: 'J', 59: 'v', 60: 'B', 61: '2', 62: '$', 63: '5', 64: '\"', 65: 'i', 66: '3', 67: 'Y', 68: 'r', 69: '!', 70: '1', 71: 'Z', 72: '%', 73: 'U', 74: 'e', 75: 'b', 76: '-', 77: 'c', 78: '.', 79: 'p', 80: 'm', 81: 'k', 82: 'h'}\n"
          ],
          "name": "stdout"
        }
      ]
    },
    {
      "cell_type": "markdown",
      "metadata": {
        "id": "6YY7aFP4tqwY"
      },
      "source": [
        "And we can see those same characters from above, encoded as integers."
      ]
    },
    {
      "cell_type": "code",
      "metadata": {
        "id": "SDXW8HGwtqwZ",
        "colab": {
          "base_uri": "https://localhost:8080/",
          "height": 118
        },
        "outputId": "b2a354c6-0646-4c55-a8cf-4851191811d2"
      },
      "source": [
        "encoded[:100]"
      ],
      "execution_count": null,
      "outputs": [
        {
          "output_type": "execute_result",
          "data": {
            "text/plain": [
              "array([53, 42, 59, 81, 41, 80, 27, 31, 10,  8,  8,  8, 24, 59, 81, 81, 43,\n",
              "       31, 52, 59, 32, 21,  0, 21, 80,  6, 31, 59, 27, 80, 31, 59,  0,  0,\n",
              "       31, 59,  0, 21,  4, 80, 20, 31, 80, 18, 80, 27, 43, 31, 33, 11, 42,\n",
              "       59, 81, 81, 43, 31, 52, 59, 32, 21,  0, 43, 31, 21,  6, 31, 33, 11,\n",
              "       42, 59, 81, 81, 43, 31, 21, 11, 31, 21, 41,  6, 31, 64, 12, 11,  8,\n",
              "       12, 59, 43, 44,  8,  8, 29, 18, 80, 27, 43, 41, 42, 21, 11])"
            ]
          },
          "metadata": {
            "tags": []
          },
          "execution_count": 9
        }
      ]
    },
    {
      "cell_type": "markdown",
      "metadata": {
        "id": "CaSmRHx7tqwc"
      },
      "source": [
        "## Part II. Pre-processing the data\n",
        "\n",
        "As you can see in our char-RNN image above, our LSTM expects an input that is **one-hot encoded** meaning that each character is converted into an integer (via our created dictionary) and *then* converted into a column vector where only it's corresponding integer index will have the value of 1 and the rest of the vector will be filled with 0's. Since we're one-hot encoding the data, let's make a function to do that!\n"
      ]
    },
    {
      "cell_type": "code",
      "metadata": {
        "id": "m1ysBZvjtqwd"
      },
      "source": [
        "def one_hot_encode(arr, n_labels):\n",
        "    \n",
        "    num_elements = arr.shape[0]*arr.shape[1]\n",
        "    \n",
        "    # Initialize the the encoded array\n",
        "    one_hot = np.zeros([num_elements, n_labels])\n",
        "    \n",
        "    # Fill the appropriate elements with ones\n",
        "    one_hot[np.arange(one_hot.shape[0]), arr.reshape([num_elements])] = 1.\n",
        "    \n",
        "    # Reshape as (n_batch,seq_length,n_labels)\n",
        "    \n",
        "    return one_hot.reshape(arr.shape[0],arr.shape[1],n_labels)"
      ],
      "execution_count": null,
      "outputs": []
    },
    {
      "cell_type": "code",
      "metadata": {
        "id": "I9XcO0EYtqwh",
        "colab": {
          "base_uri": "https://localhost:8080/",
          "height": 134
        },
        "outputId": "cc70b873-44b0-44ca-8b0c-06bfd715497b"
      },
      "source": [
        "# check that the function works as expected\n",
        "test_seq = np.array([[3, 5, 1],[2,4,6]])\n",
        "one_hot = one_hot_encode(test_seq, 8)\n",
        "\n",
        "print(one_hot)"
      ],
      "execution_count": null,
      "outputs": [
        {
          "output_type": "stream",
          "text": [
            "[[[0. 0. 0. 1. 0. 0. 0. 0.]\n",
            "  [0. 0. 0. 0. 0. 1. 0. 0.]\n",
            "  [0. 1. 0. 0. 0. 0. 0. 0.]]\n",
            "\n",
            " [[0. 0. 1. 0. 0. 0. 0. 0.]\n",
            "  [0. 0. 0. 0. 1. 0. 0. 0.]\n",
            "  [0. 0. 0. 0. 0. 0. 1. 0.]]]\n"
          ],
          "name": "stdout"
        }
      ]
    },
    {
      "cell_type": "markdown",
      "metadata": {
        "id": "S1QyzGy4tqwk"
      },
      "source": [
        "## Part III. Making training mini-batches\n",
        "\n",
        "\n",
        "To train on this data, we also want to create mini-batches for training. Remember that we want our batches to be multiple sequences of some desired number of sequence steps. Considering a simple example, our batches would look like this."
      ]
    },
    {
      "cell_type": "code",
      "metadata": {
        "id": "e6j5V0X8tqwl",
        "colab": {
          "base_uri": "https://localhost:8080/",
          "height": 221
        },
        "outputId": "adad7046-0953-403d-c8cf-a3a3493f0b37"
      },
      "source": [
        "Image(url= \"http://digtime.cn/uploads/images/201907/12/1/Tt94B4Htu7.png\", width=700, height=200)"
      ],
      "execution_count": null,
      "outputs": [
        {
          "output_type": "execute_result",
          "data": {
            "text/html": [
              "<img src=\"http://digtime.cn/uploads/images/201907/12/1/Tt94B4Htu7.png\" width=\"700\" height=\"200\"/>"
            ],
            "text/plain": [
              "<IPython.core.display.Image object>"
            ]
          },
          "metadata": {
            "tags": []
          },
          "execution_count": 12
        }
      ]
    },
    {
      "cell_type": "markdown",
      "metadata": {
        "id": "zJuBHvYMtqwo"
      },
      "source": [
        "In this example, we'll take the encoded characters (passed in as the `arr` parameter) and split them into multiple sequences, given by `batch_size`. Each of our sequences will be `seq_length` long.\n",
        "\n",
        "### Creating Batches\n",
        "\n",
        "**1. The first thing we need to do is discard some of the text so we only have completely full mini-batches. **\n",
        "\n",
        "Each batch contains $N \\times M$ characters, where **$N$ is the batch size** (the number of sequences in a batch) and $M$ is the seq_length or number of time steps in a sequence. Then, to get the total number of batches, $K$, that we can make from the array `arr`, you divide the length of `arr` by the number of characters per batch. Once you know the number of batches, you can get the total number of characters to keep from `arr`, $N * M * K$.\n",
        "\n",
        "**2. After that, we need to split `arr` into batches. ** \n",
        "\n",
        "You can do this using `arr.reshape(size)` where `size` is a tuple containing the dimensions sizes of the reshaped array. We know we want $N$ sequences in a batch, so let's make that the size of the first dimension. For the second dimension, you can use `-1` as a placeholder in the size, it'll fill up the array with the appropriate data for you. After this, you should have an array that is $N \\times (M * K)$.\n",
        "\n",
        "**3. Now that we have this array, we can iterate through it to get our mini-batches. **\n",
        "\n",
        "The idea is each batch is a $N \\times M$ window on the $N \\times (M * K)$ array. For each subsequent batch, the window moves over by `seq_length`. We also want to create both the input and target arrays. Remember that the targets are just the inputs shifted over by one character. \n",
        "\n",
        "> **Exercise:** Understand the following code for creating batches in the function below. **Note:** Take a look to this [link](https://stackoverflow.com/questions/231767/what-does-the-yield-keyword-do) to understand what `yield` does."
      ]
    },
    {
      "cell_type": "code",
      "metadata": {
        "id": "YB6n0q9Xtqwp"
      },
      "source": [
        "def get_batches(arr, batch_size, seq_length):\n",
        "    '''Create a generator that returns batches of size\n",
        "       batch_size x seq_length from arr.\n",
        "       \n",
        "       Arguments\n",
        "       ---------\n",
        "       arr: Array you want to make batches from\n",
        "       batch_size: Batch size, the number of sequences per batch\n",
        "       seq_length: Number of encoded chars in a sequence\n",
        "    '''\n",
        "    \n",
        "    batch_size_total = batch_size * seq_length\n",
        "    # total number of batches we can make\n",
        "    n_batches = len(arr)//batch_size_total\n",
        "    \n",
        "    # Keep only enough characters to make full batches\n",
        "    arr = arr[:n_batches * batch_size_total]\n",
        "    # Reshape into batch_size rows\n",
        "    arr = arr.reshape((batch_size, -1))      # IMPORTANT TO UNDERSTAND THE DIMENSIONS OF arr\n",
        "    \n",
        "    # iterate through the array. We read every of the n_batches sequeces in windows of seq_length characters\n",
        "    for n in range(0, arr.shape[1], seq_length):\n",
        "        # The features\n",
        "        x = arr[:, n:n+seq_length]\n",
        "        # The targets, shifted by one\n",
        "        y = np.zeros_like(x)\n",
        "        \n",
        "        if (n+seq_length<arr.shape[1]):     \n",
        "            y[:,-1] = arr[:, n+seq_length]\n",
        "            y[:, :-1] = x[:, 1:]\n",
        "        else: # If n+seq_length == arr.shape[1], then we are done! (arr[:, n+seq_length] yields an indexing error).\n",
        "              # We return a window with one column less (as the target for the last character is not available)\n",
        "            x = arr[:, n:n+seq_length-1]\n",
        "            y = np.zeros_like(x)\n",
        "            y[:, :-1] = x[:, 1:]\n",
        "            y[:,-1] = arr[:,-1]            \n",
        "        yield x, y"
      ],
      "execution_count": null,
      "outputs": []
    },
    {
      "cell_type": "markdown",
      "metadata": {
        "id": "2dbWAnvctqwr"
      },
      "source": [
        "### Test Your Implementation\n",
        "\n",
        "Lets make some data sets and we can check out what's going on as we batch data. Here, as an example, I'm going to use a batch size of 8 and 50 sequence steps."
      ]
    },
    {
      "cell_type": "code",
      "metadata": {
        "id": "kdWj4xnYtqwt",
        "colab": {
          "base_uri": "https://localhost:8080/",
          "height": 50
        },
        "outputId": "83d3d32e-44d7-4df7-e550-0f7c41ad3b62"
      },
      "source": [
        "batches = get_batches(encoded, 8, 50)\n",
        "x,y = next(batches)\n",
        "print(x.shape)\n",
        "print(y.shape)"
      ],
      "execution_count": null,
      "outputs": [
        {
          "output_type": "stream",
          "text": [
            "(8, 50)\n",
            "(8, 50)\n"
          ],
          "name": "stdout"
        }
      ]
    },
    {
      "cell_type": "code",
      "metadata": {
        "scrolled": true,
        "id": "QNt5nPzktqwz",
        "colab": {
          "base_uri": "https://localhost:8080/",
          "height": 336
        },
        "outputId": "63df78d5-f261-44da-8790-6fe31cc8c2d6"
      },
      "source": [
        "# printing out the first 10 items in a sequence\n",
        "print('x\\n', x[:10, :10])\n",
        "print('\\ny\\n', y[:10, :10])"
      ],
      "execution_count": null,
      "outputs": [
        {
          "output_type": "stream",
          "text": [
            "x\n",
            " [[53 42 59 81 41 80 27 31 10  8]\n",
            " [ 6 64 11 31 41 42 59 41 31 59]\n",
            " [80 11 79 31 64 27 31 59 31 52]\n",
            " [ 6 31 41 42 80 31 75 42 21 80]\n",
            " [31  6 59 12 31 42 80 27 31 41]\n",
            " [75 33  6  6 21 64 11 31 59 11]\n",
            " [31  9 11 11 59 31 42 59 79 31]\n",
            " [54  3  0 64 11  6  4 43 44 31]]\n",
            "\n",
            "y\n",
            " [[42 59 81 41 80 27 31 10  8  8]\n",
            " [64 11 31 41 42 59 41 31 59 41]\n",
            " [11 79 31 64 27 31 59 31 52 64]\n",
            " [31 41 42 80 31 75 42 21 80 52]\n",
            " [ 6 59 12 31 42 80 27 31 41 80]\n",
            " [33  6  6 21 64 11 31 59 11 79]\n",
            " [ 9 11 11 59 31 42 59 79 31  6]\n",
            " [ 3  0 64 11  6  4 43 44 31 62]]\n"
          ],
          "name": "stdout"
        }
      ]
    },
    {
      "cell_type": "markdown",
      "metadata": {
        "id": "c6CoUBRUtqw3"
      },
      "source": [
        "The above output should look something like \n",
        "```\n",
        "x\n",
        " [[25  8 60 11 45 27 28 73  1  2]\n",
        " [17  7 20 73 45  8 60 45 73 60]\n",
        " [27 20 80 73  7 28 73 60 73 65]\n",
        " [17 73 45  8 27 73 66  8 46 27]\n",
        " [73 17 60 12 73  8 27 28 73 45]\n",
        " [66 64 17 17 46  7 20 73 60 20]\n",
        " [73 76 20 20 60 73  8 60 80 73]\n",
        " [47 35 43  7 20 17 24 50 37 73]]\n",
        "\n",
        "y\n",
        " [[ 8 60 11 45 27 28 73  1  2  2]\n",
        " [ 7 20 73 45  8 60 45 73 60 45]\n",
        " [20 80 73  7 28 73 60 73 65  7]\n",
        " [73 45  8 27 73 66  8 46 27 65]\n",
        " [17 60 12 73  8 27 28 73 45 27]\n",
        " [64 17 17 46  7 20 73 60 20 80]\n",
        " [76 20 20 60 73  8 60 80 73 17]\n",
        " [35 43  7 20 17 24 50 37 73 36]]\n",
        " ```\n",
        " although the exact numbers may be different. Check to make sure the data is shifted over one step for `y`."
      ]
    },
    {
      "cell_type": "markdown",
      "metadata": {
        "id": "wixRrz2wtqw4"
      },
      "source": [
        "---\n",
        "## Part IV. Defining the network with PyTorch\n",
        "\n",
        "Below is where you'll define the network."
      ]
    },
    {
      "cell_type": "code",
      "metadata": {
        "id": "Zz0mOIUUtqw5",
        "colab": {
          "base_uri": "https://localhost:8080/",
          "height": 221
        },
        "outputId": "c2db11cb-fa0e-4083-a557-eeacdd07eb11"
      },
      "source": [
        "Image(url= \"http://digtime.cn/uploads/images/201907/12/1/ZG9JIjidmz.png\", width=500, height=200)"
      ],
      "execution_count": null,
      "outputs": [
        {
          "output_type": "execute_result",
          "data": {
            "text/html": [
              "<img src=\"http://digtime.cn/uploads/images/201907/12/1/ZG9JIjidmz.png\" width=\"500\" height=\"200\"/>"
            ],
            "text/plain": [
              "<IPython.core.display.Image object>"
            ]
          },
          "metadata": {
            "tags": []
          },
          "execution_count": 16
        }
      ]
    },
    {
      "cell_type": "markdown",
      "metadata": {
        "id": "geweNK_1tqw7"
      },
      "source": [
        "#### Model Structure\n",
        "\n",
        "In `__init__` the suggested structure is as follows:\n",
        "* Create and store the necessary dictionaries \n",
        "* Define an LSTM layer that takes as params: an input size (the number of characters), a hidden layer size `n_hidden`, a number of layers `n_layers`, a dropout probability `drop_prob`, and a batch_first boolean (True, since we are batching)\n",
        "* Define a dropout layer with `drop_prob`\n",
        "* Define a fully-connected layer with params: input size `n_hidden` and output size (the number of characters)\n",
        "* Finally, initialize LSTM hidden state (h_0) and memory (c_0)\n",
        "\n",
        "\n",
        "#### LSTM Inputs/Outputs\n",
        "\n",
        "You can create a basic [LSTM layer](https://pytorch.org/docs/stable/nn.html#lstm) as follows\n",
        "\n",
        "```python\n",
        "self.lstm = nn.LSTM(input_size, n_hidden, n_layers, \n",
        "                            dropout=drop_prob, batch_first=True)\n",
        "```\n",
        "\n",
        "where `input_size` is the number of characters this cell expects to see as sequential input, and `n_hidden` is the number of units in the hidden layers in the cell. And we can add dropout by adding a dropout parameter with a specified probability; this will automatically add dropout to the inputs or outputs. \n",
        "\n",
        "\n",
        "> **Exercise:** Complete the following code\n"
      ]
    },
    {
      "cell_type": "code",
      "metadata": {
        "id": "pJwu-N_vtqw8"
      },
      "source": [
        "class CharLSTM(nn.Module):\n",
        "    \n",
        "    def __init__(self, chars, hidden_dim=256, n_layers=2,drop_prob=0.5):\n",
        "        \n",
        "        ''' n_chars is the number of different characters '''        \n",
        "        \n",
        "        super().__init__()\n",
        "        self.drop_prob = drop_prob\n",
        "        self.n_layers = n_layers\n",
        "        self.hidden_dim = hidden_dim        \n",
        "        \n",
        "        ## TODO: define the LSTM. Do not forget to include the dropout between LSTM layers!\n",
        "        self.lstm = nn.LSTM(len(self.chars), hidden_dim, n_layers, \n",
        "                            dropout=drop_prob, batch_first=True)\n",
        "        \n",
        "        ## TODO: define a dropout layer\n",
        "        self.dropout = nn.Dropout(drop_prob)\n",
        "        \n",
        "        ## TODO: define the final, fully-connected output layer\n",
        "        self.fc = nn.Linear(hidden_dim, len(self.chars))\n",
        "        \n",
        "        self.logsoftmax = nn.LogSoftmax(dim=1) \n",
        "      \n",
        "    \n",
        "    def forward(self, x, h=None):\n",
        "        ''' Forward pass through the network. \n",
        "            These inputs are x, and the LSTM initial hidden/cell state h. \n",
        "            When h is not provided, default initializaiton (all zeros) is used.'''\n",
        "        \n",
        "        if (h==None):\n",
        "            #No initial hidden_state and memory are provided. They are set to 0s\n",
        "            r_output, hidden = self.lstm(x)  \n",
        "        \n",
        "        else:\n",
        "            #Non-zero initial state. This is used for generating new text\n",
        "            r_output, hidden = self.lstm(x,h)     \n",
        "        \n",
        "        ## TODO: pass through a dropout layer\n",
        "        out = self.dropout(r_output)\n",
        "        \n",
        "        # Stack up LSTM outputs\n",
        "        out = out.reshape(-1, self.hidden_dim) \n",
        "        \n",
        "        ## TODO: put x through the fully-connected layer and a logsoftmax output\n",
        "        out = self.fc(out)\n",
        "        out = self.logsoftmax(out)\n",
        "        \n",
        "        # return the final output and the hidden state\n",
        "        return out, hidden\n",
        "    \n",
        "\n",
        "        "
      ],
      "execution_count": null,
      "outputs": []
    },
    {
      "cell_type": "markdown",
      "metadata": {
        "id": "_Bla1baJtqw-"
      },
      "source": [
        "The following code extends the above class by including a training method, and also the methods to perform one-hot encoding and get the mini-batches from the text. A couple of details about training: \n",
        "* Within the batch loop, we detach the hidden state from its history; this time setting it equal to a new *tuple* variable because an LSTM has a hidden state that is a tuple of the hidden and cell states.\n",
        "* We use [`clip_grad_norm_`](https://pytorch.org/docs/stable/_modules/torch/nn/utils/clip_grad.html) to help prevent exploding gradients.\n",
        "\n",
        "> **Exercise:** Complete the following code\n"
      ]
    },
    {
      "cell_type": "code",
      "metadata": {
        "id": "_hsvwLQitqw_"
      },
      "source": [
        "class CharLSTM_extended(CharLSTM):\n",
        "    \n",
        "    def __init__(self, batch_size, sequence_length, chars, hidden_dim=256, n_layers=2, \n",
        "                 epochs=5, drop_prob=0.5, lr=0.001,clip=5):\n",
        "        \n",
        "        self.chars = chars\n",
        "\n",
        "        self.n_char = len(chars)\n",
        "            \n",
        "        super().__init__(self.n_char, hidden_dim, n_layers,drop_prob)  \n",
        "        \n",
        "        self.batch_size = batch_size\n",
        "        \n",
        "        self.clip = clip\n",
        "        \n",
        "        self.seq_length = sequence_length\n",
        "        \n",
        "        self.num_layers = n_layers\n",
        "        \n",
        "        self.lr = lr #Learning Rate\n",
        "    \n",
        "        self.optim = optim.Adam(self.parameters(), self.lr)\n",
        "        \n",
        "        self.epochs = epochs\n",
        "        \n",
        "        self.criterion = nn.NLLLoss()             \n",
        "        \n",
        "        # A list to store the loss evolution along training\n",
        "        \n",
        "        self.loss_during_training = [] \n",
        "        \n",
        "        # Setting GPU training if available\n",
        "        self.device = torch.device(\"cuda\" if torch.cuda.is_available() else \"cpu\")\n",
        "\n",
        "        self.to(self.device)\n",
        "        \n",
        "        # Training mode by default\n",
        "        self.train()\n",
        "        \n",
        "    def get_batches(self,arr):\n",
        "      '''Create a generator that returns batches of size\n",
        "        batch_size x seq_length from arr.\n",
        "        \n",
        "        Arguments\n",
        "        ---------\n",
        "        arr: Array you want to make batches from\n",
        "        batch_size: Batch size, the number of sequences per batch\n",
        "        seq_length: Number of encoded chars in a sequence\n",
        "      '''\n",
        "    \n",
        "      batch_size_total = self.batch_size * self.seq_length\n",
        "      # total number of batches we can make\n",
        "      n_batches = len(arr)//batch_size_total\n",
        "      \n",
        "      # Keep only enough characters to make full batches\n",
        "      arr = arr[:n_batches * batch_size_total]\n",
        "      # Reshape into batch_size rows\n",
        "      arr = arr.reshape((self.batch_size, -1))      # IMPORTANT TO UNDERSTAND THE DIMENSIONS OF arr\n",
        "      \n",
        "      # iterate through the array. We read every of the n_batches sequeces in windows of seq_length characters\n",
        "      for n in range(0, arr.shape[1], self.seq_length):\n",
        "          # The features\n",
        "          x = arr[:, n:n+self.seq_length]\n",
        "          # The targets, shifted by one\n",
        "          y = np.zeros_like(x)\n",
        "          \n",
        "          if (n+self.seq_length<arr.shape[1]):     \n",
        "              y[:,-1] = arr[:, n+self.seq_length]\n",
        "              y[:, :-1] = x[:, 1:]\n",
        "          else: # If n+seq_length == arr.shape[1], then we are done! (arr[:, n+seq_length] yields an indexing error).\n",
        "                # We return a window with one column less (as the target for the last character is not available)\n",
        "              x = arr[:, n:n+self.seq_length-1]\n",
        "              y = np.zeros_like(x)\n",
        "              y[:, :-1] = x[:, 1:]\n",
        "              y[:,-1] = arr[:,-1]            \n",
        "          yield x, y\n",
        "              \n",
        "            \n",
        "    def one_hot_encode(self,arr):\n",
        "        \n",
        "        num_elements = arr.shape[0]*arr.shape[1]\n",
        "    \n",
        "        # Initialize the the encoded array\n",
        "        one_hot = np.zeros([num_elements, self.n_char])\n",
        "        \n",
        "        # Fill the appropriate elements with ones\n",
        "        one_hot[np.arange(one_hot.shape[0]), arr.reshape([num_elements])] = 1.\n",
        "        \n",
        "        # Reshape as (n_batch,seq_length,n_labels)\n",
        "        \n",
        "        return one_hot.reshape(arr.shape[0],arr.shape[1],self.n_char)\n",
        "    \n",
        "    \n",
        "    def trainloop(self,encoded_text):\n",
        "        \n",
        "        for e in range(self.epochs):\n",
        "            \n",
        "            h = None\n",
        "            counter = 0.\n",
        "            \n",
        "            start_time = time.time()\n",
        "            \n",
        "            running_loss = 0.\n",
        "            \n",
        "            for x, y in self.get_batches(encoded_text):\n",
        "                \n",
        "                counter += 1.\n",
        "                \n",
        "                # One-hot encode our data and make them Torch tensors\n",
        "                x = self.one_hot_encode(x)\n",
        "\n",
        "                x, y = torch.from_numpy(x).to(self.device), torch.from_numpy(y).to(self.device)\n",
        "                \n",
        "                # TO DO: reset gradients \n",
        "                self.optim.zero_grad()  \n",
        "                \n",
        "                # TO DO: compute output\n",
        "               \n",
        "                out, hidden = self.forward(x.float(),h)\n",
        "\n",
        "                \n",
        "                # Calculate the loss and perform backprop\n",
        "                loss = self.criterion(out, y.reshape([out.shape[0],])) \n",
        "                # TO DO: compute gradients\n",
        "                loss.backward()\n",
        "              \n",
        "                # `clip_grad_norm` helps prevent the exploding gradient problem in RNNs / LSTMs.\n",
        "                nn.utils.clip_grad_norm_(self.parameters(), self.clip)\n",
        "                \n",
        "                self.optim.step() \n",
        "                \n",
        "                running_loss += loss.item()\n",
        "                \n",
        "            self.loss_during_training.append(running_loss/counter)\n",
        "            \n",
        "            if(e % 1 == 0): \n",
        "                \n",
        "                print(\"Epoch %d. Training loss: %f, Time per epoch: %f seconds\" \n",
        "                      %(e,self.loss_during_training[-1],(time.time() - start_time)))            \n"
      ],
      "execution_count": null,
      "outputs": []
    },
    {
      "cell_type": "code",
      "metadata": {
        "id": "fnv1RhxTtqxC"
      },
      "source": [
        "my_charLSTM = CharLSTM_extended(batch_size=128,sequence_length=100,chars=chars,\n",
        "                                epochs=10,hidden_dim=512,n_layers=2,drop_prob=0.3)\n",
        "\n"
      ],
      "execution_count": null,
      "outputs": []
    },
    {
      "cell_type": "code",
      "metadata": {
        "id": "HOhW6E9LtqxF",
        "colab": {
          "base_uri": "https://localhost:8080/",
          "height": 185
        },
        "outputId": "9727e3ce-a478-4925-e107-b11a9e0d6c7d"
      },
      "source": [
        "my_charLSTM.trainloop(encoded)"
      ],
      "execution_count": null,
      "outputs": [
        {
          "output_type": "stream",
          "text": [
            "Epoch 0. Training loss: 3.113573, Time per epoch: 628.133122 seconds\n",
            "Epoch 1. Training loss: 2.497109, Time per epoch: 631.004487 seconds\n",
            "Epoch 2. Training loss: 2.200430, Time per epoch: 641.037069 seconds\n",
            "Epoch 3. Training loss: 2.016860, Time per epoch: 630.368532 seconds\n",
            "Epoch 4. Training loss: 1.883237, Time per epoch: 631.017653 seconds\n",
            "Epoch 5. Training loss: 1.780244, Time per epoch: 628.930894 seconds\n",
            "Epoch 6. Training loss: 1.695183, Time per epoch: 616.803329 seconds\n",
            "Epoch 7. Training loss: 1.624350, Time per epoch: 618.623477 seconds\n",
            "Epoch 8. Training loss: 1.564704, Time per epoch: 615.629941 seconds\n",
            "Epoch 9. Training loss: 1.514780, Time per epoch: 612.118883 seconds\n"
          ],
          "name": "stdout"
        }
      ]
    },
    {
      "cell_type": "markdown",
      "metadata": {
        "id": "eukgRMIntqxL"
      },
      "source": [
        "## Part V. Getting the best model\n",
        "\n",
        "To set your hyperparameters to get the best performance, you'll want to watch the training and validation losses. If your training loss is much lower than the validation loss, you're overfitting. Increase regularization (more dropout) or use a smaller network. If the training and validation losses are close, you're underfitting so you can increase the size of the network.\n",
        "\n",
        "> **Exercise:** \n",
        "> - Separate the text intro training text and validation text.\n",
        "> - Modify the class CharLSTM_extended that monitors the validation loss during training\n",
        "> - Save your model after every epoch (save the parameters in a different file for every epoch). To do so, include a method in the class to save the model parameters. Then, you call it after the end of every epoch.\n",
        "> - Perform early stopping. I.e., load the parameters of the last epoch in which validation loss was decreasing.\n",
        "\n",
        "Here's some good advice from [Andrej Karpathy](https://github.com/karpathy/char-rnn#tips-and-tricks) on training the network.\n",
        "\n",
        "In order to save at every epoch, the following code can help. Here we are saving the parameters needed to create the same architecture, the hidden layer hyperparameters and the text characters.\n",
        "\n",
        "```python\n",
        "\n",
        "# change the name, for saving multiple files\n",
        "model_name = 'rnn_' + str(e) + '_epoch.net'\n",
        "\n",
        "checkpoint = {'hidden_dim': my_charLSTM.hidden_dim,\n",
        "              'n_layers': my_charLSTM.n_layers,\n",
        "              'batch_size': my_charLSTM.batch_size,\n",
        "              'sequence_length': my_charLSTM.seq_length,\n",
        "              'state_dict': my_charLSTM.state_dict(),\n",
        "              'chars': my_charLSTM.chars}\n",
        "\n",
        "with open(model_name, 'wb') as f:\n",
        "    torch.save(checkpoint, f)\n",
        "```\n",
        "\n",
        "Then, if you want to restore your model, you can use the following code\n",
        "\n",
        "```python\n",
        "\n",
        "# Here we have loaded in a model that trained over 20 epochs `rnn_20_epoch.net`\n",
        "with open('rnn_20_epoch.net', 'rb') as f:\n",
        "    checkpoint = torch.load(f)\n",
        "    \n",
        "loaded = CharLSTM_extended(batch_size=checkpoint['batch_size'],seq_length=checkpoint['seq_length'], \n",
        "                           chars=checkpoint['chars'],\n",
        "                           hidden_dim=checkpoint['hidden_dim'], \n",
        "                           n_layers=checkpoint['n_layers'])\n",
        "loaded.load_state_dict(checkpoint['state_dict'])\n",
        "```\n"
      ]
    },
    {
      "cell_type": "code",
      "metadata": {
        "id": "NT7yvnR4EUcX"
      },
      "source": [
        "class CharLSTM_extended_bestModel(CharLSTM):\n",
        "    \n",
        "    def __init__(self, batch_size, sequence_length, chars, hidden_dim=256, n_layers=2, \n",
        "                 epochs=5, drop_prob=0.5, lr=0.001,clip=5):\n",
        "        \n",
        "        self.chars = chars\n",
        "\n",
        "        self.n_char = len(chars)\n",
        "            \n",
        "        super().__init__(self.n_char, hidden_dim, n_layers,drop_prob)  \n",
        "        \n",
        "        self.batch_size = batch_size\n",
        "        \n",
        "        self.clip = clip\n",
        "        \n",
        "        self.seq_length = sequence_length\n",
        "        \n",
        "        self.num_layers = n_layers\n",
        "        \n",
        "        self.lr = lr #Learning Rate\n",
        "    \n",
        "        self.optim = optim.Adam(self.parameters(), self.lr)\n",
        "        \n",
        "        self.epochs = epochs\n",
        "        \n",
        "        self.criterion = nn.NLLLoss()             \n",
        "        \n",
        "        # A list to store the loss evolution along training and validation\n",
        "        \n",
        "        self.loss_during_training = [] \n",
        "\n",
        "        self.loss_during_validation = []\n",
        "\n",
        "        # Setting GPU training if available\n",
        "        self.device = torch.device(\"cuda\" if torch.cuda.is_available() else \"cpu\")\n",
        "\n",
        "        self.to(self.device)\n",
        "        \n",
        "        # Training mode by default\n",
        "        self.train()\n",
        "        \n",
        "    def get_batches(self,arr):\n",
        "      '''Create a generator that returns batches of size\n",
        "        batch_size x seq_length from arr.\n",
        "        \n",
        "        Arguments\n",
        "        ---------\n",
        "        arr: Array you want to make batches from\n",
        "        batch_size: Batch size, the number of sequences per batch\n",
        "        seq_length: Number of encoded chars in a sequence\n",
        "      '''\n",
        "    \n",
        "      batch_size_total = self.batch_size * self.seq_length\n",
        "      # total number of batches we can make\n",
        "      n_batches = len(arr)//batch_size_total\n",
        "      \n",
        "      # Keep only enough characters to make full batches\n",
        "      arr = arr[:n_batches * batch_size_total]\n",
        "      # Reshape into batch_size rows\n",
        "      arr = arr.reshape((self.batch_size, -1))      # IMPORTANT TO UNDERSTAND THE DIMENSIONS OF arr\n",
        "      \n",
        "      # iterate through the array. We read every of the n_batches sequeces in windows of seq_length characters\n",
        "      for n in range(0, arr.shape[1], self.seq_length):\n",
        "          # The features\n",
        "          x = arr[:, n:n+self.seq_length]\n",
        "          # The targets, shifted by one\n",
        "          y = np.zeros_like(x)\n",
        "          \n",
        "          if (n+self.seq_length<arr.shape[1]):     \n",
        "              y[:,-1] = arr[:, n+self.seq_length]\n",
        "              y[:, :-1] = x[:, 1:]\n",
        "          else: # If n+seq_length == arr.shape[1], then we are done! (arr[:, n+seq_length] yields an indexing error).\n",
        "                # We return a window with one column less (as the target for the last character is not available)\n",
        "              x = arr[:, n:n+self.seq_length-1]\n",
        "              y = np.zeros_like(x)\n",
        "              y[:, :-1] = x[:, 1:]\n",
        "              y[:,-1] = arr[:,-1]            \n",
        "          yield x, y\n",
        "              \n",
        "            \n",
        "    def one_hot_encode(self,arr):\n",
        "        \n",
        "        num_elements = arr.shape[0]*arr.shape[1]\n",
        "    \n",
        "        # Initialize the the encoded array\n",
        "        one_hot = np.zeros([num_elements, self.n_char])\n",
        "        \n",
        "        # Fill the appropriate elements with ones\n",
        "        one_hot[np.arange(one_hot.shape[0]), arr.reshape([num_elements])] = 1.\n",
        "        \n",
        "        # Reshape as (n_batch,seq_length,n_labels)\n",
        "        \n",
        "        return one_hot.reshape(arr.shape[0],arr.shape[1],self.n_char)\n",
        "    \n",
        "    \n",
        "    def trainloop(self,encoded_text_train,encoded_text_valid):\n",
        "        \n",
        "        for e in range(self.epochs):\n",
        "            \n",
        "            h = None\n",
        "            counter = 0.\n",
        "            \n",
        "            start_time = time.time()\n",
        "            \n",
        "            running_loss = 0.\n",
        "            \n",
        "            for x, y in self.get_batches(encoded_text_train):\n",
        "                \n",
        "                counter += 1.\n",
        "                \n",
        "                # One-hot encode our data and make them Torch tensors\n",
        "                x = self.one_hot_encode(x)\n",
        "\n",
        "                x, y = torch.from_numpy(x).to(self.device), torch.from_numpy(y).to(self.device)\n",
        "                \n",
        "                # TO DO: reset gradients \n",
        "                self.optim.zero_grad()  \n",
        "                \n",
        "                # TO DO: compute output\n",
        "               \n",
        "                out, hidden = self.forward(x.float(),h)\n",
        "\n",
        "                \n",
        "                # Calculate the loss and perform backprop\n",
        "                loss = self.criterion(out, y.reshape([out.shape[0],])) \n",
        "                # TO DO: compute gradients\n",
        "                loss.backward()\n",
        "              \n",
        "                # `clip_grad_norm` helps prevent the exploding gradient problem in RNNs / LSTMs.\n",
        "                nn.utils.clip_grad_norm_(self.parameters(), self.clip)\n",
        "                \n",
        "                self.optim.step() \n",
        "                \n",
        "                running_loss += loss.item()\n",
        "                \n",
        "            self.loss_during_training.append(running_loss/counter)\n",
        "\n",
        "            for x, y in self.get_batches(encoded_text_valid):\n",
        "                \n",
        "                counter += 1.\n",
        "                \n",
        "                # One-hot encode our data and make them Torch tensors\n",
        "                x = self.one_hot_encode(x)\n",
        "\n",
        "                x, y = torch.from_numpy(x).to(self.device), torch.from_numpy(y).to(self.device)\n",
        "                # TO DO: reset gradients \n",
        "                self.optim.zero_grad()  \n",
        "                # TO DO: compute output\n",
        "                out, hidden = self.forward(x.float(),h)\n",
        "                # Calculate the loss and perform backprop\n",
        "                loss = self.criterion(out, y.reshape([out.shape[0],])) \n",
        "                # TO DO: compute gradients\n",
        "                loss.backward()\n",
        "                # `clip_grad_norm` helps prevent the exploding gradient problem in RNNs / LSTMs.\n",
        "                nn.utils.clip_grad_norm_(self.parameters(), self.clip)\n",
        "                self.optim.step() \n",
        "                running_loss += loss.item()\n",
        "                \n",
        "            self.loss_during_validation.append(running_loss/counter)\n",
        "\n",
        "            if(e % 1 == 0): \n",
        "              print(\"Epoch %d. Training loss: %f, Validation loss: %f, Time per epoch: %f seconds\" \n",
        "                      %(e,self.loss_during_training[-1],self.loss_during_validation[-1],\n",
        "                       (time.time() - start_time)))     \n",
        "                        \n",
        "            # change the name, for saving multiple files\n",
        "            model_name = 'rnn_' + str(e) + '_epoch.net'\n",
        "            \n",
        "            checkpoint = {'hidden_dim': my_charLSTM.hidden_dim,\n",
        "                          'n_layers': my_charLSTM.n_layers,\n",
        "                          'batch_size': my_charLSTM.batch_size,\n",
        "                          'sequence_length': my_charLSTM.seq_length,\n",
        "                          'state_dict': my_charLSTM.state_dict(),\n",
        "                          'chars': my_charLSTM.chars}\n",
        "            \n",
        "            with open(model_name, 'wb') as f:\n",
        "                torch.save(checkpoint, f)\n",
        "\n"
      ],
      "execution_count": null,
      "outputs": []
    },
    {
      "cell_type": "code",
      "metadata": {
        "id": "GL9-bi0jF_LC"
      },
      "source": [
        "my_charLSTM = CharLSTM_extended_bestModel(batch_size=128,sequence_length=100,chars=chars,\n",
        "                                epochs=10,hidden_dim=512,n_layers=2,drop_prob=0.3)\n"
      ],
      "execution_count": null,
      "outputs": []
    },
    {
      "cell_type": "code",
      "metadata": {
        "id": "bOevHG8PGHvs",
        "colab": {
          "base_uri": "https://localhost:8080/",
          "height": 205
        },
        "outputId": "181e1d87-5631-4f88-bdb5-2221ad8e7a21"
      },
      "source": [
        "\n",
        "train_encoded = encoded[:int(len(encoded)*0.8)]\n",
        "valid_encoded = encoded[int(len(encoded)*0.8):]\n",
        "\n",
        "my_charLSTM.trainloop(train_encoded,valid_encoded)"
      ],
      "execution_count": null,
      "outputs": [
        {
          "output_type": "stream",
          "text": [
            "Epoch 0. Training loss: 3.170657, Validation loss: 3.114840, Time per epoch: 609.973681 seconds\n",
            "Epoch 1. Training loss: 2.490998, Validation loss: 2.461547, Time per epoch: 624.269461 seconds\n",
            "Epoch 2. Training loss: 2.190165, Validation loss: 2.176016, Time per epoch: 612.872092 seconds\n",
            "Epoch 3. Training loss: 2.001552, Validation loss: 1.992642, Time per epoch: 610.788259 seconds\n",
            "Epoch 4. Training loss: 1.861851, Validation loss: 1.856153, Time per epoch: 610.240517 seconds\n",
            "Epoch 5. Training loss: 1.754645, Validation loss: 1.751556, Time per epoch: 613.140962 seconds\n",
            "Epoch 6. Training loss: 1.670021, Validation loss: 1.668271, Time per epoch: 612.900917 seconds\n",
            "Epoch 7. Training loss: 1.599989, Validation loss: 1.599156, Time per epoch: 613.139737 seconds\n",
            "Epoch 8. Training loss: 1.539622, Validation loss: 1.539292, Time per epoch: 611.925907 seconds\n",
            "Epoch 9. Training loss: 1.488829, Validation loss: 1.488979, Time per epoch: 610.710464 seconds\n"
          ],
          "name": "stdout"
        }
      ]
    },
    {
      "cell_type": "code",
      "metadata": {
        "id": "GFZ6CWNFtqxM"
      },
      "source": [
        "\n",
        "# Here we have loaded in a model that trained over 10 epochs `rnn_10_epoch.net`\n",
        "with open('rnn_9_epoch.net', 'rb') as f:\n",
        "    checkpoint = torch.load(f)\n",
        " \n",
        "loaded = CharLSTM_extended_bestModel(batch_size=checkpoint['batch_size'],sequence_length=checkpoint['sequence_length'], \n",
        "                           chars=checkpoint['chars'],\n",
        "                           hidden_dim=checkpoint['hidden_dim'], \n",
        "                           n_layers=checkpoint['n_layers'])\n",
        "loaded.load_state_dict(checkpoint['state_dict'])\n"
      ],
      "execution_count": null,
      "outputs": []
    },
    {
      "cell_type": "markdown",
      "metadata": {
        "id": "7I3WUT9KtqxO"
      },
      "source": [
        "---\n",
        "## Part VI. Making Predictions\n",
        "\n",
        "Now that the model is trained, we'll want to sample from it and make predictions about next characters! To sample, we pass in a character and have the network predict the next character. Then we take that character, pass it back in, and get another predicted character. Just keep doing this and you'll generate a bunch of text!\n",
        "\n",
        "### A note on the `predict`  function\n",
        "\n",
        "The output of our RNN is from a fully-connected layer followed by a Softmax layer, and it outputs a **distribution of next-character scores**.\n",
        "\n",
        "### Top K sampling\n",
        "\n",
        "Our predictions come from a categorical probability distribution over all the possible characters. We can make the sample text and make it more reasonable to handle (with less variables) by only considering some $K$ most probable characters. This will prevent the network from giving us completely absurd characters while allowing it to introduce some noise and randomness into the sampled text. Read more about [topk, here](https://pytorch.org/docs/stable/torch.html#torch.topk).\n",
        "\n",
        "> **Exercise:** Complete the following code"
      ]
    },
    {
      "cell_type": "code",
      "metadata": {
        "id": "vyhRSJb4tqxP"
      },
      "source": [
        "def predict(charLSTM_class, current_char, dict_c2int,h=None, top_k=None):\n",
        "        ''' Given a character, predict the next character.\n",
        "            Returns the predicted character and the hidden state.\n",
        "        '''\n",
        "        \n",
        "        # tensor inputs\n",
        "        x = np.array([[char2int[current_char]]])\n",
        "        x = charLSTM_class.one_hot_encode(x)\n",
        "        \n",
        "        inputs = torch.from_numpy(x)\n",
        "        \n",
        "        charLSTM_class.to('cpu')\n",
        "    \n",
        "        # TO DO: get the output of the model\n",
        "        #YOUR CODE HERE\n",
        "        out, hidden = charLSTM_class.forward(inputs.float(),h)\n",
        "\n",
        "        p, top_ch = torch.exp(out).topk(top_k)\n",
        "        top_ch = top_ch.numpy().squeeze()\n",
        "        \n",
        "        # select the likely next character with some element of randomness\n",
        "        p = p.detach().numpy().squeeze()\n",
        "        char = np.random.choice(top_ch, p=p/p.sum())\n",
        "        \n",
        "        # return the encoded value of the predicted char and the hidden state\n",
        "        return int2char[char], hidden"
      ],
      "execution_count": null,
      "outputs": []
    },
    {
      "cell_type": "markdown",
      "metadata": {
        "id": "HUSo4qIqtqxS"
      },
      "source": [
        "### Generating text from an initial string\n",
        "\n",
        "Typically you'll want to prime the network so you can build up a hidden state. Otherwise the network will start out generating characters at random. In general the first bunch of characters will be a little rough since it hasn't built up a long history of characters to predict from.\n",
        "\n",
        "> **Exercise:** Understand the following code! Nothing to do"
      ]
    },
    {
      "cell_type": "code",
      "metadata": {
        "id": "NourusxitqxT"
      },
      "source": [
        "def sample(charLSTM_class, size, dict_c2int, prime='The', top_k=5):\n",
        "    \n",
        "    charLSTM_class.eval() # eval mode\n",
        "    \n",
        "    # First off, run through the prime characters\n",
        "    chars = [ch for ch in prime]\n",
        "    h = None\n",
        "    for ch in prime:\n",
        "        char, h = predict(charLSTM_class, ch, char2int, h, top_k=top_k)\n",
        "\n",
        "    chars.append(char)\n",
        "    \n",
        "    # Now pass in the previous character and get a new one\n",
        "    for ii in range(size):\n",
        "        char, h = predict(charLSTM_class, chars[-1], char2int, h, top_k=top_k)\n",
        "        chars.append(char)\n",
        "\n",
        "    return ''.join(chars)"
      ],
      "execution_count": null,
      "outputs": []
    },
    {
      "cell_type": "markdown",
      "metadata": {
        "id": "EPcacCbxtqxW"
      },
      "source": [
        "Finally, lets take a look to the text that our model generates"
      ]
    },
    {
      "cell_type": "code",
      "metadata": {
        "id": "iAAgEhV8tqxW",
        "colab": {
          "base_uri": "https://localhost:8080/",
          "height": 406
        },
        "outputId": "892355fb-9209-4a7f-edc3-be2d64ebe0af"
      },
      "source": [
        "print(sample(my_charLSTM, 1000, char2int, prime='Anna', top_k=5))"
      ],
      "execution_count": null,
      "outputs": [
        {
          "output_type": "stream",
          "text": [
            "Anna, who had\n",
            "took any her hand.\"\n",
            "\n",
            "\"You didn't kance\n",
            "this words.\"\n",
            "\n",
            "\"A stepping,\" as the preventer he said at the starming, who had not\n",
            "still made the room he had been and a marriel of her fathing thir hand a sort and alroad was his some was out...\"\n",
            "\n",
            "\"Yes. What she with a good to the moment,\n",
            "and anyw as he happened\n",
            "with him, and though the parance. \"They would be anyway, that woman that he had been to\n",
            "belowed on the children was a land of thein horse of though. The sort, and was at\n",
            "once to sponder, and we all so long\n",
            "him, and there we det them with his head the mistonal, the same word. Through her hand was their\n",
            "cartious, as a secret of the sawes in her, she thought\n",
            "to see the\n",
            "sound with to the feeling when he was at the pacail to him of all the moment wourd all\n",
            "a convicated that it was secintle that his hands.\n",
            "\n",
            "\"I can be depaired here with a subder with a low, to be alone! That is the carriages, without the peination,\" she had been became time the said, seeming to his back in the prayance.\n",
            "\n"
          ],
          "name": "stdout"
        }
      ]
    },
    {
      "cell_type": "code",
      "metadata": {
        "id": "5N9_mkpWtqxY"
      },
      "source": [
        ""
      ],
      "execution_count": null,
      "outputs": []
    }
  ]
}