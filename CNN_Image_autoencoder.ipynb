{
  "nbformat": 4,
  "nbformat_minor": 0,
  "metadata": {
    "kernelspec": {
      "display_name": "Python 3",
      "language": "python",
      "name": "python3"
    },
    "language_info": {
      "codemirror_mode": {
        "name": "ipython",
        "version": 3
      },
      "file_extension": ".py",
      "mimetype": "text/x-python",
      "name": "python",
      "nbconvert_exporter": "python",
      "pygments_lexer": "ipython3",
      "version": "3.7.3"
    },
    "colab": {
      "name": "CNN_Image_autoencoder.ipynb",
      "provenance": [],
      "collapsed_sections": []
    }
  },
  "cells": [
    {
      "cell_type": "markdown",
      "metadata": {
        "id": "1eebA2LlBZjp"
      },
      "source": [
        "\n",
        "\n",
        "In this notebook, we'll build a convolutional autoencoder to compress the MNIST dataset. Then, we will extend the code to implement a denoising autoencoders. The encoder portion will be made of convolutional and pooling layers and the decoder will be made of **transpose convolutional layers** that learn to \"upsample\" a compressed representation.\n",
        "\n",
        "Note: a big part of the following material is a personal wrap-up of [Facebook's Deep Learning Course in Udacity](https://www.udacity.com/course/deep-learning-pytorch--ud188). So all credit goes for them!!"
      ]
    },
    {
      "cell_type": "code",
      "metadata": {
        "id": "z171Zva7BZjq",
        "colab": {
          "base_uri": "https://localhost:8080/",
          "height": 221
        },
        "outputId": "a0a8b08d-a502-4966-984f-d6615a65fc27"
      },
      "source": [
        "from IPython.display import Image\n",
        "from IPython.core.display import HTML \n",
        "\n",
        "Image(url= \"https://iq.opengenus.org/content/images/2019/03/autoencoder_1.png\", width=800, height=200)\n",
        "\n"
      ],
      "execution_count": null,
      "outputs": [
        {
          "output_type": "execute_result",
          "data": {
            "text/html": [
              "<img src=\"https://iq.opengenus.org/content/images/2019/03/autoencoder_1.png\" width=\"800\" height=\"200\"/>"
            ],
            "text/plain": [
              "<IPython.core.display.Image object>"
            ]
          },
          "metadata": {
            "tags": []
          },
          "execution_count": 4
        }
      ]
    },
    {
      "cell_type": "markdown",
      "metadata": {
        "id": "CDeXoa1DBZjw"
      },
      "source": [
        "## Part I. Load MNIST. Visualize images"
      ]
    },
    {
      "cell_type": "code",
      "metadata": {
        "scrolled": true,
        "id": "X1XoXl13BZjy",
        "colab": {
          "base_uri": "https://localhost:8080/",
          "height": 255
        },
        "outputId": "c8c70b6b-2233-4876-fc92-66ae1c44b12c"
      },
      "source": [
        "import torch\n",
        "import numpy as np\n",
        "from torchvision import datasets\n",
        "import torchvision.transforms as transforms\n",
        "\n",
        "# convert data to torch.FloatTensor\n",
        "transform = transforms.ToTensor()\n",
        "\n",
        "# load the training and test datasets\n",
        "train_data = datasets.MNIST(root='data', train=True,\n",
        "                                   download=True, transform=transform)\n",
        "test_data = datasets.MNIST(root='data', train=False,\n",
        "                                  download=True, transform=transform)"
      ],
      "execution_count": null,
      "outputs": [
        {
          "output_type": "stream",
          "text": [
            "\r0it [00:00, ?it/s]"
          ],
          "name": "stderr"
        },
        {
          "output_type": "stream",
          "text": [
            "Downloading http://yann.lecun.com/exdb/mnist/train-images-idx3-ubyte.gz to data/MNIST/raw/train-images-idx3-ubyte.gz\n"
          ],
          "name": "stdout"
        },
        {
          "output_type": "stream",
          "text": [
            "9920512it [00:06, 1602680.79it/s]                            \n"
          ],
          "name": "stderr"
        },
        {
          "output_type": "stream",
          "text": [
            "Extracting data/MNIST/raw/train-images-idx3-ubyte.gz to data/MNIST/raw\n"
          ],
          "name": "stdout"
        },
        {
          "output_type": "stream",
          "text": [
            "  0%|          | 0/28881 [00:00<?, ?it/s]"
          ],
          "name": "stderr"
        },
        {
          "output_type": "stream",
          "text": [
            "Downloading http://yann.lecun.com/exdb/mnist/train-labels-idx1-ubyte.gz to data/MNIST/raw/train-labels-idx1-ubyte.gz\n"
          ],
          "name": "stdout"
        },
        {
          "output_type": "stream",
          "text": [
            "32768it [00:00, 125205.39it/s]           \n",
            "  0%|          | 0/1648877 [00:00<?, ?it/s]"
          ],
          "name": "stderr"
        },
        {
          "output_type": "stream",
          "text": [
            "Extracting data/MNIST/raw/train-labels-idx1-ubyte.gz to data/MNIST/raw\n",
            "Downloading http://yann.lecun.com/exdb/mnist/t10k-images-idx3-ubyte.gz to data/MNIST/raw/t10k-images-idx3-ubyte.gz\n"
          ],
          "name": "stdout"
        },
        {
          "output_type": "stream",
          "text": [
            "1654784it [00:00, 2106632.45it/s]                            \n",
            "0it [00:00, ?it/s]"
          ],
          "name": "stderr"
        },
        {
          "output_type": "stream",
          "text": [
            "Extracting data/MNIST/raw/t10k-images-idx3-ubyte.gz to data/MNIST/raw\n",
            "Downloading http://yann.lecun.com/exdb/mnist/t10k-labels-idx1-ubyte.gz to data/MNIST/raw/t10k-labels-idx1-ubyte.gz\n"
          ],
          "name": "stdout"
        },
        {
          "output_type": "stream",
          "text": [
            "8192it [00:00, 47736.84it/s]            \n"
          ],
          "name": "stderr"
        },
        {
          "output_type": "stream",
          "text": [
            "Extracting data/MNIST/raw/t10k-labels-idx1-ubyte.gz to data/MNIST/raw\n",
            "Processing...\n",
            "Done!\n"
          ],
          "name": "stdout"
        }
      ]
    },
    {
      "cell_type": "markdown",
      "metadata": {
        "id": "yClsBllGBZj0"
      },
      "source": [
        "> **Exercise**: Load the data using the DataLoader class ..."
      ]
    },
    {
      "cell_type": "code",
      "metadata": {
        "id": "sR_GQbnJBZj1"
      },
      "source": [
        "\n",
        "# how many samples per batch to load\n",
        "batch_size = 128\n",
        "\n",
        "# prepare data loaders\n",
        "\n",
        "# Your code here\n",
        "\n",
        "trainloader = torch.utils.data.DataLoader(train_data, batch_size=batch_size, shuffle=True)\n",
        "testloader = torch.utils.data.DataLoader(test_data, batch_size=batch_size, shuffle=True)"
      ],
      "execution_count": null,
      "outputs": []
    },
    {
      "cell_type": "markdown",
      "metadata": {
        "id": "szBYkvcIBZj4"
      },
      "source": [
        "> **Exercise:** Create a validation set with 5000 images"
      ]
    },
    {
      "cell_type": "code",
      "metadata": {
        "id": "ZJBb3hI7BZj5",
        "colab": {
          "base_uri": "https://localhost:8080/",
          "height": 51
        },
        "outputId": "eb5b5d44-2cbe-4bde-e5ab-0229f4a08575"
      },
      "source": [
        "# Your code here\n",
        "\n",
        "import copy\n",
        "validloader = copy.deepcopy(trainloader)  # Creates a copy of the object \n",
        "len_data = trainloader.dataset.train_data.shape[0]\n",
        "\n",
        "#We take all the images except 5000 for training\n",
        "trainloader.dataset.data = trainloader.dataset.data[:5000,:,:]\n",
        "trainloader.dataset.targets = trainloader.dataset.targets[:5000]\n",
        "\n",
        "#And the rest (5000 images) for validation\n",
        "validloader.dataset.data = validloader.dataset.data[5000:,:,:]\n",
        "validloader.dataset.targets = validloader.dataset.targets[5000:]"
      ],
      "execution_count": null,
      "outputs": [
        {
          "output_type": "stream",
          "text": [
            "/usr/local/lib/python3.6/dist-packages/torchvision/datasets/mnist.py:53: UserWarning: train_data has been renamed data\n",
            "  warnings.warn(\"train_data has been renamed data\")\n"
          ],
          "name": "stderr"
        }
      ]
    },
    {
      "cell_type": "markdown",
      "metadata": {
        "id": "S8x-b5z6BZj7"
      },
      "source": [
        "> **Exercise:** Complete the following code to visualize an image. What does `np.squeeze()` do?"
      ]
    },
    {
      "cell_type": "code",
      "metadata": {
        "id": "_vYvwxTtBZj8",
        "colab": {
          "base_uri": "https://localhost:8080/",
          "height": 336
        },
        "outputId": "192c7487-b6ee-4e68-b408-ed172d398e2a"
      },
      "source": [
        "import matplotlib.pyplot as plt\n",
        "%matplotlib inline\n",
        "%config InlineBackend.figure_format = 'retina'\n",
        "    \n",
        "# obtain one batch of training images\n",
        "# Your code here\n",
        "train_iter = iter(trainloader)\n",
        "images, labels = train_iter.next()\n",
        "images = images.numpy()\n",
        "\n",
        "# get one image from the batch\n",
        "#squeeze output: The input array, but with all or a subset of the dimensions of length 1 removed\n",
        "img = np.squeeze(images[1])\n",
        "\n",
        "fig = plt.figure(figsize = (5,5)) \n",
        "ax = fig.add_subplot(111)\n",
        "ax.imshow(img, cmap='gray')"
      ],
      "execution_count": null,
      "outputs": [
        {
          "output_type": "execute_result",
          "data": {
            "text/plain": [
              "<matplotlib.image.AxesImage at 0x7fcab2a30400>"
            ]
          },
          "metadata": {
            "tags": []
          },
          "execution_count": 8
        },
        {
          "output_type": "display_data",
          "data": {
            "image/png": "[encoded data removed]",
            "text/plain": [
              "<Figure size 360x360 with 1 Axes>"
            ]
          },
          "metadata": {
            "tags": [],
            "image/png": {
              "width": 306,
              "height": 302
            }
          }
        }
      ]
    },
    {
      "cell_type": "markdown",
      "metadata": {
        "id": "SCbL0w1EKGfa"
      },
      "source": [
        "What np.squeeze() actually do is to eliminate any axis with size equal to 1"
      ]
    },
    {
      "cell_type": "markdown",
      "metadata": {
        "id": "v8Z_FHzABZj-"
      },
      "source": [
        "---\n",
        "## Part II. Create the convolutional  autoencoder\n",
        "\n",
        "#### Encoder\n",
        "The encoder part of the network will be a typical convolutional pyramid. Each convolutional layer will be followed by a max-pooling layer to reduce the dimensions of the layers. \n",
        "\n",
        "#### Decoder\n",
        "\n",
        "The decoder though might be something new to you. The decoder needs to convert from a narrow representation to a wide, reconstructed image. For example, the representation could be a 7x7x4 max-pool layer. This is the output of the encoder, but also the input to the decoder. We want to get a 28x28x1 image out from the decoder so we need to work our way back up from the compressed representation. A schematic of the network is shown below."
      ]
    },
    {
      "cell_type": "code",
      "metadata": {
        "id": "Z8WxIE6ZBZj_",
        "colab": {
          "base_uri": "https://localhost:8080/",
          "height": 221
        },
        "outputId": "014097c2-bda1-4a48-b3d7-45cd314f4850"
      },
      "source": [
        "Image(url= \"https://iq.opengenus.org/content/images/2019/03/autoencoder_3.png\", width=400, height=200)"
      ],
      "execution_count": null,
      "outputs": [
        {
          "output_type": "execute_result",
          "data": {
            "text/html": [
              "<img src=\"https://iq.opengenus.org/content/images/2019/03/autoencoder_3.png\" width=\"400\" height=\"200\"/>"
            ],
            "text/plain": [
              "<IPython.core.display.Image object>"
            ]
          },
          "metadata": {
            "tags": []
          },
          "execution_count": 9
        }
      ]
    },
    {
      "cell_type": "markdown",
      "metadata": {
        "id": "6ke3lPWBBZkC"
      },
      "source": [
        "\n",
        "Here our final encoder layer has size 7x7x4 = 196. The original images have size 28x28 = 784, so the encoded vector is 25% the size of the original image. These are just suggested sizes for each of the layers. Feel free to change the depths and sizes, in fact, you're encouraged to add additional layers to make this representation even smaller! Remember our goal here is to find a small representation of the input data.\n",
        "\n",
        "### Transpose Convolutions, Decoder\n",
        "\n",
        "This decoder uses **transposed convolutional** layers to increase the width and height of the input layers. They work almost exactly the same as convolutional layers, but in reverse. A stride in the input layer results in a larger stride in the transposed convolution layer. For example, if you have a 3x3 kernel, a 3x3 patch in the input layer will be reduced to one unit in a convolutional layer. Comparatively, one unit in the input layer will be expanded to a 3x3 path in a transposed convolution layer. PyTorch provides us with an easy way to create the layers, [`nn.ConvTranspose2d`](https://pytorch.org/docs/stable/nn.html#convtranspose2d). \n",
        "\n",
        "It is important to note that transpose convolution layers can lead to artifacts in the final images, such as checkerboard patterns. This is due to overlap in the kernels which can be avoided by setting the stride and kernel size equal. In [this Distill article](http://distill.pub/2016/deconv-checkerboard/) from Augustus Odena, *et al*, the authors show that these checkerboard artifacts can be avoided by resizing the layers using nearest neighbor or bilinear interpolation (upsampling) followed by a convolutional layer. \n",
        "\n",
        "> **Exercise:** Complete the following code, in which we build the autoencoder using a series of convolutional layers, pooling layers, and transpose convolutional layers. When building the decoder, recall that transpose convolutional layers can upsample an input by a factor of 2 using a stride and kernel_size of 2. "
      ]
    },
    {
      "cell_type": "code",
      "metadata": {
        "id": "BkQY4MIMBZkD",
        "colab": {
          "base_uri": "https://localhost:8080/",
          "height": 170
        },
        "outputId": "afa79b2a-3db8-46db-c7d0-c5f3490192e8"
      },
      "source": [
        "import torch.nn as nn\n",
        "from torch import optim\n",
        "import time\n",
        "\n",
        "# define the NN architecture\n",
        "class ConvAutoencoder(nn.Module):\n",
        "    def __init__(self):\n",
        "        super().__init__()\n",
        "        \n",
        "        ## Encoder layers ##\n",
        "        # conv layer (depth from 1 --> 16), 3x3 kernels\n",
        "        self.conv1 = nn.Conv2d(1, 16, 3, padding=1) \n",
        "        # conv layer (depth from 16 --> 4), 3x3 kernels\n",
        "        self.conv2 = nn.Conv2d(16, 4, 3, padding=1)\n",
        "        # pooling layer to reduce x-y dims by two; kernel and stride of 2\n",
        "        self.pool = nn.MaxPool2d(2, 2)\n",
        "        \n",
        "        self.relu = nn.ReLU()\n",
        "        # Your code here\n",
        "        \n",
        "        ## decoder layers ##\n",
        "        ## a kernel of 2 and a stride of 2 will increase the spatial dims by 2\n",
        "        self.t_conv1 = nn.ConvTranspose2d(4, 16, 2, stride=2)\n",
        "        self.t_conv2 = nn.ConvTranspose2d(16, 1, 2, stride=2)\n",
        "        self.sigmoid = nn.Sigmoid()\n",
        "\n",
        "\n",
        "    def forward(self, x):\n",
        "        # Your code here\n",
        "        # Encoder\n",
        "        x = self.conv1(x)\n",
        "        x = self.relu(x)\n",
        "        x = self.pool(x)\n",
        "        x = self.conv2(x)\n",
        "        x = self.relu(x)\n",
        "        x = self.pool(x)\n",
        "\n",
        "        #latent =  x.view(-1, 4 * (7**2))# compressed representation!!\n",
        "        #latent =  x.view(-1, 12800)\n",
        "        latent = x\n",
        "        # Your code here\n",
        "        # Decoder\n",
        "        x = self.t_conv1(x)\n",
        "        x = self.relu(x)\n",
        "        x = self.t_conv2(x)\n",
        "        x = self.sigmoid(x)\n",
        "\n",
        "        return x,latent\n",
        "\n",
        "# initialize the NN\n",
        "model = ConvAutoencoder()\n",
        "print(model)"
      ],
      "execution_count": null,
      "outputs": [
        {
          "output_type": "stream",
          "text": [
            "ConvAutoencoder(\n",
            "  (conv1): Conv2d(1, 16, kernel_size=(3, 3), stride=(1, 1), padding=(1, 1))\n",
            "  (conv2): Conv2d(16, 4, kernel_size=(3, 3), stride=(1, 1), padding=(1, 1))\n",
            "  (pool): MaxPool2d(kernel_size=2, stride=2, padding=0, dilation=1, ceil_mode=False)\n",
            "  (relu): ReLU()\n",
            "  (t_conv1): ConvTranspose2d(4, 16, kernel_size=(2, 2), stride=(2, 2))\n",
            "  (t_conv2): ConvTranspose2d(16, 1, kernel_size=(2, 2), stride=(2, 2))\n",
            "  (sigmoid): Sigmoid()\n",
            ")\n"
          ],
          "name": "stdout"
        }
      ]
    },
    {
      "cell_type": "markdown",
      "metadata": {
        "id": "rhqhokZSBZkG"
      },
      "source": [
        "---\n",
        "## Part III. Training\n",
        "\n",
        "> **Exercise:** Extend the class implemented above to inlude a training method which monitors the reconstrution loss in both the training and validation datasets. In [this blog](https://medium.com/udacity-pytorch-challengers/a-brief-overview-of-loss-functions-in-pytorch-c0ddb78068f7) you can find a good summary of Pytorch Loss Functions. For the problem at hand, decide which one is more convenient. \n"
      ]
    },
    {
      "cell_type": "code",
      "metadata": {
        "id": "UYt9sA82BZkH"
      },
      "source": [
        "class ConvAutoencoder_extended(ConvAutoencoder):\n",
        "    \n",
        "    def __init__(self,epochs=100,lr=0.001):\n",
        "        \n",
        "        super().__init__() \n",
        "        \n",
        "        self.lr = lr \n",
        "        \n",
        "        self.optim = optim.Adam(self.parameters(), self.lr)\n",
        "        \n",
        "        self.epochs = epochs\n",
        "        \n",
        "        self.criterion = nn.SmoothL1Loss()\n",
        "        \n",
        "        self.loss_during_training = []\n",
        "        \n",
        "        self.valid_loss_during_training = []\n",
        "    \n",
        "        self.device = torch.device(\"cuda\" if torch.cuda.is_available() else \"cpu\")\n",
        "        \n",
        "        self.to(self.device)\n",
        "        \n",
        "    def trainloop(self,trainloader,validloader):\n",
        "        \n",
        "        # Optimization Loop\n",
        "        \n",
        "        for e in range(int(self.epochs)):\n",
        "            \n",
        "            start_time = time.time()\n",
        "            \n",
        "            running_loss = 0.\n",
        "            \n",
        "            for images, labels in trainloader:\n",
        "\n",
        "              images = images.to(self.device)\n",
        "\n",
        "              out, latent = self.forward(images)\n",
        "\n",
        "              loss = self.criterion(out, images)\n",
        "\n",
        "              running_loss += loss.item()*images.size(0)\n",
        "            \n",
        "              self.optim.zero_grad()\n",
        "\n",
        "              loss.backward()\n",
        "\n",
        "              self.optim.step()   \n",
        "\n",
        "            self.loss_during_training.append(running_loss/len(trainloader))\n",
        "\n",
        "            valid_loss = 0 \n",
        "            \n",
        "            with torch.no_grad():        \n",
        "              \n",
        "              self.eval()    \n",
        "\n",
        "              for images,labels in validloader:\n",
        "                \n",
        "                images=images.to(self.device)\n",
        "                self.optim.zero_grad()\n",
        "\n",
        "                valid_out,_ = self.forward(images)\n",
        "                v_loss = self.criterion(valid_out, images)\n",
        "                valid_loss += v_loss.item()\n",
        "              \n",
        "              self.valid_loss_during_training.append(valid_loss/len(validloader))  \n",
        "              self.train()\n",
        "\n",
        "            if(e % 1 == 0): # Every 10 epochs\n",
        "              print(\"Epoch %d. Training loss: %f, Validation loss: %f, Time per epoch: %f seconds\" \n",
        "                    %(e,self.loss_during_training[-1],self.valid_loss_during_training[-1],\n",
        "                      (time.time() - start_time)))                "
      ],
      "execution_count": null,
      "outputs": []
    },
    {
      "cell_type": "markdown",
      "metadata": {
        "id": "HAamiRqaBZkJ"
      },
      "source": [
        "> **Exercise:** Train the model for 10 epochs and plot both training and validation losses. Can you visualize overfitting?"
      ]
    },
    {
      "cell_type": "code",
      "metadata": {
        "id": "gUI7OGHLBZkK",
        "colab": {
          "base_uri": "https://localhost:8080/",
          "height": 357
        },
        "outputId": "870441ea-342e-4142-9248-a7a57bc0de36"
      },
      "source": [
        "# Your code here\n",
        "\n",
        "my_autoencoder = ConvAutoencoder_extended(epochs=10,lr=1e-3)\n",
        "print(my_autoencoder)\n",
        "\n",
        "my_autoencoder.trainloop(trainloader,validloader)"
      ],
      "execution_count": null,
      "outputs": [
        {
          "output_type": "stream",
          "text": [
            "ConvAutoencoder_extended(\n",
            "  (conv1): Conv2d(1, 16, kernel_size=(3, 3), stride=(1, 1), padding=(1, 1))\n",
            "  (conv2): Conv2d(16, 4, kernel_size=(3, 3), stride=(1, 1), padding=(1, 1))\n",
            "  (pool): MaxPool2d(kernel_size=2, stride=2, padding=0, dilation=1, ceil_mode=False)\n",
            "  (relu): ReLU()\n",
            "  (t_conv1): ConvTranspose2d(4, 16, kernel_size=(2, 2), stride=(2, 2))\n",
            "  (t_conv2): ConvTranspose2d(16, 1, kernel_size=(2, 2), stride=(2, 2))\n",
            "  (sigmoid): Sigmoid()\n",
            "  (criterion): SmoothL1Loss()\n",
            ")\n",
            "Epoch 0. Training loss: 16.317693, Validation loss: 0.119048, Time per epoch: 24.821814 seconds\n",
            "Epoch 1. Training loss: 12.274448, Validation loss: 0.074254, Time per epoch: 23.461591 seconds\n",
            "Epoch 2. Training loss: 6.813861, Validation loss: 0.035955, Time per epoch: 21.585312 seconds\n",
            "Epoch 3. Training loss: 3.637974, Validation loss: 0.025200, Time per epoch: 21.211921 seconds\n",
            "Epoch 4. Training loss: 2.975291, Validation loss: 0.022592, Time per epoch: 23.374534 seconds\n",
            "Epoch 5. Training loss: 2.655657, Validation loss: 0.019968, Time per epoch: 23.485035 seconds\n",
            "Epoch 6. Training loss: 2.329364, Validation loss: 0.017594, Time per epoch: 23.339569 seconds\n",
            "Epoch 7. Training loss: 2.079950, Validation loss: 0.015958, Time per epoch: 18.984093 seconds\n",
            "Epoch 8. Training loss: 1.881582, Validation loss: 0.014341, Time per epoch: 14.158033 seconds\n",
            "Epoch 9. Training loss: 1.692719, Validation loss: 0.013011, Time per epoch: 14.161816 seconds\n"
          ],
          "name": "stdout"
        }
      ]
    },
    {
      "cell_type": "code",
      "metadata": {
        "id": "ZUsvnehiBZkM",
        "colab": {
          "base_uri": "https://localhost:8080/",
          "height": 295
        },
        "outputId": "d8799587-a41d-4353-c591-127f419ac27a"
      },
      "source": [
        "# Your code here\n",
        "\n",
        "plt.plot(my_autoencoder.loss_during_training,'-b',label='Training Loss')\n",
        "plt.plot(my_autoencoder.valid_loss_during_training,'-r',label='Validation Loss')\n",
        "plt.xlabel('Iterations')\n",
        "plt.ylabel('Loss')\n",
        "plt.legend()"
      ],
      "execution_count": null,
      "outputs": [
        {
          "output_type": "execute_result",
          "data": {
            "text/plain": [
              "<matplotlib.legend.Legend at 0x7fcab2532048>"
            ]
          },
          "metadata": {
            "tags": []
          },
          "execution_count": 13
        },
        {
          "output_type": "display_data",
          "data": {
            "image/png": "[encoded data removed]",
            "text/plain": [
              "<Figure size 432x288 with 1 Axes>"
            ]
          },
          "metadata": {
            "tags": [],
            "image/png": {
              "width": 382,
              "height": 261
            }
          }
        }
      ]
    },
    {
      "cell_type": "markdown",
      "metadata": {
        "id": "7an7S5PG6_Mu"
      },
      "source": [
        "We cannot visualize overfitting since the validation error is really small compared to the training error."
      ]
    },
    {
      "cell_type": "markdown",
      "metadata": {
        "id": "KTQQg2W_BZkP"
      },
      "source": [
        "### Checking out the results\n",
        "\n",
        "Below we plot some of the **test images** along with their reconstructions. These look a little rough around the edges, likely due to the checkerboard effect we mentioned above that tends to happen with transpose layers.\n",
        "\n",
        "> **Exercise:** Complete the code (just one line!)"
      ]
    },
    {
      "cell_type": "code",
      "metadata": {
        "id": "_1pnCoe4BZkQ",
        "colab": {
          "base_uri": "https://localhost:8080/",
          "height": 252
        },
        "outputId": "168339b2-ba93-4474-c0b0-d4c99d77c807"
      },
      "source": [
        "# obtain one batch of test images\n",
        "dataiter = iter(testloader)\n",
        "images, labels = dataiter.next()\n",
        "\n",
        "# get sample output\n",
        "\n",
        "#Your code here\n",
        "output,latent = my_autoencoder(images)          \n",
        "# prep images for display\n",
        "images = images.numpy()\n",
        "\n",
        "# output is resized into a batch of images\n",
        "output = output.view(batch_size, 1, 28, 28)\n",
        "# use detach when it's an output that requires_grad\n",
        "output = output.detach().numpy()\n",
        "\n",
        "# plot the first ten input images and then reconstructed images\n",
        "fig, axes = plt.subplots(nrows=2, ncols=10, sharex=True, sharey=True, figsize=(25,4))\n",
        "\n",
        "# input images on top row, reconstructions on bottom\n",
        "for i in range(10):\n",
        "    axes[0,i].imshow(np.squeeze(images[i]), cmap='gray')\n",
        "    axes[1,i].imshow(np.squeeze(output[i]), cmap='gray')\n",
        "\n",
        "    axes[0,i].get_xaxis().set_visible(False) # Remove legend\n",
        "    axes[0,i].get_yaxis().set_visible(False)\n",
        "    axes[1,i].get_xaxis().set_visible(False) # Remove legend\n",
        "    axes[1,i].get_yaxis().set_visible(False)    \n",
        "    "
      ],
      "execution_count": null,
      "outputs": [
        {
          "output_type": "display_data",
          "data": {
            "image/png": "[encoded data removed]",
            "text/plain": [
              "<Figure size 1800x288 with 20 Axes>"
            ]
          },
          "metadata": {
            "tags": [],
            "image/png": {
              "width": 1393,
              "height": 235
            }
          }
        }
      ]
    },
    {
      "cell_type": "markdown",
      "metadata": {
        "id": "Asl5RUoIBZkV"
      },
      "source": [
        "## Part IV. Projecting the images in a 2 dimensional space"
      ]
    },
    {
      "cell_type": "markdown",
      "metadata": {
        "id": "SyzNN9MHBZkW"
      },
      "source": [
        "The results are actually not bad at all!! Now, we are going to project the images in a space of only 2 dimensions (instead of `7x7x4=196`). Obviously, we expect **much worse** reconstruction quality. However, in this case we are indeed interested in the structure of the projected space (i.e. how the autoencoder organizes the images in the 2D latent space). Since reconstruction quality is not our goal, we will implement both the encoder and the decoder using only **two dense layers each**. \n",
        "\n",
        "> **Exercise:** \n",
        "> - Implement the described autoencoder. Use **hiperbolic tangent** activation functions. For shuch a small network, a `ReLU` does not provide good results. \n",
        ">\n",
        "> - Extend the class to incorporate the training loop and the evaluation of the loss function in the validation set during training\n",
        "> \n",
        "> - Train the model a few times and select the one that provides the best results (sometimes you will see the solution gets stuck in a very bad local optima). To do so, **create 10 objects of the same type, train each of them independently for 50 epochs, and finally select the one that provides the smallest validation loss**. \n",
        ">\n",
        ">- For the selected model, compute the encoder's latent representation in the 2D space for a mini-batch of images and visualize 2D projections using the following function:\n",
        "\n",
        "```python\n",
        "\n",
        "from matplotlib.offsetbox import OffsetImage, AnnotationBbox\n",
        "\n",
        "def plot_latent_space_with_images(images,latent):\n",
        "    \n",
        "    # images --> Minibatch of images (numpy array!)\n",
        "    # laent --> Matrix of 2D representations (numpy array!)\n",
        "    \n",
        "    f, ax = plt.subplots(1,1,figsize=(8, 8))\n",
        "    # ax is a figure handle\n",
        "    ax.clear()\n",
        "    for i in range(len(images)):\n",
        "        im = OffsetImage(np.squeeze(images[i]), cmap='gray')\n",
        "        ab = AnnotationBbox(im, latent[i,:],frameon=False)\n",
        "        ax.add_artist(ab)\n",
        "    #We set the limits according to the maximum and minimum values found for the latent projections\n",
        "    ax.set_xlim(-1,1)\n",
        "    ax.set_ylim(-1,1)\n",
        "    ax.set_title('Latent space Z with Images')\n",
        "\n",
        "```\n",
        "\n",
        "\n",
        "\n"
      ]
    },
    {
      "cell_type": "code",
      "metadata": {
        "id": "wE2clEtUBZkX"
      },
      "source": [
        "class ConvAutoencoder2D(nn.Module):\n",
        "    def __init__(self):\n",
        "        super().__init__()\n",
        "        \n",
        "        self.linear1 = nn.Linear(28,14)\n",
        "        \n",
        "        self.linear2 = nn.Linear(14,7)\n",
        "\n",
        "        self.inverseLinear2 = nn.Linear(7,14)\n",
        "        \n",
        "        self.inverseLinear1 = nn.Linear(14,28)\n",
        "\n",
        "        self.tanh = nn.Tanh()\n",
        "\n",
        "        self.sigmoid = nn.Sigmoid()\n",
        "\n",
        "    def forward(self, x):\n",
        "\n",
        "        x = self.linear1(x)\n",
        "        x = self.tanh(x)\n",
        "        x = self.linear2(x)\n",
        "        latent = self.tanh(x)\n",
        "\n",
        "        x = self.inverseLinear2(latent)\n",
        "        x = self.tanh(x)\n",
        "        x = self.inverseLinear1(x)\n",
        "        x = self.sigmoid(x)\n",
        "\n",
        "        return x, latent\n"
      ],
      "execution_count": null,
      "outputs": []
    },
    {
      "cell_type": "code",
      "metadata": {
        "id": "9RY65lgDBZkZ"
      },
      "source": [
        "class ConvAutoencoder2D_extended(ConvAutoencoder2D):\n",
        "    \n",
        "    def __init__(self,epochs=100,lr=0.001):\n",
        "        \n",
        "        super().__init__() \n",
        "        self.lr = lr     \n",
        "        self.optim = optim.Adam(self.parameters(), self.lr)      \n",
        "        self.epochs = epochs\n",
        "        self.criterion = nn.SmoothL1Loss()\n",
        "        self.loss_during_training = []\n",
        "        self.valid_loss_during_training = []\n",
        "        self.device = torch.device(\"cuda\" if torch.cuda.is_available() else \"cpu\")\n",
        "        self.to(self.device)\n",
        "        \n",
        "    def trainloop(self,trainloader,validloader):\n",
        "        \n",
        "        # Optimization Loop\n",
        "        \n",
        "        for e in range(int(self.epochs)):\n",
        "            start_time = time.time()       \n",
        "            running_loss = 0.        \n",
        "            for images, labels in trainloader:\n",
        "              images = images.to(self.device)\n",
        "              out, latent = self.forward(images)\n",
        "              loss = self.criterion(out, images)\n",
        "              running_loss += loss.item()*images.size(0)          \n",
        "              self.optim.zero_grad()\n",
        "              loss.backward()\n",
        "              self.optim.step()   \n",
        "            self.loss_during_training.append(running_loss/len(trainloader))\n",
        "            valid_loss = 0          \n",
        "            with torch.no_grad():            \n",
        "              self.eval()    \n",
        "              for images,labels in validloader:               \n",
        "                images=images.to(self.device)\n",
        "                self.optim.zero_grad()\n",
        "                valid_out,_ = self.forward(images)\n",
        "                v_loss = self.criterion(valid_out, images)\n",
        "                valid_loss += v_loss.item()             \n",
        "              self.valid_loss_during_training.append(valid_loss/len(validloader))  \n",
        "              self.train()\n",
        "            if(e % 10 == 0): # Every 10 epochs\n",
        "              print(\"Epoch %d. Training loss: %f, Validation loss: %f, Time per epoch: %f seconds\" \n",
        "                    %(e,self.loss_during_training[-1],self.valid_loss_during_training[-1],\n",
        "                      (time.time() - start_time))) "
      ],
      "execution_count": null,
      "outputs": []
    },
    {
      "cell_type": "code",
      "metadata": {
        "id": "eCdZDqyU9qjj",
        "colab": {
          "base_uri": "https://localhost:8080/",
          "height": 1000
        },
        "outputId": "0a53b30b-fb07-4cfb-e04f-d07ea24cbfc2"
      },
      "source": [
        "valid_loss_list = []\n",
        "\n",
        "for i in range(10):\n",
        "  print('----')\n",
        "  print('Model ', i+1)\n",
        "  my_autoencoder_2D = ConvAutoencoder2D_extended(epochs=50,lr=1e-3)\n",
        "  my_autoencoder_2D.trainloop(trainloader, validloader)\n",
        "\n",
        "  valid_loss_list.append(my_autoencoder_2D.valid_loss_during_training[-1])\n",
        "  if(valid_loss_list[i] < valid_loss_list[i-1]):\n",
        "        best_model = my_autoencoder_2D\n",
        "        \n",
        "num_best_model = np.argmin(valid_loss_list)\n",
        "print('The best model is:'+str(num_best_model))\n",
        "\n"
      ],
      "execution_count": null,
      "outputs": [
        {
          "output_type": "stream",
          "text": [
            "----\n",
            "Model  1\n",
            "Epoch 0. Training loss: 14.180207, Validation loss: 0.102727, Time per epoch: 5.181826 seconds\n",
            "Epoch 10. Training loss: 3.568056, Validation loss: 0.027709, Time per epoch: 4.784514 seconds\n",
            "Epoch 20. Training loss: 2.166240, Validation loss: 0.016910, Time per epoch: 5.114430 seconds\n",
            "Epoch 30. Training loss: 1.540100, Validation loss: 0.012224, Time per epoch: 4.852467 seconds\n",
            "Epoch 40. Training loss: 1.286766, Validation loss: 0.010251, Time per epoch: 4.973405 seconds\n",
            "----\n",
            "Model  2\n",
            "Epoch 0. Training loss: 13.974759, Validation loss: 0.100726, Time per epoch: 4.895842 seconds\n",
            "Epoch 10. Training loss: 3.934955, Validation loss: 0.030178, Time per epoch: 5.179993 seconds\n",
            "Epoch 20. Training loss: 2.669171, Validation loss: 0.021056, Time per epoch: 4.904420 seconds\n",
            "Epoch 30. Training loss: 2.325957, Validation loss: 0.018528, Time per epoch: 5.131727 seconds\n",
            "Epoch 40. Training loss: 1.496293, Validation loss: 0.011594, Time per epoch: 4.888160 seconds\n",
            "----\n",
            "Model  3\n",
            "Epoch 0. Training loss: 13.357898, Validation loss: 0.096378, Time per epoch: 4.711699 seconds\n",
            "Epoch 10. Training loss: 4.024086, Validation loss: 0.030836, Time per epoch: 4.734210 seconds\n",
            "Epoch 20. Training loss: 2.319627, Validation loss: 0.017745, Time per epoch: 5.394810 seconds\n",
            "Epoch 30. Training loss: 1.489506, Validation loss: 0.011790, Time per epoch: 4.883418 seconds\n",
            "Epoch 40. Training loss: 1.200251, Validation loss: 0.009540, Time per epoch: 4.885115 seconds\n",
            "----\n",
            "Model  4\n",
            "Epoch 0. Training loss: 14.052017, Validation loss: 0.100175, Time per epoch: 4.941848 seconds\n",
            "Epoch 10. Training loss: 4.711770, Validation loss: 0.036420, Time per epoch: 4.952957 seconds\n",
            "Epoch 20. Training loss: 2.768200, Validation loss: 0.021710, Time per epoch: 4.906511 seconds\n",
            "Epoch 30. Training loss: 1.683983, Validation loss: 0.013259, Time per epoch: 4.670130 seconds\n",
            "Epoch 40. Training loss: 1.342459, Validation loss: 0.010675, Time per epoch: 5.059531 seconds\n",
            "----\n",
            "Model  5\n",
            "Epoch 0. Training loss: 13.754399, Validation loss: 0.098375, Time per epoch: 4.854588 seconds\n",
            "Epoch 10. Training loss: 3.587919, Validation loss: 0.028161, Time per epoch: 4.802121 seconds\n",
            "Epoch 20. Training loss: 2.649988, Validation loss: 0.020887, Time per epoch: 4.730705 seconds\n",
            "Epoch 30. Training loss: 1.875879, Validation loss: 0.014504, Time per epoch: 4.594607 seconds\n",
            "Epoch 40. Training loss: 1.271733, Validation loss: 0.010110, Time per epoch: 5.064770 seconds\n",
            "----\n",
            "Model  6\n",
            "Epoch 0. Training loss: 13.359309, Validation loss: 0.095408, Time per epoch: 4.848816 seconds\n",
            "Epoch 10. Training loss: 3.900584, Validation loss: 0.030028, Time per epoch: 4.798987 seconds\n",
            "Epoch 20. Training loss: 2.263397, Validation loss: 0.017609, Time per epoch: 4.847118 seconds\n",
            "Epoch 30. Training loss: 1.579151, Validation loss: 0.012504, Time per epoch: 5.178198 seconds\n",
            "Epoch 40. Training loss: 1.287020, Validation loss: 0.010246, Time per epoch: 4.813680 seconds\n",
            "----\n",
            "Model  7\n",
            "Epoch 0. Training loss: 12.535168, Validation loss: 0.088154, Time per epoch: 5.008370 seconds\n",
            "Epoch 10. Training loss: 4.630734, Validation loss: 0.035526, Time per epoch: 4.906075 seconds\n",
            "Epoch 20. Training loss: 2.592039, Validation loss: 0.020433, Time per epoch: 5.082481 seconds\n",
            "Epoch 30. Training loss: 1.778547, Validation loss: 0.013914, Time per epoch: 4.873291 seconds\n",
            "Epoch 40. Training loss: 1.341791, Validation loss: 0.010610, Time per epoch: 5.032420 seconds\n",
            "----\n",
            "Model  8\n",
            "Epoch 0. Training loss: 13.225849, Validation loss: 0.095418, Time per epoch: 4.765249 seconds\n",
            "Epoch 10. Training loss: 3.492063, Validation loss: 0.026994, Time per epoch: 4.824702 seconds\n",
            "Epoch 20. Training loss: 2.161037, Validation loss: 0.016638, Time per epoch: 4.975811 seconds\n",
            "Epoch 30. Training loss: 1.406731, Validation loss: 0.011151, Time per epoch: 4.744615 seconds\n",
            "Epoch 40. Training loss: 1.059114, Validation loss: 0.008400, Time per epoch: 4.883339 seconds\n",
            "----\n",
            "Model  9\n",
            "Epoch 0. Training loss: 13.648320, Validation loss: 0.096756, Time per epoch: 4.631899 seconds\n",
            "Epoch 10. Training loss: 4.915890, Validation loss: 0.038703, Time per epoch: 4.687515 seconds\n",
            "Epoch 20. Training loss: 2.657720, Validation loss: 0.020937, Time per epoch: 4.978195 seconds\n",
            "Epoch 30. Training loss: 1.668258, Validation loss: 0.013153, Time per epoch: 5.023318 seconds\n",
            "Epoch 40. Training loss: 1.324132, Validation loss: 0.010535, Time per epoch: 4.889363 seconds\n",
            "----\n",
            "Model  10\n",
            "Epoch 0. Training loss: 13.831825, Validation loss: 0.101433, Time per epoch: 4.711184 seconds\n",
            "Epoch 10. Training loss: 3.129130, Validation loss: 0.024391, Time per epoch: 5.126820 seconds\n",
            "Epoch 20. Training loss: 2.331333, Validation loss: 0.018271, Time per epoch: 5.022551 seconds\n",
            "Epoch 30. Training loss: 1.450087, Validation loss: 0.011485, Time per epoch: 4.892467 seconds\n",
            "Epoch 40. Training loss: 1.202796, Validation loss: 0.009602, Time per epoch: 4.735600 seconds\n",
            "The best model is:7\n"
          ],
          "name": "stdout"
        }
      ]
    },
    {
      "cell_type": "code",
      "metadata": {
        "id": "gH0a-vm4-2Pr",
        "colab": {
          "base_uri": "https://localhost:8080/",
          "height": 539
        },
        "outputId": "1d4feeea-00e0-4a18-e810-d9c54f600f0b"
      },
      "source": [
        "import matplotlib.pyplot as plt\n",
        "\n",
        "plt.plot(best_model.loss_during_training,'b')\n",
        "plt.xlabel('Epochs')\n",
        "plt.ylabel('Training Loss')\n",
        "plt.show()\n",
        "\n",
        "\n",
        "\n",
        "\n",
        "plt.plot(best_model.valid_loss_during_training,'r')\n",
        "plt.xlabel('Epochs')\n",
        "plt.ylabel('Validation Loss')\n",
        "plt.show()\n",
        "\n",
        "\n"
      ],
      "execution_count": null,
      "outputs": [
        {
          "output_type": "display_data",
          "data": {
            "image/png": "[encoded data removed]",
            "text/plain": [
              "<Figure size 432x288 with 1 Axes>"
            ]
          },
          "metadata": {
            "tags": [],
            "image/png": {
              "width": 382,
              "height": 261
            }
          }
        },
        {
          "output_type": "display_data",
          "data": {
            "image/png": "[encoded data removed]",
            "text/plain": [
              "<Figure size 432x288 with 1 Axes>"
            ]
          },
          "metadata": {
            "tags": [],
            "image/png": {
              "width": 392,
              "height": 261
            }
          }
        }
      ]
    },
    {
      "cell_type": "code",
      "metadata": {
        "id": "TaYtyqvo-9Hz",
        "colab": {
          "base_uri": "https://localhost:8080/",
          "height": 252
        },
        "outputId": "3bcccfee-93f0-4c4b-efe0-eadadf4a0f2b"
      },
      "source": [
        "# obtain one batch of test images\n",
        "dataiter = iter(testloader)\n",
        "images, labels = dataiter.next()\n",
        "\n",
        "# get sample outputs\n",
        "output,latent = best_model(images)       \n",
        "# prep images for display\n",
        "images = images.numpy()\n",
        "\n",
        "# output is resized into a batch of iages\n",
        "output = output.view(batch_size, 1, 28, 28)\n",
        "# use detach when it's an output that requires_grad\n",
        "output = output.detach().numpy()\n",
        "\n",
        "# plot the first ten input images and then reconstructed images\n",
        "fig, axes = plt.subplots(nrows=2, ncols=10, sharex=True, sharey=True, figsize=(25,4))\n",
        "\n",
        "# input images on top row, reconstructions on bottom\n",
        "for i in range(10):\n",
        "    axes[0,i].imshow(np.squeeze(images[i]), cmap='gray')\n",
        "    axes[1,i].imshow(np.squeeze(output[i]), cmap='gray')\n",
        "\n",
        "    axes[0,i].get_xaxis().set_visible(False) # Remove legend\n",
        "    axes[0,i].get_yaxis().set_visible(False)\n",
        "    axes[1,i].get_xaxis().set_visible(False) # Remove legend\n",
        "    axes[1,i].get_yaxis().set_visible(False)    \n",
        "    "
      ],
      "execution_count": null,
      "outputs": [
        {
          "output_type": "display_data",
          "data": {
            "image/png": "[encoded data removed]",
            "text/plain": [
              "<Figure size 1800x288 with 20 Axes>"
            ]
          },
          "metadata": {
            "tags": [],
            "image/png": {
              "width": 1393,
              "height": 235
            }
          }
        }
      ]
    }
  ]
}